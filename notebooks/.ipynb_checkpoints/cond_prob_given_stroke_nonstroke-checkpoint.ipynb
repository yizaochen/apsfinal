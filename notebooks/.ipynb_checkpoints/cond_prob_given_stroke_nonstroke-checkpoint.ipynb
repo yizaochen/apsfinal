{
 "cells": [
  {
   "cell_type": "markdown",
   "id": "69eb89a5-eec5-4964-a0bc-3731269eae65",
   "metadata": {},
   "source": [
    "Chapter 6: \"中風組內分佈\"與\"非中風組內分佈\"\n",
    "=======================\n",
    "在這個部份，我們把資料分成中風者與非中風者，然後計算不同變數的條件機率"
   ]
  },
  {
   "cell_type": "markdown",
   "id": "521c4aae-3a7f-4f34-adbb-dbb29b4999ba",
   "metadata": {},
   "source": [
    "## A. 年齡\n",
    "- 下圖中，淡藍色Bar 代表的是 $P(\\text{Age Group}~|~\\text{Stroke})$\n",
    "- 深藍色Bar 代表的是 $P(\\text{Age Group}~|~\\text{Non-Stroke})$\n",
    "- 文字註解中，括號代表的是實際的人數\n",
    "\n",
    "```{image} ./images/stroke_age_fill_percentage.png\n",
    ":alt: stroke_age_fill_percentage\n",
    ":class: bg-primary mb-1\n",
    ":width: 600px\n",
    ":align: center\n",
    "```\n",
    "- 非中風族群的年齡分佈就跟這組資料的分佈差不多\n",
    "- <span style=\"color:blue\">在中風族群中，可以看到過了50歲，人數就急遽攀升，直到70-79歲達到高峰。表示中風者裏面都是年歲比較大的人</span>"
   ]
  },
  {
   "cell_type": "markdown",
   "id": "1715fc18-13a5-47bd-9c4b-9f35b1977a3f",
   "metadata": {},
   "source": [
    "## B. 血糖\n",
    "相較於列聯表的分析，我們在這裡把血糖做比較細的分類，分成7群\n",
    "\n",
    "```{image} ./images/glucose_stroke_fill_percentage.png\n",
    ":alt: glucose_stroke_fill_percentage\n",
    ":class: bg-primary mb-1\n",
    ":width: 600px\n",
    ":align: center\n",
    "```\n",
    "\n",
    "- 上圖中，淡藍色Bar 代表的是 $P(\\text{Glucose Group}~|~\\text{Stroke})$\n",
    "- 深藍色Bar 代表的是 $P(\\text{Glucose Group}~|~\\text{Non-Stroke})$\n",
    "- pre-DM:糖尿病前期,  DM: 糖尿病\n",
    "- 首先，非中風者的分佈是雙峰，中風者的分佈也是雙峰。加總起來，如之前看到的，也是雙峰。\n",
    "- 非中風族群裏面，左邊的高峰是正常血糖的人，佔了七成(29.8%+41.1%)。右邊的峰，就相對的矮多了，大約是15%(4.5%+8.7%)。\n",
    "- <span style=\"color:blue\">在中風族群中，左邊的高峰是正常血糖的人，佔了大約五成(23.9%+26.1%)。右邊的高峰，大約是35%。表示中風患者，高血糖的比例的確是提升了。</span>\n",
    "\n",
    "```{image} ./images/glucose_stroke_scale_percentage.png\n",
    ":alt: glucose_stroke_scale_percentage\n",
    ":class: bg-primary mb-1\n",
    ":width: 800px\n",
    ":align: center\n",
    "```\n",
    "- 由於做了更細的分類，我們再一次的呈現反向的條件機率\n",
    "- 上圖中，橘色Bar 代表的是 $P(\\text{Stroke}~|~\\text{Glucose Group})$\n",
    "- 棕色Bar 代表的是 $P(\\text{Non-Stroke}~|~\\text{Glucose Group})$\n",
    "- <span style=\"color:blue\">血糖80-160的族群中，中風的比例差不多，大約都是4%。血糖過了兩百，中風的比例就開始提升，可以看到血糖超高族群，中風與非中風患者的比例是1:3</span>"
   ]
  },
  {
   "cell_type": "markdown",
   "id": "22978071-0c3e-4961-8fb0-171c2ee3aa37",
   "metadata": {},
   "source": [
    "## C. BMI\n",
    "相較於列聯表的分析，我們在這裡把BMI做比較細的分類，分成6群\n",
    "\n",
    "```{image} ./images/stroke_BMI_fill_percentage.png\n",
    ":alt: stroke_BMI_fill_percentage\n",
    ":class: bg-primary mb-1\n",
    ":width: 600px\n",
    ":align: center\n",
    "```\n",
    "\n",
    "- 上圖中，淡藍色Bar 代表的是 $P(\\text{BMI Group}~|~\\text{Stroke})$\n",
    "- 深藍色Bar 代表的是 $P(\\text{BMI Group}~|~\\text{Non-Stroke})$\n",
    "- <span style=\"color:blue\">中風族群裡，正常BMI跟微胖的人大約佔了27%，27$<$BMI$<$35 的人大約佔了50%</span>\n",
    "- <span style=\"color:blue\">非中風族群裡，正常BMI跟微胖的人大約佔了34%，27$<$BMI$<$35 的人大約佔了42%</span>\n",
    "- <span style=\"color:blue\">中風族群裡BMI>35的比例與非中風族群裡>35的比例是差不多的，都是21%</span>\n",
    "<p style=\"page-break-before: always\">\n",
    "\n",
    "```{image} ./images/stroke_BMI_scale_percentage.png\n",
    ":alt: glucose_stroke_scale_percentage\n",
    ":class: bg-primary mb-1\n",
    ":width: 600px\n",
    ":align: center\n",
    "```\n",
    "- 由於做了更細的分類，我們再一次的呈現反向的條件機率\n",
    "- 上圖中，橘色Bar 代表的是 $P(\\text{Stroke}~|~\\text{BMI Group})$\n",
    "- 棕色Bar 代表的是 $P(\\text{Non-Stroke}~|~\\text{BMI Group})$\n",
    "- <span style=\"color:blue\">BMI過了27之後，中風的比例有些微提升，但在非常肥胖的組別(30-35,35-)並沒有特別顯著的提升</span>\n",
    "    \n"
   ]
  },
  {
   "cell_type": "markdown",
   "id": "d165f05f-9fc9-413c-9761-fd071cc86d06",
   "metadata": {},
   "source": [
    "#### [回到目錄](./tablecontent.md)\n",
    "<p style=\"page-break-before: always\">"
   ]
  }
 ],
 "metadata": {
  "kernelspec": {
   "display_name": "Python 3",
   "language": "python",
   "name": "python3"
  },
  "language_info": {
   "codemirror_mode": {
    "name": "ipython",
    "version": 3
   },
   "file_extension": ".py",
   "mimetype": "text/x-python",
   "name": "python",
   "nbconvert_exporter": "python",
   "pygments_lexer": "ipython3",
   "version": "3.8.8"
  }
 },
 "nbformat": 4,
 "nbformat_minor": 5
}
