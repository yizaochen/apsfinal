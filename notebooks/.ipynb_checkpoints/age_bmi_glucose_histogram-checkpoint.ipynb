{
 "cells": [
  {
   "cell_type": "code",
   "execution_count": 1,
   "id": "21c37b08-b24b-4a38-88af-10cb17e34003",
   "metadata": {},
   "outputs": [],
   "source": [
    "from os import path\n",
    "import matplotlib.pyplot as plt\n",
    "import matplotlib.patches as mpatches\n",
    "import numpy as np\n",
    "import pandas as pd"
   ]
  },
  {
   "cell_type": "code",
   "execution_count": 17,
   "id": "7b0bb9c4-7d3f-4b9a-b085-3070bb1f8399",
   "metadata": {},
   "outputs": [],
   "source": [
    "x_array = np.array(range(15,86,10))\n",
    "y_array = np.array([229,422,500,560,660,485,420,149])\n",
    "y_array_percent = (y_array / y_array.sum()) * 100"
   ]
  },
  {
   "cell_type": "code",
   "execution_count": 35,
   "id": "efc41a67-6533-4106-b8ee-c56d56d03f65",
   "metadata": {},
   "outputs": [
    {
     "data": {
      "image/png": "[encoded data removed]",
      "text/plain": [
       "<Figure size 432x288 with 1 Axes>"
      ]
     },
     "metadata": {},
     "output_type": "display_data"
    }
   ],
   "source": [
    "fig, ax = plt.subplots(figsize=(6,4), facecolor=\"white\")\n",
    "\n",
    "width = 10\n",
    "ax.bar(x_array, y_array_percent, width,edgecolor=\"black\", color=\"cornflowerblue\")\n",
    "ax.set_xticks(range(0,101,10))\n",
    "ax.set_ylabel(\"Percentage(%)\")\n",
    "ax.set_xlabel(\"Age\")\n",
    "for x,y in zip(x_array, y_array_percent):\n",
    "    text_str = f'{y:.1f}%'\n",
    "    ax.text(x-4.2, y+0.1, text_str)\n",
    "\n",
    "plt.tight_layout()\n",
    "#plt.savefig(\"age_distribution.png\", dpi=200, transparent=False)\n",
    "plt.show()"
   ]
  },
  {
   "cell_type": "code",
   "execution_count": 2,
   "id": "5b7bad10-dbb8-4f63-a695-f5b889c32830",
   "metadata": {},
   "outputs": [
    {
     "data": {
      "text/html": [
       "<div>\n",
       "<style scoped>\n",
       "    .dataframe tbody tr th:only-of-type {\n",
       "        vertical-align: middle;\n",
       "    }\n",
       "\n",
       "    .dataframe tbody tr th {\n",
       "        vertical-align: top;\n",
       "    }\n",
       "\n",
       "    .dataframe thead th {\n",
       "        text-align: right;\n",
       "    }\n",
       "</style>\n",
       "<table border=\"1\" class=\"dataframe\">\n",
       "  <thead>\n",
       "    <tr style=\"text-align: right;\">\n",
       "      <th></th>\n",
       "      <th>gender</th>\n",
       "      <th>age</th>\n",
       "      <th>hypertension</th>\n",
       "      <th>heart_disease</th>\n",
       "      <th>ever_married</th>\n",
       "      <th>work_type</th>\n",
       "      <th>Residence_type</th>\n",
       "      <th>avg_glucose_level</th>\n",
       "      <th>bmi</th>\n",
       "      <th>smoking_status</th>\n",
       "      <th>stroke</th>\n",
       "    </tr>\n",
       "  </thead>\n",
       "  <tbody>\n",
       "    <tr>\n",
       "      <th>0</th>\n",
       "      <td>Male</td>\n",
       "      <td>67.0</td>\n",
       "      <td>0</td>\n",
       "      <td>1</td>\n",
       "      <td>Yes</td>\n",
       "      <td>Private</td>\n",
       "      <td>Urban</td>\n",
       "      <td>228.69</td>\n",
       "      <td>36.6</td>\n",
       "      <td>formerly smoked</td>\n",
       "      <td>1</td>\n",
       "    </tr>\n",
       "    <tr>\n",
       "      <th>1</th>\n",
       "      <td>Male</td>\n",
       "      <td>80.0</td>\n",
       "      <td>0</td>\n",
       "      <td>1</td>\n",
       "      <td>Yes</td>\n",
       "      <td>Private</td>\n",
       "      <td>Rural</td>\n",
       "      <td>105.92</td>\n",
       "      <td>32.5</td>\n",
       "      <td>never smoked</td>\n",
       "      <td>1</td>\n",
       "    </tr>\n",
       "    <tr>\n",
       "      <th>2</th>\n",
       "      <td>Female</td>\n",
       "      <td>49.0</td>\n",
       "      <td>0</td>\n",
       "      <td>0</td>\n",
       "      <td>Yes</td>\n",
       "      <td>Private</td>\n",
       "      <td>Urban</td>\n",
       "      <td>171.23</td>\n",
       "      <td>34.4</td>\n",
       "      <td>smokes</td>\n",
       "      <td>1</td>\n",
       "    </tr>\n",
       "    <tr>\n",
       "      <th>3</th>\n",
       "      <td>Female</td>\n",
       "      <td>79.0</td>\n",
       "      <td>1</td>\n",
       "      <td>0</td>\n",
       "      <td>Yes</td>\n",
       "      <td>Self-employed</td>\n",
       "      <td>Rural</td>\n",
       "      <td>174.12</td>\n",
       "      <td>24.0</td>\n",
       "      <td>never smoked</td>\n",
       "      <td>1</td>\n",
       "    </tr>\n",
       "    <tr>\n",
       "      <th>4</th>\n",
       "      <td>Male</td>\n",
       "      <td>81.0</td>\n",
       "      <td>0</td>\n",
       "      <td>0</td>\n",
       "      <td>Yes</td>\n",
       "      <td>Private</td>\n",
       "      <td>Urban</td>\n",
       "      <td>186.21</td>\n",
       "      <td>29.0</td>\n",
       "      <td>formerly smoked</td>\n",
       "      <td>1</td>\n",
       "    </tr>\n",
       "  </tbody>\n",
       "</table>\n",
       "</div>"
      ],
      "text/plain": [
       "   gender   age  hypertension  heart_disease ever_married      work_type  \\\n",
       "0    Male  67.0             0              1          Yes        Private   \n",
       "1    Male  80.0             0              1          Yes        Private   \n",
       "2  Female  49.0             0              0          Yes        Private   \n",
       "3  Female  79.0             1              0          Yes  Self-employed   \n",
       "4    Male  81.0             0              0          Yes        Private   \n",
       "\n",
       "  Residence_type  avg_glucose_level   bmi   smoking_status  stroke  \n",
       "0          Urban             228.69  36.6  formerly smoked       1  \n",
       "1          Rural             105.92  32.5     never smoked       1  \n",
       "2          Urban             171.23  34.4           smokes       1  \n",
       "3          Rural             174.12  24.0     never smoked       1  \n",
       "4          Urban             186.21  29.0  formerly smoked       1  "
      ]
     },
     "execution_count": 2,
     "metadata": {},
     "output_type": "execute_result"
    }
   ],
   "source": [
    "csv_in =  path.join('..', 'data', 'healthcare-dataset-stroke-data-cleanbmi-containall.csv')\n",
    "df_in = pd.read_csv(csv_in)\n",
    "df_in.head()"
   ]
  },
  {
   "cell_type": "code",
   "execution_count": 83,
   "id": "3e482aaf-0ef6-4a2a-aad6-5caf31efc1c0",
   "metadata": {},
   "outputs": [],
   "source": [
    "class_list = ['Underweight', 'Normal', 'Overweight']\n",
    "\n",
    "mask = df_in['bmi'] < 18.5\n",
    "df_underweight = df_in[mask]\n",
    "count_underweight = df_underweight.shape[0]\n",
    "\n",
    "mask = (df_in['bmi'] >= 18.5) & (df_in['bmi'] < 25)\n",
    "df_normal= df_in[mask]\n",
    "count_normal = df_normal.shape[0]\n",
    "\n",
    "mask = df_in['bmi'] >= 25\n",
    "df_overweight = df_in[mask]\n",
    "count_overweight = df_overweight.shape[0]\n",
    "\n",
    "total_count = count_underweight + count_normal + count_overweight\n",
    "\n",
    "y_array = np.array([count_underweight, count_normal, count_overweight]) / total_count\n",
    "y_array = y_array * 100"
   ]
  },
  {
   "cell_type": "code",
   "execution_count": 39,
   "id": "854f0491-21fc-49e3-9027-9e9e34df0cfd",
   "metadata": {},
   "outputs": [
    {
     "data": {
      "image/png": "[encoded data removed]",
      "text/plain": [
       "<Figure size 864x288 with 3 Axes>"
      ]
     },
     "metadata": {
      "needs_background": "light"
     },
     "output_type": "display_data"
    }
   ],
   "source": [
    "fig, axes = plt.subplots(ncols=3, figsize=(12,4))\n",
    "width = 1\n",
    "\n",
    "ax = axes[0]\n",
    "x_array = range(3)\n",
    "ax.bar(x_array, y_array, width, edgecolor=\"black\")\n",
    "ax.set_ylabel(\"Percentage(%)\")\n",
    "ax.set_xticks(x_array)\n",
    "ax.set_xticklabels(class_list)\n",
    "for x,y in zip(x_array, y_array):\n",
    "    text_str = f'{y:.1f}%'\n",
    "    ax.text(x-0.15, y+0.8, text_str)\n",
    "ax.set_title(\"This Dataset\")\n",
    "ax.set_ylim(0,85)\n",
    "\n",
    "ax = axes[1]\n",
    "y_array_usa = [1.5, 34.3, 64.2]\n",
    "ax.bar(x_array, y_array_usa, width, edgecolor=\"black\")\n",
    "ax.set_ylabel(\"Percentage(%)\")\n",
    "ax.set_xticks(x_array)\n",
    "ax.set_xticklabels(class_list)\n",
    "for x,y in zip(x_array, y_array_usa):\n",
    "    text_str = f'{y:.1f}%'\n",
    "    ax.text(x-0.15, y+0.8, text_str)\n",
    "ax.set_title(\"US 100000+ adults data\")\n",
    "ax.set_ylim(0,85)\n",
    "\n",
    "ax = axes[2]\n",
    "y_array_tw = [3.7, 52.7, 43.6]\n",
    "ax.bar(x_array, y_array_tw, width, edgecolor=\"black\")\n",
    "ax.set_ylabel(\"Percentage(%)\")\n",
    "ax.set_xticks(x_array)\n",
    "ax.set_xticklabels(class_list)\n",
    "for x,y in zip(x_array, y_array_tw):\n",
    "    text_str = f'{y:.1f}%'\n",
    "    ax.text(x-0.15, y+0.8, text_str)\n",
    "ax.set_title(\"2013-2014 Taiwanese data\\n(from PLoS One. 2017. Chang et al.)\")\n",
    "ax.set_ylim(0,85)\n",
    "\n",
    "plt.tight_layout()\n",
    "#plt.savefig(\"/home/yizaochen/Desktop/drawzone_temp/aps/bmi_distri_compare.svg\")\n",
    "plt.show()"
   ]
  },
  {
   "cell_type": "code",
   "execution_count": 67,
   "id": "20090525-b2bb-4bde-a90c-afe55cb83365",
   "metadata": {},
   "outputs": [
    {
     "data": {
      "text/plain": [
       "13.11"
      ]
     },
     "execution_count": 67,
     "metadata": {},
     "output_type": "execute_result"
    }
   ],
   "source": [
    "bins[1]"
   ]
  },
  {
   "cell_type": "code",
   "execution_count": 78,
   "id": "a1f8554e-ecd9-4aa3-a946-e20369f6d6ce",
   "metadata": {},
   "outputs": [
    {
     "data": {
      "image/png": "[encoded data removed]",
      "text/plain": [
       "<Figure size 432x288 with 1 Axes>"
      ]
     },
     "metadata": {},
     "output_type": "display_data"
    }
   ],
   "source": [
    "fig, ax = plt.subplots(figsize=(6,4), facecolor=\"white\")\n",
    "\n",
    "#N, bins, patches = ax.hist(df_in['bmi'], bins=100, edgecolor='white', linewidth=1)\n",
    "N, bins, patches = ax.hist(df_in['bmi'], bins=100)\n",
    "\n",
    "for bin_value, patch in zip(bins, patches):\n",
    "    if bin_value < 18.5:\n",
    "        patch.set_facecolor('springgreen')\n",
    "    elif (bin_value >= 18.5) and (bin_value < 25):\n",
    "        patch.set_facecolor('lightskyblue')\n",
    "    else:\n",
    "        patch.set_facecolor('tomato')\n",
    "        \n",
    "xticks = [10, 18.5, 25, 30, 40, 50, 60, 70, 80, 90]\n",
    "ax.set_xticks(xticks)\n",
    "ax.set_xticklabels([str(xvalue) for xvalue in xticks])\n",
    "\n",
    "\n",
    "underweight_patch = mpatches.Patch(color='springgreen', label='Underweight')\n",
    "normal_patch = mpatches.Patch(color='lightskyblue', label='Normal')\n",
    "overweight_patch = mpatches.Patch(color='tomato', label='Overweight')\n",
    "ax.legend(handles=[underweight_patch, normal_patch, overweight_patch])\n",
    "\n",
    "ax.set_ylabel(\"Count\")\n",
    "ax.set_xlabel(\"BMI\")\n",
    "\n",
    "plt.tight_layout()\n",
    "#plt.savefig(\"/home/yizaochen/Desktop/drawzone_temp/aps/bmi_distribution.png\", dpi=200, transparent=False)\n",
    "plt.show()"
   ]
  },
  {
   "cell_type": "code",
   "execution_count": 84,
   "id": "4812deb4-81b1-44da-8ede-610053a47c7d",
   "metadata": {},
   "outputs": [
    {
     "data": {
      "text/html": [
       "<div>\n",
       "<style scoped>\n",
       "    .dataframe tbody tr th:only-of-type {\n",
       "        vertical-align: middle;\n",
       "    }\n",
       "\n",
       "    .dataframe tbody tr th {\n",
       "        vertical-align: top;\n",
       "    }\n",
       "\n",
       "    .dataframe thead th {\n",
       "        text-align: right;\n",
       "    }\n",
       "</style>\n",
       "<table border=\"1\" class=\"dataframe\">\n",
       "  <thead>\n",
       "    <tr style=\"text-align: right;\">\n",
       "      <th></th>\n",
       "      <th>gender</th>\n",
       "      <th>age</th>\n",
       "      <th>hypertension</th>\n",
       "      <th>heart_disease</th>\n",
       "      <th>ever_married</th>\n",
       "      <th>work_type</th>\n",
       "      <th>Residence_type</th>\n",
       "      <th>avg_glucose_level</th>\n",
       "      <th>bmi</th>\n",
       "      <th>smoking_status</th>\n",
       "      <th>stroke</th>\n",
       "    </tr>\n",
       "  </thead>\n",
       "  <tbody>\n",
       "    <tr>\n",
       "      <th>168</th>\n",
       "      <td>Female</td>\n",
       "      <td>81.0</td>\n",
       "      <td>0</td>\n",
       "      <td>0</td>\n",
       "      <td>Yes</td>\n",
       "      <td>Self-employed</td>\n",
       "      <td>Rural</td>\n",
       "      <td>81.95</td>\n",
       "      <td>16.9</td>\n",
       "      <td>never smoked</td>\n",
       "      <td>1</td>\n",
       "    </tr>\n",
       "  </tbody>\n",
       "</table>\n",
       "</div>"
      ],
      "text/plain": [
       "     gender   age  hypertension  heart_disease ever_married      work_type  \\\n",
       "168  Female  81.0             0              0          Yes  Self-employed   \n",
       "\n",
       "    Residence_type  avg_glucose_level   bmi smoking_status  stroke  \n",
       "168          Rural              81.95  16.9   never smoked       1  "
      ]
     },
     "execution_count": 84,
     "metadata": {},
     "output_type": "execute_result"
    }
   ],
   "source": [
    "mask = df_underweight['stroke'] == 1\n",
    "df_underweight_stroke = df_underweight[mask]\n",
    "df_underweight_stroke"
   ]
  },
  {
   "cell_type": "code",
   "execution_count": 85,
   "id": "00b13651-893f-44d0-961d-5cffed00c4df",
   "metadata": {},
   "outputs": [
    {
     "data": {
      "image/png": "[encoded data removed]",
      "text/plain": [
       "<Figure size 432x288 with 1 Axes>"
      ]
     },
     "metadata": {},
     "output_type": "display_data"
    }
   ],
   "source": [
    "fig, ax = plt.subplots(figsize=(6,4), facecolor=\"white\")\n",
    "\n",
    "ax.scatter(df_underweight['age'], df_underweight['bmi'])\n",
    "ax.scatter(df_underweight_stroke['age'], df_underweight_stroke['bmi'], color=\"red\")\n",
    "ax.set_xlabel(\"age\")\n",
    "\n",
    "plt.tight_layout()\n",
    "#plt.savefig(\"/home/yizaochen/Desktop/drawzone_temp/aps/bmi_distribution.png\", dpi=200, transparent=False)\n",
    "plt.show()"
   ]
  },
  {
   "cell_type": "code",
   "execution_count": null,
   "id": "d3c53b6c-0556-4b0e-b54b-1f52c5feb787",
   "metadata": {},
   "outputs": [],
   "source": []
  }
 ],
 "metadata": {
  "kernelspec": {
   "display_name": "Python 3",
   "language": "python",
   "name": "python3"
  },
  "language_info": {
   "codemirror_mode": {
    "name": "ipython",
    "version": 3
   },
   "file_extension": ".py",
   "mimetype": "text/x-python",
   "name": "python",
   "nbconvert_exporter": "python",
   "pygments_lexer": "ipython3",
   "version": "3.8.8"
  }
 },
 "nbformat": 4,
 "nbformat_minor": 5
}
