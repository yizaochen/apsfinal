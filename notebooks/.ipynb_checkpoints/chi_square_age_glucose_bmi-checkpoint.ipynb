{
 "cells": [
  {
   "cell_type": "code",
   "execution_count": 1,
   "id": "2ba42377-11a6-40ad-b7d3-f10cbad9d49f",
   "metadata": {},
   "outputs": [],
   "source": [
    "from os import path\n",
    "from apsfinal.tables import ContigencyAgent\n",
    "from scipy.stats import chi2_contingency\n",
    "import numpy as np"
   ]
  },
  {
   "cell_type": "markdown",
   "id": "1eebc317-fc54-4cc5-984a-8216b29b5151",
   "metadata": {},
   "source": [
    "### Step 1: Set initial variables and initialize agent"
   ]
  },
  {
   "cell_type": "code",
   "execution_count": 2,
   "id": "f3775354-1b85-4b0c-9fe5-e329b503a522",
   "metadata": {},
   "outputs": [],
   "source": [
    "csv_in = path.join('..', 'data', 'healthcare-dataset-stroke-data.csv')  # Here, you can change the path you want\n",
    "agent = ContigencyAgent(csv_in)"
   ]
  },
  {
   "cell_type": "markdown",
   "id": "96eed9d9-8d51-40e4-a284-c287d5660aa1",
   "metadata": {},
   "source": [
    "### Step 2: Assign feature1 and feature2"
   ]
  },
  {
   "cell_type": "code",
   "execution_count": 3,
   "id": "0482403a-7a05-4491-883a-907abb672653",
   "metadata": {},
   "outputs": [],
   "source": [
    "# All feature names: gender, age, hypertension, heart_disease, ever_married, work_type,\n",
    "#                    Residence_type, avg_glucose_level, bmi, smoking_status, stroke"
   ]
  },
  {
   "cell_type": "code",
   "execution_count": 4,
   "id": "2659f4e3-3ed9-4a32-ad51-911765e89ef5",
   "metadata": {},
   "outputs": [],
   "source": [
    "feature1 = 'stroke' # top: stroke\n",
    "feature2 = 'bmi' # left: age, work_type, avg_glucose_level, bmi"
   ]
  },
  {
   "cell_type": "markdown",
   "id": "5c53f8c4-5539-411f-9ac9-c1d73d006f17",
   "metadata": {},
   "source": [
    "### Step 3: Show Table"
   ]
  },
  {
   "cell_type": "code",
   "execution_count": 5,
   "id": "98a141f6-4920-4fac-8f7d-421b297661d4",
   "metadata": {},
   "outputs": [
    {
     "name": "stdout",
     "output_type": "stream",
     "text": [
      "╒══════════════╤════════╤═══════════╤═══════════╕\n",
      "│              │ Stroke │ No Stroke │ Row Total │\n",
      "├──────────────┼────────┼───────────┼───────────┤\n",
      "│ <24          │ 26     │ 1292      │ 1318      │\n",
      "├──────────────┼────────┼───────────┼───────────┤\n",
      "│ 24-27        │ 35     │ 774       │ 809       │\n",
      "├──────────────┼────────┼───────────┼───────────┤\n",
      "│ 27-30        │ 50     │ 812       │ 862       │\n",
      "├──────────────┼────────┼───────────┼───────────┤\n",
      "│ 30-35        │ 56     │ 944       │ 1000      │\n",
      "├──────────────┼────────┼───────────┼───────────┤\n",
      "│ >35          │ 42     │ 878       │ 920       │\n",
      "├──────────────┼────────┼───────────┼───────────┤\n",
      "│ Column Total │ 209    │ 4700      │ 4909      │\n",
      "╘══════════════╧════════╧═══════════╧═══════════╛\n",
      "X-square=26.56, df=4, p-value=2.441e-05\n"
     ]
    }
   ],
   "source": [
    "data_array = agent.show_contingency_table(feature1, feature2)"
   ]
  },
  {
   "cell_type": "markdown",
   "id": "274da433-e7c9-4003-ad94-3c5596fd7746",
   "metadata": {},
   "source": [
    "### Step 4: $\\chi^2$ test"
   ]
  },
  {
   "cell_type": "code",
   "execution_count": 17,
   "id": "a7da1e45-ac9b-4c40-b01c-1b7b9bfe7226",
   "metadata": {},
   "outputs": [
    {
     "data": {
      "text/plain": [
       "array([[20, 48, 47, 94, 40],\n",
       "       [2880, 786, 574, 475, 146]], dtype=object)"
      ]
     },
     "execution_count": 17,
     "metadata": {},
     "output_type": "execute_result"
    }
   ],
   "source": [
    "obs_list = list()\n",
    "for col_id in range(len(['Stroke', 'No Stroke'])):\n",
    "    obs_list.append(data_array[1:-1, col_id+1])\n",
    "obs_array = np.array(obs_list)\n",
    "obs_array"
   ]
  },
  {
   "cell_type": "code",
   "execution_count": 18,
   "id": "63e0463b-d468-4471-bb1b-8a1cb7a5e218",
   "metadata": {},
   "outputs": [
    {
     "data": {
      "text/plain": [
       "(398.14772290638064,\n",
       " 6.990541750848635e-85,\n",
       " 4,\n",
       " array([[ 141.3111546 ,   40.63913894,   30.26007828,   27.72622309,\n",
       "            9.06340509],\n",
       "        [2758.6888454 ,  793.36086106,  590.73992172,  541.27377691,\n",
       "          176.93659491]]))"
      ]
     },
     "execution_count": 18,
     "metadata": {},
     "output_type": "execute_result"
    }
   ],
   "source": [
    "chi2_contingency(obs_array, correction=False)"
   ]
  },
  {
   "cell_type": "code",
   "execution_count": 9,
   "id": "bb3db937-606c-4b52-bab9-65bc114c3206",
   "metadata": {},
   "outputs": [],
   "source": [
    "obs = np.array([[10, 10, 20], [20, 20, 20]])\n",
    "chi2, p, dof, ex = chi2_contingency(obs)"
   ]
  },
  {
   "cell_type": "code",
   "execution_count": null,
   "id": "bab27076-72ff-4ad2-b7da-1d6c9eb700b0",
   "metadata": {},
   "outputs": [],
   "source": []
  }
 ],
 "metadata": {
  "kernelspec": {
   "display_name": "Python 3",
   "language": "python",
   "name": "python3"
  },
  "language_info": {
   "codemirror_mode": {
    "name": "ipython",
    "version": 3
   },
   "file_extension": ".py",
   "mimetype": "text/x-python",
   "name": "python",
   "nbconvert_exporter": "python",
   "pygments_lexer": "ipython3",
   "version": "3.8.8"
  }
 },
 "nbformat": 4,
 "nbformat_minor": 5
}
