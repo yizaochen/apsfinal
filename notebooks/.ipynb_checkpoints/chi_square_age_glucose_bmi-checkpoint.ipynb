{
 "cells": [
  {
   "cell_type": "code",
   "execution_count": 1,
   "id": "2ba42377-11a6-40ad-b7d3-f10cbad9d49f",
   "metadata": {},
   "outputs": [],
   "source": [
    "from os import path\n",
    "from apsfinal.tables import ContigencyAgent\n",
    "from scipy.stats import chi2_contingency\n",
    "import matplotlib.pyplot as plt\n",
    "import numpy as np"
   ]
  },
  {
   "cell_type": "markdown",
   "id": "1eebc317-fc54-4cc5-984a-8216b29b5151",
   "metadata": {},
   "source": [
    "### Step 1: Set initial variables and initialize agent"
   ]
  },
  {
   "cell_type": "code",
   "execution_count": 2,
   "id": "f3775354-1b85-4b0c-9fe5-e329b503a522",
   "metadata": {},
   "outputs": [],
   "source": [
    "csv_in = path.join('..', 'data', 'healthcare-dataset-stroke-data-cleanbmi.csv')  # Here, you can change the path you want\n",
    "agent = ContigencyAgent(csv_in)"
   ]
  },
  {
   "cell_type": "markdown",
   "id": "96eed9d9-8d51-40e4-a284-c287d5660aa1",
   "metadata": {},
   "source": [
    "### Step 2: Assign feature1 and feature2"
   ]
  },
  {
   "cell_type": "code",
   "execution_count": 3,
   "id": "0482403a-7a05-4491-883a-907abb672653",
   "metadata": {},
   "outputs": [],
   "source": [
    "# All feature names: gender, age, hypertension, heart_disease, ever_married, work_type,\n",
    "#                    Residence_type, avg_glucose_level, bmi, smoking_status, stroke"
   ]
  },
  {
   "cell_type": "code",
   "execution_count": 4,
   "id": "2659f4e3-3ed9-4a32-ad51-911765e89ef5",
   "metadata": {},
   "outputs": [],
   "source": [
    "feature1 = 'stroke' # top: stroke\n",
    "feature2 = 'bmi' # left: age, age_detail, work_type, avg_glucose_level, bmi"
   ]
  },
  {
   "cell_type": "markdown",
   "id": "5c53f8c4-5539-411f-9ac9-c1d73d006f17",
   "metadata": {},
   "source": [
    "### Step 3: Show Table"
   ]
  },
  {
   "cell_type": "code",
   "execution_count": 7,
   "id": "11146ab1-a1be-480b-96dc-bd2b9027e0e6",
   "metadata": {},
   "outputs": [
    {
     "name": "stdout",
     "output_type": "stream",
     "text": [
      "╒══════════════╤════════╤═══════════╤═══════════╕\n",
      "│              │ Stroke │ No Stroke │ Row Total │\n",
      "├──────────────┼────────┼───────────┼───────────┤\n",
      "│ Underweight  │ 1      │ 48        │ 49        │\n",
      "├──────────────┼────────┼───────────┼───────────┤\n",
      "│ Normal       │ 29     │ 717       │ 746       │\n",
      "├──────────────┼────────┼───────────┼───────────┤\n",
      "│ Overweight   │ 45     │ 636       │ 681       │\n",
      "├──────────────┼────────┼───────────┼───────────┤\n",
      "│ Column Total │ 75     │ 1401      │ 1476      │\n",
      "╘══════════════╧════════╧═══════════╧═══════════╛\n",
      "X-square=6.43, df=2, p-value=4.006e-02\n"
     ]
    }
   ],
   "source": [
    "data_array = agent.show_contingency_table(feature1, feature2)"
   ]
  },
  {
   "cell_type": "code",
   "execution_count": 6,
   "id": "98a141f6-4920-4fac-8f7d-421b297661d4",
   "metadata": {},
   "outputs": [
    {
     "name": "stdout",
     "output_type": "stream",
     "text": [
      "╒══════════════╤═══════════╤═════════════╤═══════════╕\n",
      "│              │ Stroke    │ No Stroke   │ Row Total │\n",
      "├──────────────┼───────────┼─────────────┼───────────┤\n",
      "│ Underweight  │ 1 (2.5)   │ 48 (46.5)   │ 49        │\n",
      "├──────────────┼───────────┼─────────────┼───────────┤\n",
      "│ Normal       │ 29 (37.9) │ 717 (708.1) │ 746       │\n",
      "├──────────────┼───────────┼─────────────┼───────────┤\n",
      "│ Overweight   │ 45 (34.6) │ 636 (646.4) │ 681       │\n",
      "├──────────────┼───────────┼─────────────┼───────────┤\n",
      "│ Column Total │ 75        │ 1401        │ 1476      │\n",
      "╘══════════════╧═══════════╧═════════════╧═══════════╛\n",
      "X-square=6.43, df=2, p-value=4.006e-02\n"
     ]
    }
   ],
   "source": [
    "data_array = agent.show_contingency_table_include_expected_values(feature1, feature2)"
   ]
  },
  {
   "cell_type": "code",
   "execution_count": 8,
   "id": "4e38d23d-8505-47b6-8b2c-6c8c609cf660",
   "metadata": {},
   "outputs": [],
   "source": [
    "x_array = np.array(range(3))\n",
    "denominator = data_array[1:-1,3]\n",
    "numerator = data_array[1:-1,1]\n",
    "y_array = numerator / denominator"
   ]
  },
  {
   "cell_type": "code",
   "execution_count": 11,
   "id": "e8c2a140-7b0f-4107-b3ec-42dd975e36d9",
   "metadata": {},
   "outputs": [
    {
     "data": {
      "image/png": "[encoded data removed]",
      "text/plain": [
       "<Figure size 432x288 with 1 Axes>"
      ]
     },
     "metadata": {
      "needs_background": "light"
     },
     "output_type": "display_data"
    }
   ],
   "source": [
    "fig, ax = plt.subplots(figsize=(6,4))\n",
    "\n",
    "width = 1\n",
    "\n",
    "ax.bar(x_array[0], y_array[0], width,edgecolor=\"black\", color=\"springgreen\")\n",
    "ax.bar(x_array[1], y_array[1], width,edgecolor=\"black\", color=\"lightskyblue\")\n",
    "ax.bar(x_array[2], y_array[2], width,edgecolor=\"black\", color=\"tomato\")\n",
    "\n",
    "#ax.set_xticks([45, 55, 65, 75, 85])\n",
    "ax.set_ylabel(\"P(Stroke | BMI Group)\")\n",
    "ax.set_xlabel(\"BMI Group\")\n",
    "ax.set_xticks(x_array)\n",
    "ax.set_xticklabels(['Underweight', 'Normal', 'Overweight'])\n",
    "\n",
    "for x,y in zip(x_array, y_array):\n",
    "    text_str = f'{y:.2f}'\n",
    "    ax.text(x-0.1, y+0.0005, text_str)\n",
    "\n",
    "plt.tight_layout()\n",
    "#plt.savefig(\"/home/yizaochen/Desktop/drawzone_temp/aps/BMI_condition_prob.svg\")\n",
    "plt.show()"
   ]
  },
  {
   "cell_type": "code",
   "execution_count": 14,
   "id": "192413d4-125b-4580-a875-1950eccc6e7e",
   "metadata": {},
   "outputs": [],
   "source": [
    "x_array = np.array(range(4))\n",
    "denominator = data_array[1:-1,3]\n",
    "numerator = data_array[1:-1,1]\n",
    "y_array = numerator / denominator"
   ]
  },
  {
   "cell_type": "code",
   "execution_count": 28,
   "id": "5e4aa7d7-399d-4fb3-9179-8bb7677af27c",
   "metadata": {},
   "outputs": [
    {
     "data": {
      "image/png": "[encoded data removed]",
      "text/plain": [
       "<Figure size 432x288 with 1 Axes>"
      ]
     },
     "metadata": {
      "needs_background": "light"
     },
     "output_type": "display_data"
    }
   ],
   "source": [
    "fig, ax = plt.subplots(figsize=(6,4))\n",
    "\n",
    "width = 1\n",
    "ax.bar(x_array, y_array, width,edgecolor=\"black\", color=\"cornflowerblue\")\n",
    "#ax.set_xticks([45, 55, 65, 75, 85])\n",
    "ax.set_ylabel(\"P(Stroke | Glucose Group)\")\n",
    "ax.set_xlabel(\"Glucose Group\")\n",
    "ax.set_xticks(x_array)\n",
    "ax.set_xticklabels([\"<80\", \"80-110\", \"110-160\", \">160\"])\n",
    "\n",
    "for x,y in zip(x_array, y_array):\n",
    "    text_str = f'{y:.2f}'\n",
    "    ax.text(x-0.1, y+0.001, text_str)\n",
    "\n",
    "plt.tight_layout()\n",
    "#plt.savefig(\"/home/yizaochen/Desktop/drawzone_temp/aps/glucose_condition_prob.svg\")\n",
    "plt.show()"
   ]
  },
  {
   "cell_type": "code",
   "execution_count": 22,
   "id": "32e3af80-4656-4bd4-8bbb-eef5837a5021",
   "metadata": {},
   "outputs": [],
   "source": [
    "x_array = np.array(range(15,86,10))\n",
    "denominator = data_array[1:-1,3]\n",
    "numerator = data_array[1:-1,1]\n",
    "y_array = numerator / denominator"
   ]
  },
  {
   "cell_type": "code",
   "execution_count": 36,
   "id": "b102886e-73bf-46cf-8147-ec3e8501400d",
   "metadata": {},
   "outputs": [
    {
     "data": {
      "image/png": "[encoded data removed]",
      "text/plain": [
       "<Figure size 432x288 with 1 Axes>"
      ]
     },
     "metadata": {
      "needs_background": "light"
     },
     "output_type": "display_data"
    }
   ],
   "source": [
    "fig, ax = plt.subplots(figsize=(6,4))\n",
    "\n",
    "width = 10\n",
    "ax.bar(x_array, y_array, width,edgecolor=\"black\", color=\"cornflowerblue\")\n",
    "ax.set_xticks(range(0,101,10))\n",
    "ax.set_ylabel(\"P(Stroke | Age Group)\")\n",
    "ax.set_xlabel(\"Age\")\n",
    "for x,y in zip(x_array, y_array):\n",
    "    text_str = f'{y:.2f}'\n",
    "    ax.text(x-4, y+0.002, text_str)\n",
    "\n",
    "plt.tight_layout()\n",
    "#plt.savefig(\"/home/yizaochen/Desktop/drawzone_temp/aps/age_condition_prob.svg\")\n",
    "plt.show()"
   ]
  },
  {
   "cell_type": "code",
   "execution_count": 40,
   "id": "1bf693c4-2b0f-42a2-99c0-b392e30c7b21",
   "metadata": {},
   "outputs": [],
   "source": [
    "x_array = np.array(range(45,86,10))\n",
    "denominator = data_array[1:-1,3]\n",
    "numerator = data_array[1:-1,1]\n",
    "y_array = numerator / denominator"
   ]
  },
  {
   "cell_type": "code",
   "execution_count": 50,
   "id": "6464566a-303a-4caa-bd40-506ce45b3723",
   "metadata": {},
   "outputs": [
    {
     "data": {
      "image/png": "[encoded data removed]",
      "text/plain": [
       "<Figure size 432x288 with 1 Axes>"
      ]
     },
     "metadata": {
      "needs_background": "light"
     },
     "output_type": "display_data"
    }
   ],
   "source": [
    "fig, ax = plt.subplots(figsize=(6,4))\n",
    "\n",
    "width = 10\n",
    "ax.bar(x_array, y_array, width,edgecolor=\"black\", color=\"cornflowerblue\")\n",
    "ax.set_xticks([45, 55, 65, 75, 85])\n",
    "ax.set_ylabel(\"P(Stroke | Age Group)\")\n",
    "ax.set_xlabel(\"Age Group\")\n",
    "ax.set_xlim(30,100)\n",
    "for x,y in zip(x_array, y_array):\n",
    "    text_str = f'{y:.2f}'\n",
    "    ax.text(x-2, y+0.002, text_str)\n",
    "ax.set_xticklabels([\"<50\", \"50-60\", \"60-70\", \"70-80\", \"80-90\"])\n",
    "\n",
    "\n",
    "plt.tight_layout()\n",
    "#plt.savefig(\"/home/yizaochen/Desktop/drawzone_temp/aps/age_condition_prob2.svg\")\n",
    "plt.show()"
   ]
  },
  {
   "cell_type": "markdown",
   "id": "274da433-e7c9-4003-ad94-3c5596fd7746",
   "metadata": {},
   "source": [
    "### Step 4: $\\chi^2$ test"
   ]
  },
  {
   "cell_type": "code",
   "execution_count": 17,
   "id": "a7da1e45-ac9b-4c40-b01c-1b7b9bfe7226",
   "metadata": {},
   "outputs": [
    {
     "data": {
      "text/plain": [
       "array([[20, 48, 47, 94, 40],\n",
       "       [2880, 786, 574, 475, 146]], dtype=object)"
      ]
     },
     "execution_count": 17,
     "metadata": {},
     "output_type": "execute_result"
    }
   ],
   "source": [
    "obs_list = list()\n",
    "for col_id in range(len(['Stroke', 'No Stroke'])):\n",
    "    obs_list.append(data_array[1:-1, col_id+1])\n",
    "obs_array = np.array(obs_list)\n",
    "obs_array"
   ]
  },
  {
   "cell_type": "code",
   "execution_count": 18,
   "id": "63e0463b-d468-4471-bb1b-8a1cb7a5e218",
   "metadata": {},
   "outputs": [
    {
     "data": {
      "text/plain": [
       "(398.14772290638064,\n",
       " 6.990541750848635e-85,\n",
       " 4,\n",
       " array([[ 141.3111546 ,   40.63913894,   30.26007828,   27.72622309,\n",
       "            9.06340509],\n",
       "        [2758.6888454 ,  793.36086106,  590.73992172,  541.27377691,\n",
       "          176.93659491]]))"
      ]
     },
     "execution_count": 18,
     "metadata": {},
     "output_type": "execute_result"
    }
   ],
   "source": [
    "chi2_contingency(obs_array, correction=False)"
   ]
  },
  {
   "cell_type": "code",
   "execution_count": 9,
   "id": "bb3db937-606c-4b52-bab9-65bc114c3206",
   "metadata": {},
   "outputs": [],
   "source": [
    "obs = np.array([[10, 10, 20], [20, 20, 20]])\n",
    "chi2, p, dof, ex = chi2_contingency(obs)"
   ]
  },
  {
   "cell_type": "code",
   "execution_count": null,
   "id": "bab27076-72ff-4ad2-b7da-1d6c9eb700b0",
   "metadata": {},
   "outputs": [],
   "source": []
  }
 ],
 "metadata": {
  "kernelspec": {
   "display_name": "Python 3",
   "language": "python",
   "name": "python3"
  },
  "language_info": {
   "codemirror_mode": {
    "name": "ipython",
    "version": 3
   },
   "file_extension": ".py",
   "mimetype": "text/x-python",
   "name": "python",
   "nbconvert_exporter": "python",
   "pygments_lexer": "ipython3",
   "version": "3.8.8"
  }
 },
 "nbformat": 4,
 "nbformat_minor": 5
}
