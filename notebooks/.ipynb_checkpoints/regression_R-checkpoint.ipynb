{
 "cells": [
  {
   "cell_type": "markdown",
   "id": "89abe953-e165-47e5-ba7d-b61e361b1212",
   "metadata": {},
   "source": [
    "### Read csv file"
   ]
  },
  {
   "cell_type": "code",
   "execution_count": 6,
   "id": "789a519e-a576-4b11-861f-6264781a98b8",
   "metadata": {},
   "outputs": [
    {
     "data": {
      "text/html": [
       "<table>\n",
       "<thead><tr><th scope=col>age</th><th scope=col>hypertension</th><th scope=col>heart_disease</th><th scope=col>ever_married</th><th scope=col>work_type</th><th scope=col>avg_glucose_level</th><th scope=col>bmi</th><th scope=col>smoking_status</th><th scope=col>stroke</th></tr></thead>\n",
       "<tbody>\n",
       "\t<tr><td>67             </td><td>0              </td><td>1              </td><td>Yes            </td><td>Private        </td><td>228.69         </td><td>36.6           </td><td>formerly smoked</td><td>1              </td></tr>\n",
       "\t<tr><td>80             </td><td>0              </td><td>1              </td><td>Yes            </td><td>Private        </td><td>105.92         </td><td>32.5           </td><td>never smoked   </td><td>1              </td></tr>\n",
       "\t<tr><td>49             </td><td>0              </td><td>0              </td><td>Yes            </td><td>Private        </td><td>171.23         </td><td>34.4           </td><td>smokes         </td><td>1              </td></tr>\n",
       "\t<tr><td>79             </td><td>1              </td><td>0              </td><td>Yes            </td><td>Self-employed  </td><td>174.12         </td><td>24.0           </td><td>never smoked   </td><td>1              </td></tr>\n",
       "\t<tr><td>81             </td><td>0              </td><td>0              </td><td>Yes            </td><td>Private        </td><td>186.21         </td><td>29.0           </td><td>formerly smoked</td><td>1              </td></tr>\n",
       "\t<tr><td>74             </td><td>1              </td><td>1              </td><td>Yes            </td><td>Private        </td><td> 70.09         </td><td>27.4           </td><td>never smoked   </td><td>1              </td></tr>\n",
       "</tbody>\n",
       "</table>\n"
      ],
      "text/latex": [
       "\\begin{tabular}{r|lllllllll}\n",
       " age & hypertension & heart\\_disease & ever\\_married & work\\_type & avg\\_glucose\\_level & bmi & smoking\\_status & stroke\\\\\n",
       "\\hline\n",
       "\t 67              & 0               & 1               & Yes             & Private         & 228.69          & 36.6            & formerly smoked & 1              \\\\\n",
       "\t 80              & 0               & 1               & Yes             & Private         & 105.92          & 32.5            & never smoked    & 1              \\\\\n",
       "\t 49              & 0               & 0               & Yes             & Private         & 171.23          & 34.4            & smokes          & 1              \\\\\n",
       "\t 79              & 1               & 0               & Yes             & Self-employed   & 174.12          & 24.0            & never smoked    & 1              \\\\\n",
       "\t 81              & 0               & 0               & Yes             & Private         & 186.21          & 29.0            & formerly smoked & 1              \\\\\n",
       "\t 74              & 1               & 1               & Yes             & Private         &  70.09          & 27.4            & never smoked    & 1              \\\\\n",
       "\\end{tabular}\n"
      ],
      "text/markdown": [
       "\n",
       "| age | hypertension | heart_disease | ever_married | work_type | avg_glucose_level | bmi | smoking_status | stroke |\n",
       "|---|---|---|---|---|---|---|---|---|\n",
       "| 67              | 0               | 1               | Yes             | Private         | 228.69          | 36.6            | formerly smoked | 1               |\n",
       "| 80              | 0               | 1               | Yes             | Private         | 105.92          | 32.5            | never smoked    | 1               |\n",
       "| 49              | 0               | 0               | Yes             | Private         | 171.23          | 34.4            | smokes          | 1               |\n",
       "| 79              | 1               | 0               | Yes             | Self-employed   | 174.12          | 24.0            | never smoked    | 1               |\n",
       "| 81              | 0               | 0               | Yes             | Private         | 186.21          | 29.0            | formerly smoked | 1               |\n",
       "| 74              | 1               | 1               | Yes             | Private         |  70.09          | 27.4            | never smoked    | 1               |\n",
       "\n"
      ],
      "text/plain": [
       "  age hypertension heart_disease ever_married work_type     avg_glucose_level\n",
       "1 67  0            1             Yes          Private       228.69           \n",
       "2 80  0            1             Yes          Private       105.92           \n",
       "3 49  0            0             Yes          Private       171.23           \n",
       "4 79  1            0             Yes          Self-employed 174.12           \n",
       "5 81  0            0             Yes          Private       186.21           \n",
       "6 74  1            1             Yes          Private        70.09           \n",
       "  bmi  smoking_status  stroke\n",
       "1 36.6 formerly smoked 1     \n",
       "2 32.5 never smoked    1     \n",
       "3 34.4 smokes          1     \n",
       "4 24.0 never smoked    1     \n",
       "5 29.0 formerly smoked 1     \n",
       "6 27.4 never smoked    1     "
      ]
     },
     "metadata": {},
     "output_type": "display_data"
    }
   ],
   "source": [
    "strokedata <- read.csv(file = '../data/healthcare-dataset-stroke-data-cleanbmi.csv')\n",
    "head(strokedata)"
   ]
  },
  {
   "cell_type": "code",
   "execution_count": 7,
   "id": "a9824bed-dd83-47a8-a17b-2e048203cf88",
   "metadata": {},
   "outputs": [
    {
     "data": {
      "text/html": [
       "<ol class=list-inline>\n",
       "\t<li>3426</li>\n",
       "\t<li>9</li>\n",
       "</ol>\n"
      ],
      "text/latex": [
       "\\begin{enumerate*}\n",
       "\\item 3426\n",
       "\\item 9\n",
       "\\end{enumerate*}\n"
      ],
      "text/markdown": [
       "1. 3426\n",
       "2. 9\n",
       "\n",
       "\n"
      ],
      "text/plain": [
       "[1] 3426    9"
      ]
     },
     "metadata": {},
     "output_type": "display_data"
    }
   ],
   "source": [
    "dim(strokedata)"
   ]
  },
  {
   "cell_type": "markdown",
   "id": "4816c5be-5104-44d5-a017-4166b1a844a9",
   "metadata": {},
   "source": [
    "## Full Categorial Model\n",
    "\\begin{equation}\n",
    "\\log{\\left(\\frac{P[\\rm{stroke}=1]}{P[\\rm{stroke}=0]}\\right)} = \\beta_0 + \\beta_{\\rm{hypert}}x_{\\rm{hypert}}+ \\beta_{\\rm{heartd}}x_{\\rm{heartd}}+ \\beta_{\\rm{marry}}x_{\\rm{marry}}+ \\beta_{\\rm{worktype}}x_{\\rm{worktype}} + \\beta_{\\rm{smoke}}x_{\\rm{smoke}}\n",
    "\\end{equation}"
   ]
  },
  {
   "cell_type": "code",
   "execution_count": 9,
   "id": "23edc1af-e2da-4399-8e30-64a9395e477a",
   "metadata": {},
   "outputs": [
    {
     "data": {
      "text/plain": [
       "\n",
       "Call:\n",
       "glm(formula = stroke ~ hypertension + heart_disease + ever_married + \n",
       "    work_type + smoking_status, family = binomial(link = \"logit\"), \n",
       "    data = strokedata)\n",
       "\n",
       "Deviance Residuals: \n",
       "    Min       1Q   Median       3Q      Max  \n",
       "-1.0119  -0.3134  -0.2775  -0.2303   2.8509  \n",
       "\n",
       "Coefficients:\n",
       "                             Estimate Std. Error z value Pr(>|z|)    \n",
       "(Intercept)                 -17.36665  479.43349  -0.036   0.9711    \n",
       "hypertension                  1.11386    0.17511   6.361 2.01e-10 ***\n",
       "heart_disease                 1.22618    0.20969   5.848 4.99e-09 ***\n",
       "ever_marriedYes               0.62791    0.24625   2.550   0.0108 *  \n",
       "work_typeGovt_job            13.56898  479.43358   0.028   0.9774    \n",
       "work_typeNever_worked         0.04929 1160.95260   0.000   1.0000    \n",
       "work_typePrivate             13.74972  479.43353   0.029   0.9771    \n",
       "work_typeSelf-employed       13.99617  479.43356   0.029   0.9767    \n",
       "smoking_statusnever smoked   -0.24871    0.18274  -1.361   0.1735    \n",
       "smoking_statussmokes         -0.17918    0.22028  -0.813   0.4160    \n",
       "---\n",
       "Signif. codes:  0 ‘***’ 0.001 ‘**’ 0.01 ‘*’ 0.05 ‘.’ 0.1 ‘ ’ 1\n",
       "\n",
       "(Dispersion parameter for binomial family taken to be 1)\n",
       "\n",
       "    Null deviance: 1411.0  on 3425  degrees of freedom\n",
       "Residual deviance: 1305.5  on 3416  degrees of freedom\n",
       "AIC: 1325.5\n",
       "\n",
       "Number of Fisher Scoring iterations: 16\n"
      ]
     },
     "metadata": {},
     "output_type": "display_data"
    }
   ],
   "source": [
    "model_cate_full = glm(stroke ~ hypertension + heart_disease + ever_married + work_type + smoking_status, data=strokedata, family=binomial(link=\"logit\"))\n",
    "summary(model_cate_full)"
   ]
  },
  {
   "cell_type": "markdown",
   "id": "367fa5b2-5867-4859-a29f-15890cc5c494",
   "metadata": {},
   "source": [
    "# Single Categorical Models"
   ]
  },
  {
   "cell_type": "markdown",
   "id": "b2b3b56d-b01d-41ca-8017-f2bbe1a004df",
   "metadata": {},
   "source": [
    "## Hypertension Model\n",
    "\\begin{equation}\n",
    "\\log{\\left(\\frac{P[\\rm{stroke}=1]}{P[\\rm{stroke}=0]}\\right)} = \\beta_0 + \\beta_{\\rm{hypert}}x_{\\rm{hypert}}\n",
    "\\end{equation}"
   ]
  },
  {
   "cell_type": "code",
   "execution_count": 14,
   "id": "292d389a-bdf7-4a13-90e1-fddfec9ccdc1",
   "metadata": {},
   "outputs": [
    {
     "data": {
      "text/plain": [
       "\n",
       "Call:\n",
       "glm(formula = stroke ~ hypertension, family = binomial(link = \"logit\"), \n",
       "    data = strokedata)\n",
       "\n",
       "Deviance Residuals: \n",
       "    Min       1Q   Median       3Q      Max  \n",
       "-0.5486  -0.2885  -0.2885  -0.2885   2.5299  \n",
       "\n",
       "Coefficients:\n",
       "             Estimate Std. Error z value Pr(>|z|)    \n",
       "(Intercept)  -3.15856    0.09206 -34.309  < 2e-16 ***\n",
       "hypertension  1.34082    0.16991   7.892 2.99e-15 ***\n",
       "---\n",
       "Signif. codes:  0 ‘***’ 0.001 ‘**’ 0.01 ‘*’ 0.05 ‘.’ 0.1 ‘ ’ 1\n",
       "\n",
       "(Dispersion parameter for binomial family taken to be 1)\n",
       "\n",
       "    Null deviance: 1411.0  on 3425  degrees of freedom\n",
       "Residual deviance: 1358.2  on 3424  degrees of freedom\n",
       "AIC: 1362.2\n",
       "\n",
       "Number of Fisher Scoring iterations: 6\n"
      ]
     },
     "metadata": {},
     "output_type": "display_data"
    }
   ],
   "source": [
    "model_hypert = glm(stroke ~ hypertension, data=strokedata, family=binomial(link=\"logit\"))\n",
    "summary(model_hypert)"
   ]
  },
  {
   "cell_type": "markdown",
   "id": "1096e909-5669-4d2a-9c14-cf1718f41bba",
   "metadata": {},
   "source": [
    "## Heart-disease Model\n",
    "\\begin{equation}\n",
    "\\log{\\left(\\frac{P[\\rm{stroke}=1]}{P[\\rm{stroke}=0]}\\right)} = \\beta_0 + \\beta_{\\rm{heartd}}x_{\\rm{heartd}}\n",
    "\\end{equation}"
   ]
  },
  {
   "cell_type": "code",
   "execution_count": 16,
   "id": "25b15d47-4249-428d-9357-8744e03c01bf",
   "metadata": {},
   "outputs": [
    {
     "data": {
      "text/plain": [
       "\n",
       "Call:\n",
       "glm(formula = stroke ~ heart_disease, family = binomial(link = \"logit\"), \n",
       "    data = strokedata)\n",
       "\n",
       "Deviance Residuals: \n",
       "    Min       1Q   Median       3Q      Max  \n",
       "-0.6198  -0.3025  -0.3025  -0.3025   2.4929  \n",
       "\n",
       "Coefficients:\n",
       "              Estimate Std. Error z value Pr(>|z|)    \n",
       "(Intercept)   -3.06157    0.08525  -35.91  < 2e-16 ***\n",
       "heart_disease  1.50929    0.20231    7.46 8.62e-14 ***\n",
       "---\n",
       "Signif. codes:  0 ‘***’ 0.001 ‘**’ 0.01 ‘*’ 0.05 ‘.’ 0.1 ‘ ’ 1\n",
       "\n",
       "(Dispersion parameter for binomial family taken to be 1)\n",
       "\n",
       "    Null deviance: 1411.0  on 3425  degrees of freedom\n",
       "Residual deviance: 1367.3  on 3424  degrees of freedom\n",
       "AIC: 1371.3\n",
       "\n",
       "Number of Fisher Scoring iterations: 5\n"
      ]
     },
     "metadata": {},
     "output_type": "display_data"
    }
   ],
   "source": [
    "model_heartd = glm(stroke ~ heart_disease, data=strokedata, family=binomial(link=\"logit\"))\n",
    "summary(model_heartd)"
   ]
  },
  {
   "cell_type": "markdown",
   "id": "3e13b899-a87e-484d-9b35-f440c4299a1e",
   "metadata": {},
   "source": [
    "## Ever-Marry Model\n",
    "\\begin{equation}\n",
    "\\log{\\left(\\frac{P[\\rm{stroke}=1]}{P[\\rm{stroke}=0]}\\right)} = \\beta_0 + \\beta_{\\rm{marry}}x_{\\rm{marry}}\n",
    "\\end{equation}"
   ]
  },
  {
   "cell_type": "code",
   "execution_count": 17,
   "id": "8d7b176b-724e-4dda-95b8-f5b5bcb888d0",
   "metadata": {},
   "outputs": [
    {
     "data": {
      "text/plain": [
       "\n",
       "Call:\n",
       "glm(formula = stroke ~ ever_married, family = binomial(link = \"logit\"), \n",
       "    data = strokedata)\n",
       "\n",
       "Deviance Residuals: \n",
       "    Min       1Q   Median       3Q      Max  \n",
       "-0.3565  -0.3565  -0.3565  -0.2213   2.7284  \n",
       "\n",
       "Coefficients:\n",
       "                Estimate Std. Error z value Pr(>|z|)    \n",
       "(Intercept)      -3.6976     0.2264 -16.335  < 2e-16 ***\n",
       "ever_marriedYes   0.9734     0.2406   4.045 5.22e-05 ***\n",
       "---\n",
       "Signif. codes:  0 ‘***’ 0.001 ‘**’ 0.01 ‘*’ 0.05 ‘.’ 0.1 ‘ ’ 1\n",
       "\n",
       "(Dispersion parameter for binomial family taken to be 1)\n",
       "\n",
       "    Null deviance: 1411.0  on 3425  degrees of freedom\n",
       "Residual deviance: 1390.4  on 3424  degrees of freedom\n",
       "AIC: 1394.4\n",
       "\n",
       "Number of Fisher Scoring iterations: 6\n"
      ]
     },
     "metadata": {},
     "output_type": "display_data"
    }
   ],
   "source": [
    "model_marry = glm(stroke ~ ever_married, data=strokedata, family=binomial(link=\"logit\"))\n",
    "summary(model_marry)"
   ]
  },
  {
   "cell_type": "markdown",
   "id": "bb572059-4f0a-4924-ba92-072841fe3fb2",
   "metadata": {},
   "source": [
    "## Work-type Model\n",
    "\\begin{equation}\n",
    "\\log{\\left(\\frac{P[\\rm{stroke}=1]}{P[\\rm{stroke}=0]}\\right)} = \\beta_0 + \\beta_{\\rm{worktype}}x_{\\rm{worktype}}\n",
    "\\end{equation}"
   ]
  },
  {
   "cell_type": "code",
   "execution_count": 11,
   "id": "c08bdb54-e2c5-4809-8637-3ab814b1145c",
   "metadata": {},
   "outputs": [
    {
     "data": {
      "text/plain": [
       "\n",
       "Call:\n",
       "glm(formula = stroke ~ work_type, family = binomial(link = \"logit\"), \n",
       "    data = strokedata)\n",
       "\n",
       "Deviance Residuals: \n",
       "    Min       1Q   Median       3Q      Max  \n",
       "-0.3985  -0.3187  -0.3187  -0.3187   2.4927  \n",
       "\n",
       "Coefficients:\n",
       "                         Estimate Std. Error z value Pr(>|z|)\n",
       "(Intercept)            -1.757e+01  4.798e+02  -0.037    0.971\n",
       "work_typeGovt_job       1.451e+01  4.798e+02   0.030    0.976\n",
       "work_typeNever_worked   4.643e-09  1.161e+03   0.000    1.000\n",
       "work_typePrivate        1.461e+01  4.798e+02   0.030    0.976\n",
       "work_typeSelf-employed  1.507e+01  4.798e+02   0.031    0.975\n",
       "\n",
       "(Dispersion parameter for binomial family taken to be 1)\n",
       "\n",
       "    Null deviance: 1411.0  on 3425  degrees of freedom\n",
       "Residual deviance: 1394.8  on 3421  degrees of freedom\n",
       "AIC: 1404.8\n",
       "\n",
       "Number of Fisher Scoring iterations: 16\n"
      ]
     },
     "metadata": {},
     "output_type": "display_data"
    }
   ],
   "source": [
    "model_worktype = glm(stroke ~ work_type, data=strokedata, family=binomial(link=\"logit\"))\n",
    "summary(model_worktype)"
   ]
  },
  {
   "cell_type": "markdown",
   "id": "06adac9d-974a-4f33-9a66-a8fde9cf6ea8",
   "metadata": {},
   "source": [
    "- We will discard this variable"
   ]
  },
  {
   "cell_type": "markdown",
   "id": "66c1d229-49b1-4958-91e9-50ba476438ec",
   "metadata": {},
   "source": [
    "## Smoke Model\n",
    "\\begin{equation}\n",
    "\\log{\\left(\\frac{P[\\rm{stroke}=1]}{P[\\rm{stroke}=0]}\\right)} = \\beta_0 + \\beta_{\\rm{smoke}}x_{\\rm{smoke}}\n",
    "\\end{equation}"
   ]
  },
  {
   "cell_type": "code",
   "execution_count": 13,
   "id": "5d7cfe08-2c55-43f4-80c4-6dff6ce53c2e",
   "metadata": {},
   "outputs": [
    {
     "data": {
      "text/plain": [
       "\n",
       "Call:\n",
       "glm(formula = stroke ~ smoking_status, family = binomial(link = \"logit\"), \n",
       "    data = strokedata)\n",
       "\n",
       "Deviance Residuals: \n",
       "    Min       1Q   Median       3Q      Max  \n",
       "-0.3756  -0.3297  -0.3047  -0.3047   2.4872  \n",
       "\n",
       "Coefficients:\n",
       "                           Estimate Std. Error z value Pr(>|z|)    \n",
       "(Intercept)                 -2.6162     0.1372 -19.068   <2e-16 ***\n",
       "smoking_statusnever smoked  -0.4305     0.1769  -2.434   0.0149 *  \n",
       "smoking_statussmokes        -0.2684     0.2142  -1.253   0.2102    \n",
       "---\n",
       "Signif. codes:  0 ‘***’ 0.001 ‘**’ 0.01 ‘*’ 0.05 ‘.’ 0.1 ‘ ’ 1\n",
       "\n",
       "(Dispersion parameter for binomial family taken to be 1)\n",
       "\n",
       "    Null deviance: 1411.0  on 3425  degrees of freedom\n",
       "Residual deviance: 1405.3  on 3423  degrees of freedom\n",
       "AIC: 1411.3\n",
       "\n",
       "Number of Fisher Scoring iterations: 5\n"
      ]
     },
     "metadata": {},
     "output_type": "display_data"
    }
   ],
   "source": [
    "model_smoke = glm(stroke ~ smoking_status, data=strokedata, family=binomial(link=\"logit\"))\n",
    "summary(model_smoke)"
   ]
  },
  {
   "cell_type": "markdown",
   "id": "2de74d0f-e15b-48f3-a940-24e332087294",
   "metadata": {},
   "source": [
    "# Full Categorial Model\n",
    "- Model 1:\n",
    "\\begin{equation}\n",
    "     \\log{\\left(\\frac{P[\\rm{stroke}=1]}{P[\\rm{stroke}=0]}\\right)} = \\beta_0 + \\beta_{\\rm{hypert}}x_{\\rm{hypert}}+ \\beta_{\\rm{heartd}}x_{\\rm{heartd}}+ \\beta_{\\rm{marry}}x_{\\rm{marry}} +\\beta_{\\rm{worktype}}x_{\\rm{worktype}}+ \\beta_{\\rm{smoke}}x_{\\rm{smoke}}\n",
    "\\end{equation}\n",
    "- Model 2:\n",
    "\\begin{equation}\n",
    "     \\log{\\left(\\frac{P[\\rm{stroke}=1]}{P[\\rm{stroke}=0]}\\right)} = \\beta_0 + \\beta_{\\rm{hypert}}x_{\\rm{hypert}}+ \\beta_{\\rm{heartd}}x_{\\rm{heartd}}+ \\beta_{\\rm{marry}}x_{\\rm{marry}} + \\beta_{\\rm{smoke}}x_{\\rm{smoke}}\n",
    "\\end{equation}"
   ]
  },
  {
   "cell_type": "code",
   "execution_count": 19,
   "id": "3f9eeace-08eb-4099-afa9-5f7f0fe007dd",
   "metadata": {},
   "outputs": [
    {
     "data": {
      "text/plain": [
       "\n",
       "Call:\n",
       "glm(formula = stroke ~ hypertension + heart_disease + ever_married + \n",
       "    work_type + smoking_status, family = binomial(link = \"logit\"), \n",
       "    data = strokedata)\n",
       "\n",
       "Deviance Residuals: \n",
       "    Min       1Q   Median       3Q      Max  \n",
       "-1.0119  -0.3134  -0.2775  -0.2303   2.8509  \n",
       "\n",
       "Coefficients:\n",
       "                             Estimate Std. Error z value Pr(>|z|)    \n",
       "(Intercept)                 -17.36665  479.43349  -0.036   0.9711    \n",
       "hypertension                  1.11386    0.17511   6.361 2.01e-10 ***\n",
       "heart_disease                 1.22618    0.20969   5.848 4.99e-09 ***\n",
       "ever_marriedYes               0.62791    0.24625   2.550   0.0108 *  \n",
       "work_typeGovt_job            13.56898  479.43358   0.028   0.9774    \n",
       "work_typeNever_worked         0.04929 1160.95260   0.000   1.0000    \n",
       "work_typePrivate             13.74972  479.43353   0.029   0.9771    \n",
       "work_typeSelf-employed       13.99617  479.43356   0.029   0.9767    \n",
       "smoking_statusnever smoked   -0.24871    0.18274  -1.361   0.1735    \n",
       "smoking_statussmokes         -0.17918    0.22028  -0.813   0.4160    \n",
       "---\n",
       "Signif. codes:  0 ‘***’ 0.001 ‘**’ 0.01 ‘*’ 0.05 ‘.’ 0.1 ‘ ’ 1\n",
       "\n",
       "(Dispersion parameter for binomial family taken to be 1)\n",
       "\n",
       "    Null deviance: 1411.0  on 3425  degrees of freedom\n",
       "Residual deviance: 1305.5  on 3416  degrees of freedom\n",
       "AIC: 1325.5\n",
       "\n",
       "Number of Fisher Scoring iterations: 16\n"
      ]
     },
     "metadata": {},
     "output_type": "display_data"
    }
   ],
   "source": [
    "model_cate_full = glm(stroke ~ hypertension + heart_disease + ever_married + work_type + smoking_status, data=strokedata, family=binomial(link=\"logit\"))\n",
    "summary(model_cate_full)"
   ]
  },
  {
   "cell_type": "code",
   "execution_count": 22,
   "id": "8b9eecb9-2746-44e0-8c05-78551003ee79",
   "metadata": {},
   "outputs": [
    {
     "data": {
      "text/plain": [
       "\n",
       "Call:\n",
       "glm(formula = stroke ~ hypertension + heart_disease + ever_married + \n",
       "    smoking_status, family = binomial(link = \"logit\"), data = strokedata)\n",
       "\n",
       "Deviance Residuals: \n",
       "    Min       1Q   Median       3Q      Max  \n",
       "-0.9456  -0.3194  -0.2799  -0.2226   2.8192  \n",
       "\n",
       "Coefficients:\n",
       "                           Estimate Std. Error z value Pr(>|z|)    \n",
       "(Intercept)                 -3.6853     0.2682 -13.742  < 2e-16 ***\n",
       "hypertension                 1.1382     0.1748   6.510 7.49e-11 ***\n",
       "heart_disease                1.2389     0.2099   5.902 3.58e-09 ***\n",
       "ever_marriedYes              0.7351     0.2451   3.000   0.0027 ** \n",
       "smoking_statusnever smoked  -0.2698     0.1824  -1.479   0.1390    \n",
       "smoking_statussmokes        -0.1920     0.2196  -0.874   0.3820    \n",
       "---\n",
       "Signif. codes:  0 ‘***’ 0.001 ‘**’ 0.01 ‘*’ 0.05 ‘.’ 0.1 ‘ ’ 1\n",
       "\n",
       "(Dispersion parameter for binomial family taken to be 1)\n",
       "\n",
       "    Null deviance: 1411.0  on 3425  degrees of freedom\n",
       "Residual deviance: 1311.8  on 3420  degrees of freedom\n",
       "AIC: 1323.8\n",
       "\n",
       "Number of Fisher Scoring iterations: 6\n"
      ]
     },
     "metadata": {},
     "output_type": "display_data"
    }
   ],
   "source": [
    "model_cate_no_work = glm(stroke ~ hypertension + heart_disease + ever_married + smoking_status, data=strokedata, family=binomial(link=\"logit\"))\n",
    "summary(model_cate_no_work)"
   ]
  },
  {
   "cell_type": "markdown",
   "id": "35b5763d-de8f-4a6d-8d7d-2608cf9e521f",
   "metadata": {},
   "source": [
    "\\begin{equation}\n",
    "H_0: \\beta_{\\rm{GovJob}} = \\beta_{\\rm{Neverworked}} = \\beta_{\\rm{Private}} = \\beta_{\\rm{Selfemployed}} = 0\n",
    "\\end{equation}"
   ]
  },
  {
   "cell_type": "code",
   "execution_count": 23,
   "id": "7fa65053-1343-4b2d-9ac0-1e37ab8452e8",
   "metadata": {},
   "outputs": [
    {
     "data": {
      "text/html": [
       "<table>\n",
       "<thead><tr><th scope=col>Resid. Df</th><th scope=col>Resid. Dev</th><th scope=col>Df</th><th scope=col>Deviance</th><th scope=col>Pr(&gt;Chi)</th></tr></thead>\n",
       "<tbody>\n",
       "\t<tr><td>3420     </td><td>1311.82  </td><td>NA       </td><td>      NA </td><td>       NA</td></tr>\n",
       "\t<tr><td>3416     </td><td>1305.48  </td><td> 4       </td><td>6.339919 </td><td>0.1751604</td></tr>\n",
       "</tbody>\n",
       "</table>\n"
      ],
      "text/latex": [
       "\\begin{tabular}{r|lllll}\n",
       " Resid. Df & Resid. Dev & Df & Deviance & Pr(>Chi)\\\\\n",
       "\\hline\n",
       "\t 3420      & 1311.82   & NA        &       NA  &        NA\\\\\n",
       "\t 3416      & 1305.48   &  4        & 6.339919  & 0.1751604\\\\\n",
       "\\end{tabular}\n"
      ],
      "text/markdown": [
       "\n",
       "| Resid. Df | Resid. Dev | Df | Deviance | Pr(>Chi) |\n",
       "|---|---|---|---|---|\n",
       "| 3420      | 1311.82   | NA        |       NA  |        NA |\n",
       "| 3416      | 1305.48   |  4        | 6.339919  | 0.1751604 |\n",
       "\n"
      ],
      "text/plain": [
       "  Resid. Df Resid. Dev Df Deviance Pr(>Chi) \n",
       "1 3420      1311.82    NA       NA        NA\n",
       "2 3416      1305.48     4 6.339919 0.1751604"
      ]
     },
     "metadata": {},
     "output_type": "display_data"
    }
   ],
   "source": [
    "anova(model_cate_no_work, model_cate_full, test=\"LRT\")"
   ]
  },
  {
   "cell_type": "markdown",
   "id": "95ae77fb-eaf1-420e-ac6d-e1d47400b720",
   "metadata": {},
   "source": [
    "- We can not reject $H_0$, so worktype will be discarded"
   ]
  },
  {
   "cell_type": "markdown",
   "id": "4056fa74-4bce-4ed6-87df-c85ad44bafbd",
   "metadata": {},
   "source": [
    "## Full Model\n",
    "\\begin{align*}\n",
    "\\log{\\left(\\frac{P[\\rm{stroke}=1]}{P[\\rm{stroke}=0]}\\right)} &= \\beta_0 + \\beta_{\\rm{age}}x_{\\rm{age}} +\\beta_{\\rm{hypert}}x_{\\rm{hypert}}+ \\beta_{\\rm{heartd}}x_{\\rm{heartd}}+ \\beta_{\\rm{marry}}x_{\\rm{marry}}\\\\\n",
    "&+ \\beta_{\\rm{worktype}}x_{\\rm{worktype}} + \\beta_{\\rm{glucose}}x_{\\rm{glucose}} + \\beta_{\\rm{bmi}}x_{\\rm{bmi}}+ \\beta_{\\rm{smoke}}x_{\\rm{smoke}}\n",
    "\\end{align*}"
   ]
  },
  {
   "cell_type": "code",
   "execution_count": 2,
   "id": "0e491732-3896-4f2a-bb52-aeada9b497d5",
   "metadata": {},
   "outputs": [
    {
     "data": {
      "text/html": [
       "<ol class=list-inline>\n",
       "\t<li>3426</li>\n",
       "\t<li>9</li>\n",
       "</ol>\n"
      ],
      "text/latex": [
       "\\begin{enumerate*}\n",
       "\\item 3426\n",
       "\\item 9\n",
       "\\end{enumerate*}\n"
      ],
      "text/markdown": [
       "1. 3426\n",
       "2. 9\n",
       "\n",
       "\n"
      ],
      "text/plain": [
       "[1] 3426    9"
      ]
     },
     "metadata": {},
     "output_type": "display_data"
    }
   ],
   "source": []
  },
  {
   "cell_type": "markdown",
   "id": "49d0a9ee-daba-4430-aa17-38e568160570",
   "metadata": {},
   "source": [
    "### Part 2: Logistic Regression for full model"
   ]
  },
  {
   "cell_type": "code",
   "execution_count": 3,
   "id": "4be1daa7-5aea-4300-a240-23ac6de88d94",
   "metadata": {},
   "outputs": [],
   "source": [
    "model_full = glm(stroke ~ ., data=strokedata, family=binomial(link=\"logit\"))"
   ]
  },
  {
   "cell_type": "code",
   "execution_count": 4,
   "id": "ea913237-8f4f-4c90-abf0-cf5eb6dcc043",
   "metadata": {},
   "outputs": [
    {
     "data": {
      "text/plain": [
       "\n",
       "Call:\n",
       "glm(formula = stroke ~ ., family = binomial(link = \"logit\"), \n",
       "    data = strokedata)\n",
       "\n",
       "Deviance Residuals: \n",
       "    Min       1Q   Median       3Q      Max  \n",
       "-1.2334  -0.3347  -0.1920  -0.1054   3.1453  \n",
       "\n",
       "Coefficients:\n",
       "                             Estimate Std. Error z value Pr(>|z|)    \n",
       "(Intercept)                -1.909e+01  4.775e+02  -0.040 0.968118    \n",
       "age                         7.312e-02  6.953e-03  10.516  < 2e-16 ***\n",
       "hypertension                5.688e-01  1.828e-01   3.112 0.001857 ** \n",
       "heart_disease               3.799e-01  2.196e-01   1.730 0.083570 .  \n",
       "ever_marriedYes            -1.849e-01  2.623e-01  -0.705 0.480802    \n",
       "work_typeGovt_job           1.094e+01  4.775e+02   0.023 0.981729    \n",
       "work_typeNever_worked      -2.932e-01  1.157e+03   0.000 0.999798    \n",
       "work_typePrivate            1.118e+01  4.775e+02   0.023 0.981324    \n",
       "work_typeSelf-employed      1.082e+01  4.775e+02   0.023 0.981917    \n",
       "avg_glucose_level           4.654e-03  1.374e-03   3.388 0.000705 ***\n",
       "bmi                         6.743e-03  1.293e-02   0.521 0.602155    \n",
       "smoking_statusnever smoked -6.233e-02  1.873e-01  -0.333 0.739342    \n",
       "smoking_statussmokes        3.178e-01  2.304e-01   1.380 0.167651    \n",
       "---\n",
       "Signif. codes:  0 ‘***’ 0.001 ‘**’ 0.01 ‘*’ 0.05 ‘.’ 0.1 ‘ ’ 1\n",
       "\n",
       "(Dispersion parameter for binomial family taken to be 1)\n",
       "\n",
       "    Null deviance: 1411  on 3425  degrees of freedom\n",
       "Residual deviance: 1142  on 3413  degrees of freedom\n",
       "AIC: 1168\n",
       "\n",
       "Number of Fisher Scoring iterations: 16\n"
      ]
     },
     "metadata": {},
     "output_type": "display_data"
    }
   ],
   "source": [
    "summary(model_full)"
   ]
  },
  {
   "cell_type": "code",
   "execution_count": null,
   "id": "1ac713c4-96cb-412f-9ebd-dcb18fb36a2c",
   "metadata": {},
   "outputs": [],
   "source": []
  },
  {
   "cell_type": "code",
   "execution_count": 5,
   "id": "ea2cd713-fc52-49b9-be1f-473e4d1040ff",
   "metadata": {},
   "outputs": [
    {
     "data": {
      "text/html": [
       "<dl class=dl-horizontal>\n",
       "\t<dt>(Intercept)</dt>\n",
       "\t\t<dd>-7.63281029821175</dd>\n",
       "\t<dt>age</dt>\n",
       "\t\t<dd>0.0677731854158815</dd>\n",
       "\t<dt>hypertension</dt>\n",
       "\t\t<dd>0.568378905375303</dd>\n",
       "\t<dt>heart_disease</dt>\n",
       "\t\t<dd>0.453703928156204</dd>\n",
       "\t<dt>avg_glucose_level</dt>\n",
       "\t\t<dd>0.00470069966159392</dd>\n",
       "</dl>\n"
      ],
      "text/latex": [
       "\\begin{description*}\n",
       "\\item[(Intercept)] -7.63281029821175\n",
       "\\item[age] 0.0677731854158815\n",
       "\\item[hypertension] 0.568378905375303\n",
       "\\item[heart\\textbackslash{}\\_disease] 0.453703928156204\n",
       "\\item[avg\\textbackslash{}\\_glucose\\textbackslash{}\\_level] 0.00470069966159392\n",
       "\\end{description*}\n"
      ],
      "text/markdown": [
       "(Intercept)\n",
       ":   -7.63281029821175age\n",
       ":   0.0677731854158815hypertension\n",
       ":   0.568378905375303heart_disease\n",
       ":   0.453703928156204avg_glucose_level\n",
       ":   0.00470069966159392\n",
       "\n"
      ],
      "text/plain": [
       "      (Intercept)               age      hypertension     heart_disease \n",
       "      -7.63281030        0.06777319        0.56837891        0.45370393 \n",
       "avg_glucose_level \n",
       "       0.00470070 "
      ]
     },
     "metadata": {},
     "output_type": "display_data"
    }
   ],
   "source": [
    "model_backward_sele = step(model_full, trace=0)\n",
    "coef(model_backward_sele)"
   ]
  },
  {
   "cell_type": "code",
   "execution_count": null,
   "id": "ccb99903-5941-4a58-9d22-8d1f7d41db03",
   "metadata": {},
   "outputs": [],
   "source": []
  }
 ],
 "metadata": {
  "kernelspec": {
   "display_name": "R",
   "language": "R",
   "name": "ir"
  },
  "language_info": {
   "codemirror_mode": "r",
   "file_extension": ".r",
   "mimetype": "text/x-r-source",
   "name": "R",
   "pygments_lexer": "r",
   "version": "3.6.1"
  }
 },
 "nbformat": 4,
 "nbformat_minor": 5
}
