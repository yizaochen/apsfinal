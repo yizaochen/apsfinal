{
 "cells": [
  {
   "cell_type": "code",
   "execution_count": 6,
   "id": "regulated-referral",
   "metadata": {},
   "outputs": [],
   "source": [
    "import pandas as pd\n",
    "from os import path\n",
    "import matplotlib.pyplot as plt"
   ]
  },
  {
   "cell_type": "code",
   "execution_count": 7,
   "id": "hydraulic-runner",
   "metadata": {},
   "outputs": [
    {
     "data": {
      "text/html": [
       "<div>\n",
       "<style scoped>\n",
       "    .dataframe tbody tr th:only-of-type {\n",
       "        vertical-align: middle;\n",
       "    }\n",
       "\n",
       "    .dataframe tbody tr th {\n",
       "        vertical-align: top;\n",
       "    }\n",
       "\n",
       "    .dataframe thead th {\n",
       "        text-align: right;\n",
       "    }\n",
       "</style>\n",
       "<table border=\"1\" class=\"dataframe\">\n",
       "  <thead>\n",
       "    <tr style=\"text-align: right;\">\n",
       "      <th></th>\n",
       "      <th>id</th>\n",
       "      <th>gender</th>\n",
       "      <th>age</th>\n",
       "      <th>hypertension</th>\n",
       "      <th>heart_disease</th>\n",
       "      <th>ever_married</th>\n",
       "      <th>work_type</th>\n",
       "      <th>Residence_type</th>\n",
       "      <th>avg_glucose_level</th>\n",
       "      <th>bmi</th>\n",
       "      <th>smoking_status</th>\n",
       "      <th>stroke</th>\n",
       "    </tr>\n",
       "  </thead>\n",
       "  <tbody>\n",
       "    <tr>\n",
       "      <th>0</th>\n",
       "      <td>9046</td>\n",
       "      <td>Male</td>\n",
       "      <td>67.0</td>\n",
       "      <td>0</td>\n",
       "      <td>1</td>\n",
       "      <td>Yes</td>\n",
       "      <td>Private</td>\n",
       "      <td>Urban</td>\n",
       "      <td>228.69</td>\n",
       "      <td>36.6</td>\n",
       "      <td>formerly smoked</td>\n",
       "      <td>1</td>\n",
       "    </tr>\n",
       "    <tr>\n",
       "      <th>1</th>\n",
       "      <td>51676</td>\n",
       "      <td>Female</td>\n",
       "      <td>61.0</td>\n",
       "      <td>0</td>\n",
       "      <td>0</td>\n",
       "      <td>Yes</td>\n",
       "      <td>Self-employed</td>\n",
       "      <td>Rural</td>\n",
       "      <td>202.21</td>\n",
       "      <td>NaN</td>\n",
       "      <td>never smoked</td>\n",
       "      <td>1</td>\n",
       "    </tr>\n",
       "    <tr>\n",
       "      <th>2</th>\n",
       "      <td>31112</td>\n",
       "      <td>Male</td>\n",
       "      <td>80.0</td>\n",
       "      <td>0</td>\n",
       "      <td>1</td>\n",
       "      <td>Yes</td>\n",
       "      <td>Private</td>\n",
       "      <td>Rural</td>\n",
       "      <td>105.92</td>\n",
       "      <td>32.5</td>\n",
       "      <td>never smoked</td>\n",
       "      <td>1</td>\n",
       "    </tr>\n",
       "    <tr>\n",
       "      <th>3</th>\n",
       "      <td>60182</td>\n",
       "      <td>Female</td>\n",
       "      <td>49.0</td>\n",
       "      <td>0</td>\n",
       "      <td>0</td>\n",
       "      <td>Yes</td>\n",
       "      <td>Private</td>\n",
       "      <td>Urban</td>\n",
       "      <td>171.23</td>\n",
       "      <td>34.4</td>\n",
       "      <td>smokes</td>\n",
       "      <td>1</td>\n",
       "    </tr>\n",
       "    <tr>\n",
       "      <th>4</th>\n",
       "      <td>1665</td>\n",
       "      <td>Female</td>\n",
       "      <td>79.0</td>\n",
       "      <td>1</td>\n",
       "      <td>0</td>\n",
       "      <td>Yes</td>\n",
       "      <td>Self-employed</td>\n",
       "      <td>Rural</td>\n",
       "      <td>174.12</td>\n",
       "      <td>24.0</td>\n",
       "      <td>never smoked</td>\n",
       "      <td>1</td>\n",
       "    </tr>\n",
       "  </tbody>\n",
       "</table>\n",
       "</div>"
      ],
      "text/plain": [
       "      id  gender   age  hypertension  heart_disease ever_married  \\\n",
       "0   9046    Male  67.0             0              1          Yes   \n",
       "1  51676  Female  61.0             0              0          Yes   \n",
       "2  31112    Male  80.0             0              1          Yes   \n",
       "3  60182  Female  49.0             0              0          Yes   \n",
       "4   1665  Female  79.0             1              0          Yes   \n",
       "\n",
       "       work_type Residence_type  avg_glucose_level   bmi   smoking_status  \\\n",
       "0        Private          Urban             228.69  36.6  formerly smoked   \n",
       "1  Self-employed          Rural             202.21   NaN     never smoked   \n",
       "2        Private          Rural             105.92  32.5     never smoked   \n",
       "3        Private          Urban             171.23  34.4           smokes   \n",
       "4  Self-employed          Rural             174.12  24.0     never smoked   \n",
       "\n",
       "   stroke  \n",
       "0       1  \n",
       "1       1  \n",
       "2       1  \n",
       "3       1  \n",
       "4       1  "
      ]
     },
     "execution_count": 7,
     "metadata": {},
     "output_type": "execute_result"
    }
   ],
   "source": [
    "csv_in =  path.join('..', 'data', 'healthcare-dataset-stroke-data.csv')\n",
    "df_in = pd.read_csv(csv_in)\n",
    "df_in.head()"
   ]
  },
  {
   "cell_type": "code",
   "execution_count": 8,
   "id": "4a63be7d-c29e-493e-ab82-719c92e82e2e",
   "metadata": {},
   "outputs": [
    {
     "data": {
      "text/plain": [
       "['never smoked', 'Unknown', 'smokes', 'formerly smoked']"
      ]
     },
     "execution_count": 8,
     "metadata": {},
     "output_type": "execute_result"
    }
   ],
   "source": [
    "feature = 'smoking_status'\n",
    "list(set(df_in[feature].tolist()))"
   ]
  },
  {
   "cell_type": "markdown",
   "id": "copyrighted-madison",
   "metadata": {},
   "source": [
    "### Smoke or non-smoke"
   ]
  },
  {
   "cell_type": "code",
   "execution_count": 3,
   "id": "3aa64b08-e4c5-432d-91e0-e5a085831573",
   "metadata": {},
   "outputs": [],
   "source": [
    "mask = df_in[\"smoking_status\"] == \"Unknown\"\n",
    "df_unknown = df_in[mask]"
   ]
  },
  {
   "cell_type": "code",
   "execution_count": 4,
   "id": "a2808505-7c62-47d7-90d0-6cf525b8aaa5",
   "metadata": {},
   "outputs": [
    {
     "data": {
      "text/plain": [
       "(1544, 12)"
      ]
     },
     "execution_count": 4,
     "metadata": {},
     "output_type": "execute_result"
    }
   ],
   "source": [
    "df_unknown.shape"
   ]
  },
  {
   "cell_type": "code",
   "execution_count": 9,
   "id": "dependent-saying",
   "metadata": {},
   "outputs": [
    {
     "data": {
      "text/plain": [
       "(3566, 12)"
      ]
     },
     "execution_count": 9,
     "metadata": {},
     "output_type": "execute_result"
    }
   ],
   "source": [
    "# Filter Unknown\n",
    "mask = df_in[\"smoking_status\"] != \"Unknown\"\n",
    "df_smoke_non_smoke = df_in[mask]\n",
    "df_smoke_non_smoke.shape\n",
    "#df_in[\"smoking_status\"]"
   ]
  },
  {
   "cell_type": "code",
   "execution_count": 9,
   "id": "sustainable-alarm",
   "metadata": {},
   "outputs": [],
   "source": [
    "# smoke and stroke\n",
    "mask1 = df_smoke_non_smoke[\"smoking_status\"] == \"never smoked\"\n",
    "df1 = df_smoke_non_smoke[mask1]\n",
    "mask2 = df1[\"stroke\"] == 1\n",
    "df2 = df1[mask2]"
   ]
  },
  {
   "cell_type": "code",
   "execution_count": 10,
   "id": "arbitrary-income",
   "metadata": {},
   "outputs": [
    {
     "data": {
      "text/plain": [
       "(90, 12)"
      ]
     },
     "execution_count": 10,
     "metadata": {},
     "output_type": "execute_result"
    }
   ],
   "source": [
    "df2.shape"
   ]
  },
  {
   "cell_type": "code",
   "execution_count": 11,
   "id": "illegal-alignment",
   "metadata": {},
   "outputs": [
    {
     "data": {
      "text/plain": [
       "(1802, 12)"
      ]
     },
     "execution_count": 11,
     "metadata": {},
     "output_type": "execute_result"
    }
   ],
   "source": [
    "# smoke and stroke\n",
    "mask1 = df_smoke_non_smoke[\"smoking_status\"] == \"never smoked\"\n",
    "df1 = df_smoke_non_smoke[mask1]\n",
    "mask2 = df1[\"stroke\"] == 0\n",
    "df2 = df1[mask2]\n",
    "df2.shape"
   ]
  },
  {
   "cell_type": "code",
   "execution_count": 13,
   "id": "cheap-tennessee",
   "metadata": {},
   "outputs": [
    {
     "data": {
      "text/plain": [
       "(1562, 12)"
      ]
     },
     "execution_count": 13,
     "metadata": {},
     "output_type": "execute_result"
    }
   ],
   "source": [
    "# smoke and stroke\n",
    "mask1 = df_smoke_non_smoke[\"smoking_status\"] != \"never smoked\"\n",
    "df1 = df_smoke_non_smoke[mask1]\n",
    "mask2 = df1[\"stroke\"] == 0\n",
    "df2 = df1[mask2]\n",
    "df2.shape"
   ]
  },
  {
   "cell_type": "markdown",
   "id": "d0d0df4c-2a99-4f45-85a6-6dee7d6aa0ce",
   "metadata": {},
   "source": [
    "### Age vs Smokes"
   ]
  },
  {
   "cell_type": "code",
   "execution_count": 18,
   "id": "b4d892ef-da35-4e63-96f8-12a9cfbcecd5",
   "metadata": {},
   "outputs": [],
   "source": [
    "mask = df_smoke_non_smoke[\"stroke\"] == 1\n",
    "df_smoke_non_smoke_stroke = df_smoke_non_smoke[mask]"
   ]
  },
  {
   "cell_type": "code",
   "execution_count": 19,
   "id": "ac0163cf-4c09-4bd6-a091-5f0ebc0f533a",
   "metadata": {},
   "outputs": [],
   "source": [
    "xarray = df_smoke_non_smoke_stroke['age']\n",
    "yarray = df_smoke_non_smoke_stroke['smoking_status'].map({'never smoked': 0, 'smokes': 1, 'formerly smoked': 2})"
   ]
  },
  {
   "cell_type": "code",
   "execution_count": 20,
   "id": "a3205369-10f1-41da-a498-dee78ac7ca77",
   "metadata": {},
   "outputs": [
    {
     "data": {
      "image/png": "[encoded data removed]",
      "text/plain": [
       "<Figure size 432x288 with 1 Axes>"
      ]
     },
     "metadata": {
      "needs_background": "light"
     },
     "output_type": "display_data"
    }
   ],
   "source": [
    "fig, ax = plt.subplots()\n",
    "\n",
    "ax.scatter(xarray, yarray)\n",
    "ax.set_yticks([0,1,2])\n",
    "ax.set_yticklabels(['never smoked', 'smokes', 'formerly smoked'])\n",
    "\n",
    "plt.tight_layout()\n",
    "#plt.savefig()\n",
    "plt.show()"
   ]
  },
  {
   "cell_type": "code",
   "execution_count": null,
   "id": "da1b616f-9b4f-4c26-b839-c63698c200f1",
   "metadata": {},
   "outputs": [],
   "source": []
  }
 ],
 "metadata": {
  "kernelspec": {
   "display_name": "Python 3",
   "language": "python",
   "name": "python3"
  },
  "language_info": {
   "codemirror_mode": {
    "name": "ipython",
    "version": 3
   },
   "file_extension": ".py",
   "mimetype": "text/x-python",
   "name": "python",
   "nbconvert_exporter": "python",
   "pygments_lexer": "ipython3",
   "version": "3.8.8"
  }
 },
 "nbformat": 4,
 "nbformat_minor": 5
}
