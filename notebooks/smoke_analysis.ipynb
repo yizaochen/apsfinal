{
 "cells": [
  {
   "cell_type": "code",
   "execution_count": 2,
   "id": "21c37b08-b24b-4a38-88af-10cb17e34003",
   "metadata": {},
   "outputs": [],
   "source": [
    "from os import path\n",
    "import matplotlib.pyplot as plt\n",
    "import matplotlib.patches as mpatches\n",
    "import numpy as np\n",
    "import pandas as pd"
   ]
  },
  {
   "cell_type": "code",
   "execution_count": 5,
   "id": "5b7bad10-dbb8-4f63-a695-f5b889c32830",
   "metadata": {},
   "outputs": [
    {
     "data": {
      "text/html": [
       "<div>\n",
       "<style scoped>\n",
       "    .dataframe tbody tr th:only-of-type {\n",
       "        vertical-align: middle;\n",
       "    }\n",
       "\n",
       "    .dataframe tbody tr th {\n",
       "        vertical-align: top;\n",
       "    }\n",
       "\n",
       "    .dataframe thead th {\n",
       "        text-align: right;\n",
       "    }\n",
       "</style>\n",
       "<table border=\"1\" class=\"dataframe\">\n",
       "  <thead>\n",
       "    <tr style=\"text-align: right;\">\n",
       "      <th></th>\n",
       "      <th>gender</th>\n",
       "      <th>age</th>\n",
       "      <th>hypertension</th>\n",
       "      <th>heart_disease</th>\n",
       "      <th>ever_married</th>\n",
       "      <th>work_type</th>\n",
       "      <th>Residence_type</th>\n",
       "      <th>avg_glucose_level</th>\n",
       "      <th>bmi</th>\n",
       "      <th>smoking_status</th>\n",
       "      <th>stroke</th>\n",
       "    </tr>\n",
       "  </thead>\n",
       "  <tbody>\n",
       "    <tr>\n",
       "      <th>0</th>\n",
       "      <td>Male</td>\n",
       "      <td>67.0</td>\n",
       "      <td>0</td>\n",
       "      <td>1</td>\n",
       "      <td>Yes</td>\n",
       "      <td>Private</td>\n",
       "      <td>Urban</td>\n",
       "      <td>228.69</td>\n",
       "      <td>36.6</td>\n",
       "      <td>formerly smoked</td>\n",
       "      <td>1</td>\n",
       "    </tr>\n",
       "    <tr>\n",
       "      <th>1</th>\n",
       "      <td>Male</td>\n",
       "      <td>80.0</td>\n",
       "      <td>0</td>\n",
       "      <td>1</td>\n",
       "      <td>Yes</td>\n",
       "      <td>Private</td>\n",
       "      <td>Rural</td>\n",
       "      <td>105.92</td>\n",
       "      <td>32.5</td>\n",
       "      <td>never smoked</td>\n",
       "      <td>1</td>\n",
       "    </tr>\n",
       "    <tr>\n",
       "      <th>2</th>\n",
       "      <td>Female</td>\n",
       "      <td>49.0</td>\n",
       "      <td>0</td>\n",
       "      <td>0</td>\n",
       "      <td>Yes</td>\n",
       "      <td>Private</td>\n",
       "      <td>Urban</td>\n",
       "      <td>171.23</td>\n",
       "      <td>34.4</td>\n",
       "      <td>smokes</td>\n",
       "      <td>1</td>\n",
       "    </tr>\n",
       "    <tr>\n",
       "      <th>3</th>\n",
       "      <td>Female</td>\n",
       "      <td>79.0</td>\n",
       "      <td>1</td>\n",
       "      <td>0</td>\n",
       "      <td>Yes</td>\n",
       "      <td>Self-employed</td>\n",
       "      <td>Rural</td>\n",
       "      <td>174.12</td>\n",
       "      <td>24.0</td>\n",
       "      <td>never smoked</td>\n",
       "      <td>1</td>\n",
       "    </tr>\n",
       "    <tr>\n",
       "      <th>4</th>\n",
       "      <td>Male</td>\n",
       "      <td>81.0</td>\n",
       "      <td>0</td>\n",
       "      <td>0</td>\n",
       "      <td>Yes</td>\n",
       "      <td>Private</td>\n",
       "      <td>Urban</td>\n",
       "      <td>186.21</td>\n",
       "      <td>29.0</td>\n",
       "      <td>formerly smoked</td>\n",
       "      <td>1</td>\n",
       "    </tr>\n",
       "  </tbody>\n",
       "</table>\n",
       "</div>"
      ],
      "text/plain": [
       "   gender   age  hypertension  heart_disease ever_married      work_type  \\\n",
       "0    Male  67.0             0              1          Yes        Private   \n",
       "1    Male  80.0             0              1          Yes        Private   \n",
       "2  Female  49.0             0              0          Yes        Private   \n",
       "3  Female  79.0             1              0          Yes  Self-employed   \n",
       "4    Male  81.0             0              0          Yes        Private   \n",
       "\n",
       "  Residence_type  avg_glucose_level   bmi   smoking_status  stroke  \n",
       "0          Urban             228.69  36.6  formerly smoked       1  \n",
       "1          Rural             105.92  32.5     never smoked       1  \n",
       "2          Urban             171.23  34.4           smokes       1  \n",
       "3          Rural             174.12  24.0     never smoked       1  \n",
       "4          Urban             186.21  29.0  formerly smoked       1  "
      ]
     },
     "execution_count": 5,
     "metadata": {},
     "output_type": "execute_result"
    }
   ],
   "source": [
    "csv_in =  path.join('..', 'data', 'healthcare-dataset-stroke-data-cleanbmi-containall.csv')\n",
    "df_in = pd.read_csv(csv_in)\n",
    "df_in.head()"
   ]
  },
  {
   "cell_type": "markdown",
   "id": "af3237a3-f59b-4897-a115-d58331d128c6",
   "metadata": {},
   "source": [
    "### Filter the stroke people "
   ]
  },
  {
   "cell_type": "code",
   "execution_count": 13,
   "id": "1e3f14b9-6465-493e-bf1d-69b1a9df1eb2",
   "metadata": {},
   "outputs": [
    {
     "data": {
      "text/plain": [
       "(180, 11)"
      ]
     },
     "execution_count": 13,
     "metadata": {},
     "output_type": "execute_result"
    }
   ],
   "source": [
    "mask = df_in['stroke'] == 1\n",
    "df_stroke = df_in[mask]\n",
    "df_stroke.shape"
   ]
  },
  {
   "cell_type": "markdown",
   "id": "a4d93de1-aa60-4838-955d-595a95390de7",
   "metadata": {},
   "source": [
    "### Filter never smoke, smoke, formerly smoke"
   ]
  },
  {
   "cell_type": "code",
   "execution_count": 16,
   "id": "af018c9b-c9a1-4e2f-ab64-c108f575fc5b",
   "metadata": {},
   "outputs": [],
   "source": [
    "age_group_list = [(10,19), (20,29), (30,39), (40,49), (50,59), (60,69), (70,79), (80,89)]\n",
    "class_list = ['never smoked', 'formerly smoked', 'smokes']\n",
    "d_counts = dict()\n",
    "\n",
    "total_count = 0\n",
    "for age1, age2 in age_group_list:\n",
    "    age_key = f'{age1}-{age2}'\n",
    "    d_counts[age_key] = dict()\n",
    "    mask = (df_stroke['age']>=age1) & (df_stroke['age']<=age2)\n",
    "    df_stroke_age = df_stroke[mask]\n",
    "    for smoke_status in class_list:\n",
    "        mask = df_stroke_age['smoking_status'] == smoke_status\n",
    "        df_stroke_age_smoke_st = df_stroke_age[mask]\n",
    "        d_counts[age_key][smoke_status] = df_stroke_age_smoke_st.shape[0]\n",
    "        total_count += df_stroke_age_smoke_st.shape[0]"
   ]
  },
  {
   "cell_type": "code",
   "execution_count": 17,
   "id": "949c921a-ddac-4686-b1f7-d6e57f0ed585",
   "metadata": {},
   "outputs": [
    {
     "data": {
      "text/plain": [
       "180"
      ]
     },
     "execution_count": 17,
     "metadata": {},
     "output_type": "execute_result"
    }
   ],
   "source": [
    "total_count"
   ]
  },
  {
   "cell_type": "code",
   "execution_count": 18,
   "id": "13f73200-30c5-4d98-9f66-f8fbbf7955f7",
   "metadata": {},
   "outputs": [
    {
     "data": {
      "text/plain": [
       "{'never smoked': 84, 'formerly smoked': 57, 'smokes': 39}"
      ]
     },
     "execution_count": 18,
     "metadata": {},
     "output_type": "execute_result"
    }
   ],
   "source": [
    "d_total_counts = dict()\n",
    "for smoke_status in class_list:\n",
    "    d_total_counts[smoke_status] = 0\n",
    "    for age1, age2 in age_group_list:\n",
    "        age_key = f'{age1}-{age2}'\n",
    "        d_total_counts[smoke_status] += d_counts[age_key][smoke_status]\n",
    "d_total_counts"
   ]
  },
  {
   "cell_type": "code",
   "execution_count": 35,
   "id": "120912fd-7c01-4b61-97b8-1460de7bb1c6",
   "metadata": {},
   "outputs": [],
   "source": [
    "d_xarray = {smoke_status: list() for smoke_status in class_list}\n",
    "d_yarray = {smoke_status: list() for smoke_status in class_list}\n",
    "d_yarray_freq = {smoke_status: list() for smoke_status in class_list}\n",
    "\n",
    "\n",
    "i = 0\n",
    "for age1, age2 in age_group_list:\n",
    "    age_key = f'{age1}-{age2}'\n",
    "    for smoke_status in class_list:\n",
    "        d_xarray[smoke_status].append(i)\n",
    "        d_yarray[smoke_status].append(d_counts[age_key][smoke_status])\n",
    "        d_yarray_freq[smoke_status].append(d_counts[age_key][smoke_status]/d_total_counts[smoke_status])\n",
    "        i += 1\n",
    "    i += 1"
   ]
  },
  {
   "cell_type": "code",
   "execution_count": 32,
   "id": "35e50dc4-2c2d-43d7-98bb-bbb374a8a0a3",
   "metadata": {},
   "outputs": [
    {
     "data": {
      "text/plain": [
       "{'never smoked': [0, 4, 8, 12, 16, 20, 24, 28],\n",
       " 'formerly smoked': [1, 5, 9, 13, 17, 21, 25, 29],\n",
       " 'smokes': [2, 6, 10, 14, 18, 22, 26, 30]}"
      ]
     },
     "execution_count": 32,
     "metadata": {},
     "output_type": "execute_result"
    }
   ],
   "source": [
    "d_xarray"
   ]
  },
  {
   "cell_type": "code",
   "execution_count": 33,
   "id": "82b94427-ead5-42c5-b6c0-01052de32432",
   "metadata": {},
   "outputs": [
    {
     "data": {
      "text/plain": [
       "{'never smoked': [0, 0, 1, 6, 11, 10, 36, 20],\n",
       " 'formerly smoked': [0, 0, 1, 2, 11, 13, 21, 9],\n",
       " 'smokes': [0, 0, 3, 2, 11, 12, 6, 5]}"
      ]
     },
     "execution_count": 33,
     "metadata": {},
     "output_type": "execute_result"
    }
   ],
   "source": [
    "d_yarray"
   ]
  },
  {
   "cell_type": "code",
   "execution_count": 41,
   "id": "3e482aaf-0ef6-4a2a-aad6-5caf31efc1c0",
   "metadata": {},
   "outputs": [
    {
     "data": {
      "image/png": "[encoded data removed]",
      "text/plain": [
       "<Figure size 864x432 with 2 Axes>"
      ]
     },
     "metadata": {},
     "output_type": "display_data"
    }
   ],
   "source": [
    "d_colors = {'never smoked': 'aquamarine', 'formerly smoked': 'mediumaquamarine', 'smokes': 'darkgreen'}\n",
    "fig, axes = plt.subplots(ncols=2, figsize=(12,6), facecolor=\"white\")\n",
    "\n",
    "ax = axes[0]\n",
    "for smoke_status in class_list:\n",
    "    ax.bar(d_xarray[smoke_status], d_yarray[smoke_status], 1, label=smoke_status, color=d_colors[smoke_status])\n",
    "ax.legend()\n",
    "ax.set_xticks(d_xarray['formerly smoked'])\n",
    "ax.set_xticklabels([f'{age1}-{age2}' for age1, age2 in age_group_list])\n",
    "ax.set_ylabel(\"Count\")\n",
    "ax.set_xlabel(\"Age Group\")\n",
    "\n",
    "ax = axes[1]\n",
    "for smoke_status in class_list:\n",
    "    ax.bar(d_xarray[smoke_status], d_yarray_freq[smoke_status], 1, label=smoke_status, color=d_colors[smoke_status])\n",
    "ax.legend()\n",
    "ax.set_xticks(d_xarray['formerly smoked'])\n",
    "ax.set_xticklabels([f'{age1}-{age2}' for age1, age2 in age_group_list])\n",
    "ax.set_ylabel(\"P(stroke | smoke-status, age-group)\")\n",
    "ax.set_xlabel(\"Age Group\")\n",
    "\n",
    "plt.tight_layout()\n",
    "plt.savefig('/home/yizaochen/Downloads/test.png', transparent=False, dpi=200)\n",
    "plt.show()"
   ]
  },
  {
   "cell_type": "code",
   "execution_count": 39,
   "id": "854f0491-21fc-49e3-9027-9e9e34df0cfd",
   "metadata": {},
   "outputs": [
    {
     "data": {
      "image/png": "[encoded data removed]",
      "text/plain": [
       "<Figure size 864x288 with 3 Axes>"
      ]
     },
     "metadata": {
      "needs_background": "light"
     },
     "output_type": "display_data"
    }
   ],
   "source": [
    "fig, axes = plt.subplots(ncols=3, figsize=(12,4))\n",
    "width = 1\n",
    "\n",
    "ax = axes[0]\n",
    "x_array = range(3)\n",
    "ax.bar(x_array, y_array, width, edgecolor=\"black\")\n",
    "ax.set_ylabel(\"Percentage(%)\")\n",
    "ax.set_xticks(x_array)\n",
    "ax.set_xticklabels(class_list)\n",
    "for x,y in zip(x_array, y_array):\n",
    "    text_str = f'{y:.1f}%'\n",
    "    ax.text(x-0.15, y+0.8, text_str)\n",
    "ax.set_title(\"This Dataset\")\n",
    "ax.set_ylim(0,85)\n",
    "\n",
    "ax = axes[1]\n",
    "y_array_usa = [1.5, 34.3, 64.2]\n",
    "ax.bar(x_array, y_array_usa, width, edgecolor=\"black\")\n",
    "ax.set_ylabel(\"Percentage(%)\")\n",
    "ax.set_xticks(x_array)\n",
    "ax.set_xticklabels(class_list)\n",
    "for x,y in zip(x_array, y_array_usa):\n",
    "    text_str = f'{y:.1f}%'\n",
    "    ax.text(x-0.15, y+0.8, text_str)\n",
    "ax.set_title(\"US 100000+ adults data\")\n",
    "ax.set_ylim(0,85)\n",
    "\n",
    "ax = axes[2]\n",
    "y_array_tw = [3.7, 52.7, 43.6]\n",
    "ax.bar(x_array, y_array_tw, width, edgecolor=\"black\")\n",
    "ax.set_ylabel(\"Percentage(%)\")\n",
    "ax.set_xticks(x_array)\n",
    "ax.set_xticklabels(class_list)\n",
    "for x,y in zip(x_array, y_array_tw):\n",
    "    text_str = f'{y:.1f}%'\n",
    "    ax.text(x-0.15, y+0.8, text_str)\n",
    "ax.set_title(\"2013-2014 Taiwanese data\\n(from PLoS One. 2017. Chang et al.)\")\n",
    "ax.set_ylim(0,85)\n",
    "\n",
    "plt.tight_layout()\n",
    "#plt.savefig(\"/home/yizaochen/Desktop/drawzone_temp/aps/bmi_distri_compare.svg\")\n",
    "plt.show()"
   ]
  },
  {
   "cell_type": "code",
   "execution_count": 67,
   "id": "20090525-b2bb-4bde-a90c-afe55cb83365",
   "metadata": {},
   "outputs": [
    {
     "data": {
      "text/plain": [
       "13.11"
      ]
     },
     "execution_count": 67,
     "metadata": {},
     "output_type": "execute_result"
    }
   ],
   "source": [
    "bins[1]"
   ]
  },
  {
   "cell_type": "code",
   "execution_count": 78,
   "id": "a1f8554e-ecd9-4aa3-a946-e20369f6d6ce",
   "metadata": {},
   "outputs": [
    {
     "data": {
      "image/png": "[encoded data removed]",
      "text/plain": [
       "<Figure size 432x288 with 1 Axes>"
      ]
     },
     "metadata": {},
     "output_type": "display_data"
    }
   ],
   "source": [
    "fig, ax = plt.subplots(figsize=(6,4), facecolor=\"white\")\n",
    "\n",
    "#N, bins, patches = ax.hist(df_in['bmi'], bins=100, edgecolor='white', linewidth=1)\n",
    "N, bins, patches = ax.hist(df_in['bmi'], bins=100)\n",
    "\n",
    "for bin_value, patch in zip(bins, patches):\n",
    "    if bin_value < 18.5:\n",
    "        patch.set_facecolor('springgreen')\n",
    "    elif (bin_value >= 18.5) and (bin_value < 25):\n",
    "        patch.set_facecolor('lightskyblue')\n",
    "    else:\n",
    "        patch.set_facecolor('tomato')\n",
    "        \n",
    "xticks = [10, 18.5, 25, 30, 40, 50, 60, 70, 80, 90]\n",
    "ax.set_xticks(xticks)\n",
    "ax.set_xticklabels([str(xvalue) for xvalue in xticks])\n",
    "\n",
    "\n",
    "underweight_patch = mpatches.Patch(color='springgreen', label='Underweight')\n",
    "normal_patch = mpatches.Patch(color='lightskyblue', label='Normal')\n",
    "overweight_patch = mpatches.Patch(color='tomato', label='Overweight')\n",
    "ax.legend(handles=[underweight_patch, normal_patch, overweight_patch])\n",
    "\n",
    "ax.set_ylabel(\"Count\")\n",
    "ax.set_xlabel(\"BMI\")\n",
    "\n",
    "plt.tight_layout()\n",
    "#plt.savefig(\"/home/yizaochen/Desktop/drawzone_temp/aps/bmi_distribution.png\", dpi=200, transparent=False)\n",
    "plt.show()"
   ]
  },
  {
   "cell_type": "code",
   "execution_count": 84,
   "id": "4812deb4-81b1-44da-8ede-610053a47c7d",
   "metadata": {},
   "outputs": [
    {
     "data": {
      "text/html": [
       "<div>\n",
       "<style scoped>\n",
       "    .dataframe tbody tr th:only-of-type {\n",
       "        vertical-align: middle;\n",
       "    }\n",
       "\n",
       "    .dataframe tbody tr th {\n",
       "        vertical-align: top;\n",
       "    }\n",
       "\n",
       "    .dataframe thead th {\n",
       "        text-align: right;\n",
       "    }\n",
       "</style>\n",
       "<table border=\"1\" class=\"dataframe\">\n",
       "  <thead>\n",
       "    <tr style=\"text-align: right;\">\n",
       "      <th></th>\n",
       "      <th>gender</th>\n",
       "      <th>age</th>\n",
       "      <th>hypertension</th>\n",
       "      <th>heart_disease</th>\n",
       "      <th>ever_married</th>\n",
       "      <th>work_type</th>\n",
       "      <th>Residence_type</th>\n",
       "      <th>avg_glucose_level</th>\n",
       "      <th>bmi</th>\n",
       "      <th>smoking_status</th>\n",
       "      <th>stroke</th>\n",
       "    </tr>\n",
       "  </thead>\n",
       "  <tbody>\n",
       "    <tr>\n",
       "      <th>168</th>\n",
       "      <td>Female</td>\n",
       "      <td>81.0</td>\n",
       "      <td>0</td>\n",
       "      <td>0</td>\n",
       "      <td>Yes</td>\n",
       "      <td>Self-employed</td>\n",
       "      <td>Rural</td>\n",
       "      <td>81.95</td>\n",
       "      <td>16.9</td>\n",
       "      <td>never smoked</td>\n",
       "      <td>1</td>\n",
       "    </tr>\n",
       "  </tbody>\n",
       "</table>\n",
       "</div>"
      ],
      "text/plain": [
       "     gender   age  hypertension  heart_disease ever_married      work_type  \\\n",
       "168  Female  81.0             0              0          Yes  Self-employed   \n",
       "\n",
       "    Residence_type  avg_glucose_level   bmi smoking_status  stroke  \n",
       "168          Rural              81.95  16.9   never smoked       1  "
      ]
     },
     "execution_count": 84,
     "metadata": {},
     "output_type": "execute_result"
    }
   ],
   "source": [
    "mask = df_underweight['stroke'] == 1\n",
    "df_underweight_stroke = df_underweight[mask]\n",
    "df_underweight_stroke"
   ]
  },
  {
   "cell_type": "code",
   "execution_count": 85,
   "id": "00b13651-893f-44d0-961d-5cffed00c4df",
   "metadata": {},
   "outputs": [
    {
     "data": {
      "image/png": "[encoded data removed]",
      "text/plain": [
       "<Figure size 432x288 with 1 Axes>"
      ]
     },
     "metadata": {},
     "output_type": "display_data"
    }
   ],
   "source": [
    "fig, ax = plt.subplots(figsize=(6,4), facecolor=\"white\")\n",
    "\n",
    "ax.scatter(df_underweight['age'], df_underweight['bmi'])\n",
    "ax.scatter(df_underweight_stroke['age'], df_underweight_stroke['bmi'], color=\"red\")\n",
    "ax.set_xlabel(\"age\")\n",
    "\n",
    "plt.tight_layout()\n",
    "#plt.savefig(\"/home/yizaochen/Desktop/drawzone_temp/aps/bmi_distribution.png\", dpi=200, transparent=False)\n",
    "plt.show()"
   ]
  },
  {
   "cell_type": "code",
   "execution_count": null,
   "id": "d3c53b6c-0556-4b0e-b54b-1f52c5feb787",
   "metadata": {},
   "outputs": [],
   "source": []
  }
 ],
 "metadata": {
  "kernelspec": {
   "display_name": "Python 3",
   "language": "python",
   "name": "python3"
  },
  "language_info": {
   "codemirror_mode": {
    "name": "ipython",
    "version": 3
   },
   "file_extension": ".py",
   "mimetype": "text/x-python",
   "name": "python",
   "nbconvert_exporter": "python",
   "pygments_lexer": "ipython3",
   "version": "3.8.8"
  }
 },
 "nbformat": 4,
 "nbformat_minor": 5
}
