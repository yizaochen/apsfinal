{
 "cells": [
  {
   "cell_type": "code",
   "execution_count": 1,
   "id": "9227812e-e0e2-4c24-bc8a-a519f55846f1",
   "metadata": {},
   "outputs": [],
   "source": [
    "from os import path\n",
    "import matplotlib.pyplot as plt\n",
    "from tabulate import tabulate\n",
    "from apsfinal.tables import TBTAgent"
   ]
  },
  {
   "cell_type": "markdown",
   "id": "72bf050e-b4e1-4e04-be89-5d15f06e27d4",
   "metadata": {},
   "source": [
    "### Step 1: Set initial variables and initialize agent"
   ]
  },
  {
   "cell_type": "code",
   "execution_count": 2,
   "id": "f6e3faed-4515-4d0a-91bb-50ba7da613a9",
   "metadata": {},
   "outputs": [],
   "source": [
    "csv_in = path.join('..', 'data', 'healthcare-dataset-stroke-data-cleanbmi-containall.csv')  # Here, you can change the path you want\n",
    "tbt_agent = TBTAgent(csv_in)"
   ]
  },
  {
   "cell_type": "code",
   "execution_count": 3,
   "id": "6cbdcf7e-e0ee-478b-aa61-ed3888834e52",
   "metadata": {},
   "outputs": [
    {
     "data": {
      "text/html": [
       "<div>\n",
       "<style scoped>\n",
       "    .dataframe tbody tr th:only-of-type {\n",
       "        vertical-align: middle;\n",
       "    }\n",
       "\n",
       "    .dataframe tbody tr th {\n",
       "        vertical-align: top;\n",
       "    }\n",
       "\n",
       "    .dataframe thead th {\n",
       "        text-align: right;\n",
       "    }\n",
       "</style>\n",
       "<table border=\"1\" class=\"dataframe\">\n",
       "  <thead>\n",
       "    <tr style=\"text-align: right;\">\n",
       "      <th></th>\n",
       "      <th>gender</th>\n",
       "      <th>age</th>\n",
       "      <th>hypertension</th>\n",
       "      <th>heart_disease</th>\n",
       "      <th>ever_married</th>\n",
       "      <th>work_type</th>\n",
       "      <th>Residence_type</th>\n",
       "      <th>avg_glucose_level</th>\n",
       "      <th>bmi</th>\n",
       "      <th>smoking_status</th>\n",
       "      <th>stroke</th>\n",
       "    </tr>\n",
       "  </thead>\n",
       "  <tbody>\n",
       "    <tr>\n",
       "      <th>0</th>\n",
       "      <td>Male</td>\n",
       "      <td>67.0</td>\n",
       "      <td>0</td>\n",
       "      <td>1</td>\n",
       "      <td>Yes</td>\n",
       "      <td>Private</td>\n",
       "      <td>Urban</td>\n",
       "      <td>228.69</td>\n",
       "      <td>36.6</td>\n",
       "      <td>formerly smoked</td>\n",
       "      <td>1</td>\n",
       "    </tr>\n",
       "    <tr>\n",
       "      <th>1</th>\n",
       "      <td>Male</td>\n",
       "      <td>80.0</td>\n",
       "      <td>0</td>\n",
       "      <td>1</td>\n",
       "      <td>Yes</td>\n",
       "      <td>Private</td>\n",
       "      <td>Rural</td>\n",
       "      <td>105.92</td>\n",
       "      <td>32.5</td>\n",
       "      <td>never smoked</td>\n",
       "      <td>1</td>\n",
       "    </tr>\n",
       "    <tr>\n",
       "      <th>2</th>\n",
       "      <td>Female</td>\n",
       "      <td>49.0</td>\n",
       "      <td>0</td>\n",
       "      <td>0</td>\n",
       "      <td>Yes</td>\n",
       "      <td>Private</td>\n",
       "      <td>Urban</td>\n",
       "      <td>171.23</td>\n",
       "      <td>34.4</td>\n",
       "      <td>smokes</td>\n",
       "      <td>1</td>\n",
       "    </tr>\n",
       "    <tr>\n",
       "      <th>3</th>\n",
       "      <td>Female</td>\n",
       "      <td>79.0</td>\n",
       "      <td>1</td>\n",
       "      <td>0</td>\n",
       "      <td>Yes</td>\n",
       "      <td>Self-employed</td>\n",
       "      <td>Rural</td>\n",
       "      <td>174.12</td>\n",
       "      <td>24.0</td>\n",
       "      <td>never smoked</td>\n",
       "      <td>1</td>\n",
       "    </tr>\n",
       "    <tr>\n",
       "      <th>4</th>\n",
       "      <td>Male</td>\n",
       "      <td>81.0</td>\n",
       "      <td>0</td>\n",
       "      <td>0</td>\n",
       "      <td>Yes</td>\n",
       "      <td>Private</td>\n",
       "      <td>Urban</td>\n",
       "      <td>186.21</td>\n",
       "      <td>29.0</td>\n",
       "      <td>formerly smoked</td>\n",
       "      <td>1</td>\n",
       "    </tr>\n",
       "    <tr>\n",
       "      <th>...</th>\n",
       "      <td>...</td>\n",
       "      <td>...</td>\n",
       "      <td>...</td>\n",
       "      <td>...</td>\n",
       "      <td>...</td>\n",
       "      <td>...</td>\n",
       "      <td>...</td>\n",
       "      <td>...</td>\n",
       "      <td>...</td>\n",
       "      <td>...</td>\n",
       "      <td>...</td>\n",
       "    </tr>\n",
       "    <tr>\n",
       "      <th>3420</th>\n",
       "      <td>Male</td>\n",
       "      <td>82.0</td>\n",
       "      <td>1</td>\n",
       "      <td>0</td>\n",
       "      <td>Yes</td>\n",
       "      <td>Self-employed</td>\n",
       "      <td>Rural</td>\n",
       "      <td>71.97</td>\n",
       "      <td>28.3</td>\n",
       "      <td>never smoked</td>\n",
       "      <td>0</td>\n",
       "    </tr>\n",
       "    <tr>\n",
       "      <th>3421</th>\n",
       "      <td>Female</td>\n",
       "      <td>57.0</td>\n",
       "      <td>0</td>\n",
       "      <td>0</td>\n",
       "      <td>Yes</td>\n",
       "      <td>Private</td>\n",
       "      <td>Rural</td>\n",
       "      <td>77.93</td>\n",
       "      <td>21.7</td>\n",
       "      <td>never smoked</td>\n",
       "      <td>0</td>\n",
       "    </tr>\n",
       "    <tr>\n",
       "      <th>3422</th>\n",
       "      <td>Female</td>\n",
       "      <td>81.0</td>\n",
       "      <td>0</td>\n",
       "      <td>0</td>\n",
       "      <td>Yes</td>\n",
       "      <td>Self-employed</td>\n",
       "      <td>Urban</td>\n",
       "      <td>125.20</td>\n",
       "      <td>40.0</td>\n",
       "      <td>never smoked</td>\n",
       "      <td>0</td>\n",
       "    </tr>\n",
       "    <tr>\n",
       "      <th>3423</th>\n",
       "      <td>Female</td>\n",
       "      <td>35.0</td>\n",
       "      <td>0</td>\n",
       "      <td>0</td>\n",
       "      <td>Yes</td>\n",
       "      <td>Self-employed</td>\n",
       "      <td>Rural</td>\n",
       "      <td>82.99</td>\n",
       "      <td>30.6</td>\n",
       "      <td>never smoked</td>\n",
       "      <td>0</td>\n",
       "    </tr>\n",
       "    <tr>\n",
       "      <th>3424</th>\n",
       "      <td>Male</td>\n",
       "      <td>51.0</td>\n",
       "      <td>0</td>\n",
       "      <td>0</td>\n",
       "      <td>Yes</td>\n",
       "      <td>Private</td>\n",
       "      <td>Rural</td>\n",
       "      <td>166.29</td>\n",
       "      <td>25.6</td>\n",
       "      <td>formerly smoked</td>\n",
       "      <td>0</td>\n",
       "    </tr>\n",
       "  </tbody>\n",
       "</table>\n",
       "<p>3425 rows × 11 columns</p>\n",
       "</div>"
      ],
      "text/plain": [
       "      gender   age  hypertension  heart_disease ever_married      work_type  \\\n",
       "0       Male  67.0             0              1          Yes        Private   \n",
       "1       Male  80.0             0              1          Yes        Private   \n",
       "2     Female  49.0             0              0          Yes        Private   \n",
       "3     Female  79.0             1              0          Yes  Self-employed   \n",
       "4       Male  81.0             0              0          Yes        Private   \n",
       "...      ...   ...           ...            ...          ...            ...   \n",
       "3420    Male  82.0             1              0          Yes  Self-employed   \n",
       "3421  Female  57.0             0              0          Yes        Private   \n",
       "3422  Female  81.0             0              0          Yes  Self-employed   \n",
       "3423  Female  35.0             0              0          Yes  Self-employed   \n",
       "3424    Male  51.0             0              0          Yes        Private   \n",
       "\n",
       "     Residence_type  avg_glucose_level   bmi   smoking_status  stroke  \n",
       "0             Urban             228.69  36.6  formerly smoked       1  \n",
       "1             Rural             105.92  32.5     never smoked       1  \n",
       "2             Urban             171.23  34.4           smokes       1  \n",
       "3             Rural             174.12  24.0     never smoked       1  \n",
       "4             Urban             186.21  29.0  formerly smoked       1  \n",
       "...             ...                ...   ...              ...     ...  \n",
       "3420          Rural              71.97  28.3     never smoked       0  \n",
       "3421          Rural              77.93  21.7     never smoked       0  \n",
       "3422          Urban             125.20  40.0     never smoked       0  \n",
       "3423          Rural              82.99  30.6     never smoked       0  \n",
       "3424          Rural             166.29  25.6  formerly smoked       0  \n",
       "\n",
       "[3425 rows x 11 columns]"
      ]
     },
     "execution_count": 3,
     "metadata": {},
     "output_type": "execute_result"
    }
   ],
   "source": [
    "tbt_agent.df"
   ]
  },
  {
   "cell_type": "markdown",
   "id": "0624aeb7-2d1d-40a0-8421-603a208d1b4a",
   "metadata": {},
   "source": [
    "### Step 2: Assign feature1 and feature2"
   ]
  },
  {
   "cell_type": "code",
   "execution_count": 4,
   "id": "2e316a1d-ed4f-4c70-bda0-4750143b0302",
   "metadata": {},
   "outputs": [],
   "source": [
    "# All feature names: gender, age, hypertension, heart_disease, ever_married, work_type,\n",
    "#                    Residence_type, avg_glucose_level, bmi, smoking_status, stroke"
   ]
  },
  {
   "cell_type": "code",
   "execution_count": 5,
   "id": "e3b32ddc-86e6-435e-9832-b71644438b7d",
   "metadata": {},
   "outputs": [],
   "source": [
    "feature1 = 'stroke' # top\n",
    "feature2 = 'ever_married' # left\n",
    "\n",
    "age_criteria = 43.227   # <: young, >:old\n",
    "gluc_criteria = 106.148 # <: low, >:high\n",
    "bmi_criteria = 28.893   # <: low, >:high\n",
    "\n",
    "d_worktype = {'Work Type 1': ['children', 'Govt_job', 'Never_worked', 'Self-employed'],\n",
    "              'Work Type 2': ['Private']}"
   ]
  },
  {
   "cell_type": "markdown",
   "id": "ad60e7fc-bc36-431c-8c8a-06360a44ee7e",
   "metadata": {},
   "source": [
    "### Step 3: Show Table"
   ]
  },
  {
   "cell_type": "code",
   "execution_count": 6,
   "id": "54c41be1-0bd6-419d-9363-e7b2b0d0164b",
   "metadata": {},
   "outputs": [
    {
     "name": "stdout",
     "output_type": "stream",
     "text": [
      "╒═══════════════╤════════╤═══════════╤═══════════╕\n",
      "│               │ Stroke │ No Stroke │ Row Total │\n",
      "├───────────────┼────────┼───────────┼───────────┤\n",
      "│ Ever-Married  │ 160    │ 2439      │ 2599      │\n",
      "├───────────────┼────────┼───────────┼───────────┤\n",
      "│ Never-Married │ 20     │ 806       │ 826       │\n",
      "├───────────────┼────────┼───────────┼───────────┤\n",
      "│ Column Total  │ 180    │ 3245      │ 3425      │\n",
      "╘═══════════════╧════════╧═══════════╧═══════════╛\n"
     ]
    }
   ],
   "source": [
    "tbt_agent.show_two_by_two_table(feature1, feature2, age_criteria, gluc_criteria, bmi_criteria, d_worktype)"
   ]
  },
  {
   "cell_type": "markdown",
   "id": "e271d52d-d742-422e-9390-5610ac32c2ad",
   "metadata": {},
   "source": [
    "### Step 4: Odds ratio $\\hat{\\theta}$ and 95% Confidence Interval of $\\log(\\hat{\\theta})$"
   ]
  },
  {
   "cell_type": "code",
   "execution_count": 7,
   "id": "3b4b7f5b-df6d-457b-9bfe-23e725880754",
   "metadata": {},
   "outputs": [
    {
     "name": "stdout",
     "output_type": "stream",
     "text": [
      "theta: 2.644\n",
      "CI of log(theta): (0.501, 1.444)\n"
     ]
    }
   ],
   "source": [
    "tbt_agent.get_odds_ratio_and_CI(feature1, feature2, age_criteria, gluc_criteria, bmi_criteria, d_worktype)"
   ]
  },
  {
   "cell_type": "markdown",
   "id": "6f7e6640-a1b8-436c-b8ec-70b8b54c14c3",
   "metadata": {},
   "source": [
    "### Step 5: Plot Condition Probability"
   ]
  },
  {
   "cell_type": "code",
   "execution_count": 11,
   "id": "21116df1-9066-48c6-9dd0-b68c7a75eb67",
   "metadata": {},
   "outputs": [
    {
     "data": {
      "image/png": "[encoded data removed]",
      "text/plain": [
       "<Figure size 345.6x216 with 1 Axes>"
      ]
     },
     "metadata": {
      "needs_background": "light"
     },
     "output_type": "display_data"
    }
   ],
   "source": [
    "fig, ax = plt.subplots(figsize=(4.8,3))\n",
    "\n",
    "width = 1\n",
    "\n",
    "prob1 = 160/2599\n",
    "prob2 = 20/826\n",
    "ax.bar(1, prob1, width, color=\"red\", label=f\"P(Stroke|Marry)={prob1:.3f}\")\n",
    "ax.bar(3, prob2, width, color=\"grey\",label=f\"P(Stroke|~Marry)={prob2:.3f}\")\n",
    "ax.set_ylabel(\"P(Stroke|Marry Status)\")\n",
    "ax.set_xticks([1,3])\n",
    "ax.set_xticklabels([\"Marry\",\"No-Marry\"])\n",
    "#ax.set_ylim(0,0.08)\n",
    "\n",
    "ax.legend()\n",
    "plt.tight_layout()\n",
    "#plt.savefig(\"/home/yizaochen/Desktop/drawzone_temp/aps/condition_marry.svg\")\n",
    "plt.show()"
   ]
  },
  {
   "cell_type": "code",
   "execution_count": 51,
   "id": "76c02685-7711-40b3-8d34-9894f3608230",
   "metadata": {},
   "outputs": [
    {
     "data": {
      "image/png": "[encoded data removed]",
      "text/plain": [
       "<Figure size 345.6x216 with 1 Axes>"
      ]
     },
     "metadata": {
      "needs_background": "light"
     },
     "output_type": "display_data"
    }
   ],
   "source": [
    "fig, ax = plt.subplots(figsize=(4.8,3))\n",
    "\n",
    "width = 1\n",
    "\n",
    "prob1 = 36/206\n",
    "prob2 = 144/3219\n",
    "ax.bar(1, prob1, width, color=\"red\", label=f\"P(Stroke|HeartD)={prob1:.3f}\")\n",
    "ax.bar(3, prob2, width, color=\"grey\",label=f\"P(Stroke|~HeartD)={prob2:.3f}\")\n",
    "ax.set_ylabel(\"P(Stroke|HeartDisease Status)\")\n",
    "ax.set_xticks([1,3])\n",
    "ax.set_xticklabels([\"Heart Disease\",\"No-Heart Disease\"])\n",
    "#ax.set_ylim(0,0.08)\n",
    "\n",
    "ax.legend()\n",
    "plt.tight_layout()\n",
    "#plt.savefig(\"/home/yizaochen/Desktop/drawzone_temp/aps/condition_heartD.svg\")\n",
    "plt.show()"
   ]
  },
  {
   "cell_type": "code",
   "execution_count": 46,
   "id": "7acabb0a-5d62-4dbe-9353-a09eb042298f",
   "metadata": {},
   "outputs": [
    {
     "data": {
      "image/png": "[encoded data removed]",
      "text/plain": [
       "<Figure size 345.6x216 with 1 Axes>"
      ]
     },
     "metadata": {
      "needs_background": "light"
     },
     "output_type": "display_data"
    }
   ],
   "source": [
    "fig, ax = plt.subplots(figsize=(4.8,3))\n",
    "\n",
    "width = 1\n",
    "\n",
    "prob1 = 57/408\n",
    "prob2 = 123/3017\n",
    "ax.bar(1, prob1, width, color=\"red\", label=f\"P(Stroke|HyperT)={prob1:.3f}\")\n",
    "ax.bar(3, prob2, width, color=\"grey\",label=f\"P(Stroke|~HyperT)={prob2:.3f}\")\n",
    "ax.set_ylabel(\"P(Stroke|Hypertension-Status)\")\n",
    "ax.set_xticks([1,3])\n",
    "ax.set_xticklabels([\"Hypertension\",\"No-Hypertension\"])\n",
    "#ax.set_ylim(0,0.08)\n",
    "\n",
    "ax.legend()\n",
    "plt.tight_layout()\n",
    "#plt.savefig(\"/home/yizaochen/Desktop/drawzone_temp/aps/condition_hypert.svg\")\n",
    "plt.show()"
   ]
  },
  {
   "cell_type": "code",
   "execution_count": 37,
   "id": "2db57e76-06e2-4819-8449-652aa16f7617",
   "metadata": {},
   "outputs": [
    {
     "data": {
      "image/png": "[encoded data removed]",
      "text/plain": [
       "<Figure size 288x216 with 1 Axes>"
      ]
     },
     "metadata": {
      "needs_background": "light"
     },
     "output_type": "display_data"
    }
   ],
   "source": [
    "fig, ax = plt.subplots(figsize=(4,3))\n",
    "\n",
    "width = 1\n",
    "\n",
    "prob1 = 86/1680\n",
    "prob2 = 94/1745\n",
    "ax.bar(1, prob1, width, color=\"green\", label=f\"P(Stroke|Rural)={prob1:.3f}\")\n",
    "ax.bar(3, prob2, width, color=\"grey\",label=f\"P(Stroke|Urban)={prob2:.3f}\")\n",
    "ax.set_ylabel(\"P(Stroke|Residence Type)\")\n",
    "ax.set_xticks([1,3])\n",
    "ax.set_xticklabels([\"Rural\",\"Urban\"])\n",
    "ax.set_ylim(0,0.08)\n",
    "\n",
    "ax.legend()\n",
    "plt.tight_layout()\n",
    "#plt.savefig(\"/home/yizaochen/Desktop/drawzone_temp/aps/condition_residence_type.svg\")\n",
    "plt.show()"
   ]
  },
  {
   "cell_type": "code",
   "execution_count": null,
   "id": "4162212b-89f5-4a0f-be9a-5de2ed5b6ce6",
   "metadata": {},
   "outputs": [],
   "source": []
  },
  {
   "cell_type": "markdown",
   "id": "5c5c54a0-6bfc-46de-b4c5-eff550d7b114",
   "metadata": {},
   "source": [
    "### Step 5: Customized Odds Ratio"
   ]
  },
  {
   "cell_type": "code",
   "execution_count": 4,
   "id": "28ba9066-0712-4876-98c9-dda6c64f6aec",
   "metadata": {},
   "outputs": [],
   "source": [
    "import numpy as np"
   ]
  },
  {
   "cell_type": "code",
   "execution_count": 5,
   "id": "673d14c3-43c0-4b70-9512-d7253b61260f",
   "metadata": {},
   "outputs": [],
   "source": [
    "a = 220\n",
    "b = 27\n",
    "c = 3133\n",
    "d = 986"
   ]
  },
  {
   "cell_type": "code",
   "execution_count": 6,
   "id": "572215b7-7163-4e49-b213-1f172993ec2c",
   "metadata": {},
   "outputs": [],
   "source": [
    "theta = (a * d) / (b * c)\n",
    "log_theta = np.log(theta)\n",
    "inner_term = (1/a) + (1/b) + (1/c) + (1/d)\n",
    "ci = 1.96 * np.sqrt(inner_term)\n",
    "ci_left = log_theta - ci\n",
    "ci_right = log_theta + ci"
   ]
  },
  {
   "cell_type": "code",
   "execution_count": 7,
   "id": "0d292bc4-1027-4a10-977b-ed9a8706783e",
   "metadata": {},
   "outputs": [
    {
     "name": "stdout",
     "output_type": "stream",
     "text": [
      "theta: 2.564\n",
      "CI of log(theta): (0.536, 1.348)\n"
     ]
    }
   ],
   "source": [
    "print(f'theta: {theta:.3f}')\n",
    "print(f'CI of log(theta): ({ci_left:.3f}, {ci_right:.3f})')"
   ]
  },
  {
   "cell_type": "code",
   "execution_count": null,
   "id": "9d53553f-f932-4230-b61f-21ad1a1d1f6b",
   "metadata": {},
   "outputs": [],
   "source": []
  }
 ],
 "metadata": {
  "kernelspec": {
   "display_name": "Python 3",
   "language": "python",
   "name": "python3"
  },
  "language_info": {
   "codemirror_mode": {
    "name": "ipython",
    "version": 3
   },
   "file_extension": ".py",
   "mimetype": "text/x-python",
   "name": "python",
   "nbconvert_exporter": "python",
   "pygments_lexer": "ipython3",
   "version": "3.8.8"
  }
 },
 "nbformat": 4,
 "nbformat_minor": 5
}
