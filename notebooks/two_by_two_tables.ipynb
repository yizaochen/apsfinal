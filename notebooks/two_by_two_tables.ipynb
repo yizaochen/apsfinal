{
 "cells": [
  {
   "cell_type": "code",
   "execution_count": 1,
   "id": "9227812e-e0e2-4c24-bc8a-a519f55846f1",
   "metadata": {},
   "outputs": [],
   "source": [
    "from os import path\n",
    "from tabulate import tabulate\n",
    "from apsfinal.tables import TBTAgent"
   ]
  },
  {
   "cell_type": "markdown",
   "id": "72bf050e-b4e1-4e04-be89-5d15f06e27d4",
   "metadata": {},
   "source": [
    "### Step 1: Set initial variables and initialize agent"
   ]
  },
  {
   "cell_type": "code",
   "execution_count": 2,
   "id": "f6e3faed-4515-4d0a-91bb-50ba7da613a9",
   "metadata": {},
   "outputs": [],
   "source": [
    "csv_in = path.join('..', 'data', 'healthcare-dataset-stroke-data.csv')  # Here, you can change the path you want\n",
    "tbt_agent = TBTAgent(csv_in)"
   ]
  },
  {
   "cell_type": "markdown",
   "id": "0624aeb7-2d1d-40a0-8421-603a208d1b4a",
   "metadata": {},
   "source": [
    "### Step 2: Assign feature1 and feature2"
   ]
  },
  {
   "cell_type": "code",
   "execution_count": 3,
   "id": "2e316a1d-ed4f-4c70-bda0-4750143b0302",
   "metadata": {},
   "outputs": [],
   "source": [
    "# All feature names: gender, age, hypertension, heart_disease, ever_married, work_type,\n",
    "#                    Residence_type, avg_glucose_level, bmi, smoking_status, stroke"
   ]
  },
  {
   "cell_type": "code",
   "execution_count": 4,
   "id": "e3b32ddc-86e6-435e-9832-b71644438b7d",
   "metadata": {},
   "outputs": [],
   "source": [
    "feature1 = 'stroke' # top\n",
    "feature2 = 'gender' # left\n",
    "\n",
    "age_criteria = 43.227   # <: young, >:old\n",
    "gluc_criteria = 106.148 # <: low, >:high\n",
    "bmi_criteria = 28.893   # <: low, >:high\n",
    "\n",
    "d_worktype = {'Work Type 1': ['children', 'Govt_job', 'Never_worked', 'Self-employed'],\n",
    "              'Work Type 2': ['Private']}"
   ]
  },
  {
   "cell_type": "markdown",
   "id": "ad60e7fc-bc36-431c-8c8a-06360a44ee7e",
   "metadata": {},
   "source": [
    "### Step 3: Show Table"
   ]
  },
  {
   "cell_type": "code",
   "execution_count": 5,
   "id": "54c41be1-0bd6-419d-9363-e7b2b0d0164b",
   "metadata": {},
   "outputs": [
    {
     "name": "stdout",
     "output_type": "stream",
     "text": [
      "╒══════════════╤════════╤═══════════╤═══════════╕\n",
      "│              │ Stroke │ No Stroke │ Row Total │\n",
      "├──────────────┼────────┼───────────┼───────────┤\n",
      "│ Male         │ 108    │ 2007      │ 2115      │\n",
      "├──────────────┼────────┼───────────┼───────────┤\n",
      "│ Female       │ 141    │ 2853      │ 2994      │\n",
      "├──────────────┼────────┼───────────┼───────────┤\n",
      "│ Column Total │ 249    │ 4860      │ 5109      │\n",
      "╘══════════════╧════════╧═══════════╧═══════════╛\n"
     ]
    }
   ],
   "source": [
    "tbt_agent.show_two_by_two_table(feature1, feature2, age_criteria, gluc_criteria, bmi_criteria, d_worktype)"
   ]
  },
  {
   "cell_type": "markdown",
   "id": "e271d52d-d742-422e-9390-5610ac32c2ad",
   "metadata": {},
   "source": [
    "### Step 4: Odds ratio $\\hat{\\theta}$ and 95% Confidence Interval of $\\log(\\hat{\\theta})$"
   ]
  },
  {
   "cell_type": "code",
   "execution_count": 6,
   "id": "3b4b7f5b-df6d-457b-9bfe-23e725880754",
   "metadata": {},
   "outputs": [
    {
     "name": "stdout",
     "output_type": "stream",
     "text": [
      "theta: 1.089\n",
      "CI of log(theta): (-0.172, 0.342)\n"
     ]
    }
   ],
   "source": [
    "tbt_agent.get_odds_ratio_and_CI(feature1, feature2, age_criteria, gluc_criteria, bmi_criteria, d_worktype)"
   ]
  },
  {
   "cell_type": "markdown",
   "id": "5c5c54a0-6bfc-46de-b4c5-eff550d7b114",
   "metadata": {},
   "source": [
    "### Step 5: Customized Odds Ratio"
   ]
  },
  {
   "cell_type": "code",
   "execution_count": 4,
   "id": "28ba9066-0712-4876-98c9-dda6c64f6aec",
   "metadata": {},
   "outputs": [],
   "source": [
    "import numpy as np"
   ]
  },
  {
   "cell_type": "code",
   "execution_count": 5,
   "id": "673d14c3-43c0-4b70-9512-d7253b61260f",
   "metadata": {},
   "outputs": [],
   "source": [
    "a = 220\n",
    "b = 27\n",
    "c = 3133\n",
    "d = 986"
   ]
  },
  {
   "cell_type": "code",
   "execution_count": 6,
   "id": "572215b7-7163-4e49-b213-1f172993ec2c",
   "metadata": {},
   "outputs": [],
   "source": [
    "theta = (a * d) / (b * c)\n",
    "log_theta = np.log(theta)\n",
    "inner_term = (1/a) + (1/b) + (1/c) + (1/d)\n",
    "ci = 1.96 * np.sqrt(inner_term)\n",
    "ci_left = log_theta - ci\n",
    "ci_right = log_theta + ci"
   ]
  },
  {
   "cell_type": "code",
   "execution_count": 7,
   "id": "0d292bc4-1027-4a10-977b-ed9a8706783e",
   "metadata": {},
   "outputs": [
    {
     "name": "stdout",
     "output_type": "stream",
     "text": [
      "theta: 2.564\n",
      "CI of log(theta): (0.536, 1.348)\n"
     ]
    }
   ],
   "source": [
    "print(f'theta: {theta:.3f}')\n",
    "print(f'CI of log(theta): ({ci_left:.3f}, {ci_right:.3f})')"
   ]
  },
  {
   "cell_type": "code",
   "execution_count": null,
   "id": "9d53553f-f932-4230-b61f-21ad1a1d1f6b",
   "metadata": {},
   "outputs": [],
   "source": []
  }
 ],
 "metadata": {
  "kernelspec": {
   "display_name": "Python 3",
   "language": "python",
   "name": "python3"
  },
  "language_info": {
   "codemirror_mode": {
    "name": "ipython",
    "version": 3
   },
   "file_extension": ".py",
   "mimetype": "text/x-python",
   "name": "python",
   "nbconvert_exporter": "python",
   "pygments_lexer": "ipython3",
   "version": "3.8.8"
  }
 },
 "nbformat": 4,
 "nbformat_minor": 5
}
