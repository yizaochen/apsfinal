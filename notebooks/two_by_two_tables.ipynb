{
 "cells": [
  {
   "cell_type": "code",
   "execution_count": 1,
   "id": "9227812e-e0e2-4c24-bc8a-a519f55846f1",
   "metadata": {},
   "outputs": [],
   "source": [
    "from os import path\n",
    "from tabulate import tabulate\n",
    "from apsfinal.tables import TBTAgent"
   ]
  },
  {
   "cell_type": "markdown",
   "id": "72bf050e-b4e1-4e04-be89-5d15f06e27d4",
   "metadata": {},
   "source": [
    "### Step 1: Set initial variables and initialize agent"
   ]
  },
  {
   "cell_type": "code",
   "execution_count": 2,
   "id": "f6e3faed-4515-4d0a-91bb-50ba7da613a9",
   "metadata": {},
   "outputs": [],
   "source": [
    "csv_in = path.join('..', 'data', 'healthcare-dataset-stroke-data.csv')  # Here, you can change the path you want\n",
    "tbt_agent = TBTAgent(csv_in)"
   ]
  },
  {
   "cell_type": "markdown",
   "id": "0624aeb7-2d1d-40a0-8421-603a208d1b4a",
   "metadata": {},
   "source": [
    "### Step 2: Assign feature1 and feature2"
   ]
  },
  {
   "cell_type": "code",
   "execution_count": null,
   "id": "2e316a1d-ed4f-4c70-bda0-4750143b0302",
   "metadata": {},
   "outputs": [],
   "source": [
    "# All feature names: gender, age, hypertension, heart_disease, ever_married, work_type,\n",
    "#                    Residence_type, avg_glucose_level, bmi, smoking_status, stroke"
   ]
  },
  {
   "cell_type": "code",
   "execution_count": 64,
   "id": "e3b32ddc-86e6-435e-9832-b71644438b7d",
   "metadata": {},
   "outputs": [],
   "source": [
    "feature1 = 'smoking_status' # top\n",
    "feature2 = 'gender' # left\n",
    "\n",
    "age_criteria = 43.227   # <: young, >:old\n",
    "gluc_criteria = 106.148 # <: low, >:high\n",
    "bmi_criteria = 28.893   # <: low, >:high\n",
    "\n",
    "d_worktype = {'Work Type 1': ['children', 'Govt_job', 'Never_worked', 'Self-employed'],\n",
    "              'Work Type 2': ['Private']}"
   ]
  },
  {
   "cell_type": "markdown",
   "id": "ad60e7fc-bc36-431c-8c8a-06360a44ee7e",
   "metadata": {},
   "source": [
    "### Step 3: Show Table"
   ]
  },
  {
   "cell_type": "code",
   "execution_count": 65,
   "id": "54c41be1-0bd6-419d-9363-e7b2b0d0164b",
   "metadata": {},
   "outputs": [
    {
     "name": "stdout",
     "output_type": "stream",
     "text": [
      "╒══════════════╤═══════╤══════════╤═══════════╕\n",
      "│              │ Smoke │ No smoke │ Row Total │\n",
      "├──────────────┼───────┼──────────┼───────────┤\n",
      "│ Male         │ 744   │ 663      │ 1407      │\n",
      "├──────────────┼───────┼──────────┼───────────┤\n",
      "│ Female       │ 929   │ 1229     │ 2158      │\n",
      "├──────────────┼───────┼──────────┼───────────┤\n",
      "│ Column Total │ 1673  │ 1892     │ 3565      │\n",
      "╘══════════════╧═══════╧══════════╧═══════════╛\n"
     ]
    }
   ],
   "source": [
    "tbt_agent.show_two_by_two_table(feature1, feature2, age_criteria, gluc_criteria, bmi_criteria, d_worktype)"
   ]
  },
  {
   "cell_type": "markdown",
   "id": "e271d52d-d742-422e-9390-5610ac32c2ad",
   "metadata": {},
   "source": [
    "### Step 4: Odds ratio $\\hat{\\theta}$ and 95% Confidence Interval of $\\log(\\hat{\\theta})$"
   ]
  },
  {
   "cell_type": "code",
   "execution_count": 66,
   "id": "3b4b7f5b-df6d-457b-9bfe-23e725880754",
   "metadata": {},
   "outputs": [
    {
     "name": "stdout",
     "output_type": "stream",
     "text": [
      "theta: 1.485\n",
      "CI of log(theta): (0.260, 0.530)\n"
     ]
    }
   ],
   "source": [
    "tbt_agent.get_odds_ratio_and_CI(feature1, feature2, age_criteria, gluc_criteria, bmi_criteria, d_worktype)"
   ]
  },
  {
   "cell_type": "code",
   "execution_count": null,
   "id": "26c5d4ab-2027-4aba-84cc-f91d6e96db41",
   "metadata": {},
   "outputs": [],
   "source": []
  }
 ],
 "metadata": {
  "kernelspec": {
   "display_name": "Python 3",
   "language": "python",
   "name": "python3"
  },
  "language_info": {
   "codemirror_mode": {
    "name": "ipython",
    "version": 3
   },
   "file_extension": ".py",
   "mimetype": "text/x-python",
   "name": "python",
   "nbconvert_exporter": "python",
   "pygments_lexer": "ipython3",
   "version": "3.8.8"
  }
 },
 "nbformat": 4,
 "nbformat_minor": 5
}
