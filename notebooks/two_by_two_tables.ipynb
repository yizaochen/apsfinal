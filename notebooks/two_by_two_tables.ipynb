{
 "cells": [
  {
   "cell_type": "code",
   "execution_count": 1,
   "id": "832e6ecd-d289-4b4d-8042-eaddcbf3eb72",
   "metadata": {},
   "outputs": [],
   "source": [
    "from os import path\n",
    "from tabulate import tabulate\n",
    "from apsfinal.tables import TBTAgent"
   ]
  },
  {
   "cell_type": "markdown",
   "id": "1a0f0da9-5247-47b9-ba5c-18bf244adb9d",
   "metadata": {},
   "source": [
    "### Step 1: Set initial variables and initialize agent"
   ]
  },
  {
   "cell_type": "code",
   "execution_count": 2,
   "id": "3881640c-6fcf-40fe-82ae-12fdf0e5800d",
   "metadata": {},
   "outputs": [],
   "source": [
    "csv_in = path.join('..', 'data', 'healthcare-dataset-stroke-data.csv')  # Here, you can change the path you want\n",
    "tbt_agent = TBTAgent(csv_in)"
   ]
  },
  {
   "cell_type": "markdown",
   "id": "cdabe24d-c600-4b25-b231-b6dbebfd9643",
   "metadata": {},
   "source": [
    "### Step 2: Assign feature1 and feature2"
   ]
  },
  {
   "cell_type": "code",
   "execution_count": 3,
   "id": "2262571e-283a-4d3a-b374-bafba32fad7d",
   "metadata": {},
   "outputs": [],
   "source": [
    "# All feature names: gender, age, hypertension, heart_disease, ever_married, work_type, \n",
    "#                    Residence_type, avg_glucose_level, bmi, smoking_status, stroke"
   ]
  },
  {
   "cell_type": "code",
   "execution_count": 11,
   "id": "dd07f299-72e0-4db3-8382-587d834b4560",
   "metadata": {},
   "outputs": [],
   "source": [
    "feature1 = 'stroke' # top\n",
    "feature2 = 'work_type' # left\n",
    "\n",
    "age_criteria = 43.227   # <: young, >:old\n",
    "gluc_criteria = 106.148 # <: low, >:high\n",
    "bmi_criteria = 28.893   # <: low, >:high"
   ]
  },
  {
   "cell_type": "markdown",
   "id": "a794e7c9-945d-4bf5-a0c0-bc59fbbeef92",
   "metadata": {},
   "source": [
    "### Step 3: Show Table"
   ]
  },
  {
   "cell_type": "code",
   "execution_count": 12,
   "id": "f0927dec-bb39-4a36-8081-61b8a21f9880",
   "metadata": {},
   "outputs": [
    {
     "name": "stdout",
     "output_type": "stream",
     "text": [
      "╒══════════════╤════════╤═══════════╤═══════════╕\n",
      "│              │ Stroke │ No Stroke │ Row Total │\n",
      "├──────────────┼────────┼───────────┼───────────┤\n",
      "│ Work Type 1  │ 100    │ 2085      │ 2185      │\n",
      "├──────────────┼────────┼───────────┼───────────┤\n",
      "│ Work Type 2  │ 149    │ 2776      │ 2925      │\n",
      "├──────────────┼────────┼───────────┼───────────┤\n",
      "│ Column Total │ 249    │ 4861      │ 5110      │\n",
      "╘══════════════╧════════╧═══════════╧═══════════╛\n"
     ]
    }
   ],
   "source": [
    "tbt_agent.show_two_by_two_table(feature1, feature2, age_criteria, gluc_criteria, bmi_criteria)"
   ]
  },
  {
   "cell_type": "markdown",
   "id": "bf946cc2-3885-4cd4-84e1-f08969b4abea",
   "metadata": {},
   "source": [
    "### Additional Part 1: Just check for code"
   ]
  },
  {
   "cell_type": "code",
   "execution_count": 6,
   "id": "39155f6c-ac8c-436f-ba7b-b344ee7fdb61",
   "metadata": {},
   "outputs": [
    {
     "name": "stdout",
     "output_type": "stream",
     "text": [
      "╒══════════════╤════════╤═══════════╤═══════════╕\n",
      "│              │ Stroke │ No Stroke │ Row Total │\n",
      "├──────────────┼────────┼───────────┼───────────┤\n",
      "│ Smoke        │ 112    │ 1562      │ 1674      │\n",
      "├──────────────┼────────┼───────────┼───────────┤\n",
      "│ No smoke     │ 90     │ 1802      │ 1892      │\n",
      "├──────────────┼────────┼───────────┼───────────┤\n",
      "│ Column Total │ 202    │ 3364      │ 3566      │\n",
      "╘══════════════╧════════╧═══════════╧═══════════╛\n"
     ]
    }
   ],
   "source": [
    "tbt_agent.show_two_by_two_table('stroke', 'smoking_status')"
   ]
  },
  {
   "cell_type": "markdown",
   "id": "95518801-1f1e-48d8-b8dc-abf6ac2c4715",
   "metadata": {},
   "source": [
    "### Addtional Part 2: Print Mean"
   ]
  },
  {
   "cell_type": "code",
   "execution_count": 4,
   "id": "ece5788d-470a-4f43-a015-9f555a75f064",
   "metadata": {},
   "outputs": [
    {
     "name": "stdout",
     "output_type": "stream",
     "text": [
      "Mean of age: 43.227\n",
      "Mean of avg_glucose_level: 106.148\n",
      "Mean of bmi: 28.893\n"
     ]
    }
   ],
   "source": [
    "tbt_agent.print_numerical_mean()"
   ]
  },
  {
   "cell_type": "code",
   "execution_count": null,
   "id": "5e389cbd-ba1c-4e13-8b78-6c7366f63d32",
   "metadata": {},
   "outputs": [],
   "source": []
  }
 ],
 "metadata": {
  "kernelspec": {
   "display_name": "Python 3",
   "language": "python",
   "name": "python3"
  },
  "language_info": {
   "codemirror_mode": {
    "name": "ipython",
    "version": 3
   },
   "file_extension": ".py",
   "mimetype": "text/x-python",
   "name": "python",
   "nbconvert_exporter": "python",
   "pygments_lexer": "ipython3",
   "version": "3.8.8"
  }
 },
 "nbformat": 4,
 "nbformat_minor": 5
}
