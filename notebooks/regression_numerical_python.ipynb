{
 "cells": [
  {
   "cell_type": "code",
   "execution_count": 1,
   "id": "c3de6798-1131-4af3-917b-7b918bafc167",
   "metadata": {},
   "outputs": [],
   "source": [
    "import pandas as pd\n",
    "from os import path\n",
    "import matplotlib.pyplot as plt\n",
    "import numpy as np"
   ]
  },
  {
   "cell_type": "markdown",
   "id": "712846d2-b1d3-4498-9dea-03033cc2ffe3",
   "metadata": {},
   "source": [
    "### Read CSV"
   ]
  },
  {
   "cell_type": "code",
   "execution_count": 2,
   "id": "5978de8c-9caf-4076-9568-915840476d01",
   "metadata": {},
   "outputs": [
    {
     "data": {
      "text/html": [
       "<div>\n",
       "<style scoped>\n",
       "    .dataframe tbody tr th:only-of-type {\n",
       "        vertical-align: middle;\n",
       "    }\n",
       "\n",
       "    .dataframe tbody tr th {\n",
       "        vertical-align: top;\n",
       "    }\n",
       "\n",
       "    .dataframe thead th {\n",
       "        text-align: right;\n",
       "    }\n",
       "</style>\n",
       "<table border=\"1\" class=\"dataframe\">\n",
       "  <thead>\n",
       "    <tr style=\"text-align: right;\">\n",
       "      <th></th>\n",
       "      <th>age</th>\n",
       "      <th>hypertension</th>\n",
       "      <th>heart_disease</th>\n",
       "      <th>ever_married</th>\n",
       "      <th>work_type</th>\n",
       "      <th>avg_glucose_level</th>\n",
       "      <th>bmi</th>\n",
       "      <th>smoking_status</th>\n",
       "      <th>stroke</th>\n",
       "    </tr>\n",
       "  </thead>\n",
       "  <tbody>\n",
       "    <tr>\n",
       "      <th>0</th>\n",
       "      <td>67.0</td>\n",
       "      <td>0</td>\n",
       "      <td>1</td>\n",
       "      <td>Yes</td>\n",
       "      <td>Private</td>\n",
       "      <td>228.69</td>\n",
       "      <td>36.6</td>\n",
       "      <td>formerly smoked</td>\n",
       "      <td>1</td>\n",
       "    </tr>\n",
       "    <tr>\n",
       "      <th>1</th>\n",
       "      <td>80.0</td>\n",
       "      <td>0</td>\n",
       "      <td>1</td>\n",
       "      <td>Yes</td>\n",
       "      <td>Private</td>\n",
       "      <td>105.92</td>\n",
       "      <td>32.5</td>\n",
       "      <td>never smoked</td>\n",
       "      <td>1</td>\n",
       "    </tr>\n",
       "    <tr>\n",
       "      <th>2</th>\n",
       "      <td>49.0</td>\n",
       "      <td>0</td>\n",
       "      <td>0</td>\n",
       "      <td>Yes</td>\n",
       "      <td>Private</td>\n",
       "      <td>171.23</td>\n",
       "      <td>34.4</td>\n",
       "      <td>smokes</td>\n",
       "      <td>1</td>\n",
       "    </tr>\n",
       "    <tr>\n",
       "      <th>3</th>\n",
       "      <td>79.0</td>\n",
       "      <td>1</td>\n",
       "      <td>0</td>\n",
       "      <td>Yes</td>\n",
       "      <td>Self-employed</td>\n",
       "      <td>174.12</td>\n",
       "      <td>24.0</td>\n",
       "      <td>never smoked</td>\n",
       "      <td>1</td>\n",
       "    </tr>\n",
       "    <tr>\n",
       "      <th>4</th>\n",
       "      <td>81.0</td>\n",
       "      <td>0</td>\n",
       "      <td>0</td>\n",
       "      <td>Yes</td>\n",
       "      <td>Private</td>\n",
       "      <td>186.21</td>\n",
       "      <td>29.0</td>\n",
       "      <td>formerly smoked</td>\n",
       "      <td>1</td>\n",
       "    </tr>\n",
       "  </tbody>\n",
       "</table>\n",
       "</div>"
      ],
      "text/plain": [
       "    age  hypertension  heart_disease ever_married      work_type  \\\n",
       "0  67.0             0              1          Yes        Private   \n",
       "1  80.0             0              1          Yes        Private   \n",
       "2  49.0             0              0          Yes        Private   \n",
       "3  79.0             1              0          Yes  Self-employed   \n",
       "4  81.0             0              0          Yes        Private   \n",
       "\n",
       "   avg_glucose_level   bmi   smoking_status  stroke  \n",
       "0             228.69  36.6  formerly smoked       1  \n",
       "1             105.92  32.5     never smoked       1  \n",
       "2             171.23  34.4           smokes       1  \n",
       "3             174.12  24.0     never smoked       1  \n",
       "4             186.21  29.0  formerly smoked       1  "
      ]
     },
     "execution_count": 2,
     "metadata": {},
     "output_type": "execute_result"
    }
   ],
   "source": [
    "csv_in =  path.join('..', 'data', 'healthcare-dataset-stroke-data-cleanbmi.csv')\n",
    "df_in = pd.read_csv(csv_in)\n",
    "df_in.head()"
   ]
  },
  {
   "cell_type": "code",
   "execution_count": 3,
   "id": "4aa9214d-d846-4a40-b024-dfc1f4380f6b",
   "metadata": {},
   "outputs": [],
   "source": [
    "def get_prob_stroke_simple_model(beta0, beta1, x_value):\n",
    "    s = beta0 + beta1 * x_value\n",
    "    exps = np.exp(s)\n",
    "    return exps / (1+exps)"
   ]
  },
  {
   "cell_type": "markdown",
   "id": "917a830e-9c2f-4fd4-8179-26ff29ac4556",
   "metadata": {},
   "source": [
    "### Age"
   ]
  },
  {
   "cell_type": "code",
   "execution_count": 4,
   "id": "33074284-ce8f-44c0-91f0-2eb97a02e648",
   "metadata": {},
   "outputs": [
    {
     "name": "stdout",
     "output_type": "stream",
     "text": [
      "Minimum: 10.0\n",
      "Maximum: 82.0\n"
     ]
    }
   ],
   "source": [
    "print(f\"Minimum: {df_in['age'].min()}\")\n",
    "print(f\"Maximum: {df_in['age'].max()}\")"
   ]
  },
  {
   "cell_type": "code",
   "execution_count": 5,
   "id": "e8452fd8-4f69-4115-916d-398cf9e23017",
   "metadata": {},
   "outputs": [],
   "source": [
    "beta_0 = -7.386079\n",
    "beta_1 = 0.076109\n",
    "age_list = np.linspace(10, 82, 200)\n",
    "prob_list = [get_prob_stroke_simple_model(beta_0, beta_1, age) for age in age_list]"
   ]
  },
  {
   "cell_type": "code",
   "execution_count": 8,
   "id": "dd036d7b-c56a-4442-9ed7-751e2a1d7804",
   "metadata": {},
   "outputs": [
    {
     "data": {
      "image/png": "[encoded data removed]",
      "text/plain": [
       "<Figure size 576x288 with 1 Axes>"
      ]
     },
     "metadata": {},
     "output_type": "display_data"
    }
   ],
   "source": [
    "fig, ax = plt.subplots(figsize=(8,4), facecolor=\"white\")\n",
    "\n",
    "ax.scatter(df_in['age'], df_in['stroke'], s=10, color=\"sandybrown\", alpha=1, label=\"data\")\n",
    "ax.plot(age_list, prob_list, color=\"darkturquoise\",linewidth=4, alpha=0.6, label=\"Estimated Probability\")\n",
    "\n",
    "ax.set_xlabel(\"age\")\n",
    "ax.set_ylabel(\"Probability of Stroke\")\n",
    "\n",
    "ax.legend()\n",
    "plt.tight_layout()\n",
    "#plt.savefig(\"../ourfinalreport/images/nume_model_age.png\", dpi=200, transparent=False)\n",
    "#plt.savefig(\"./images/nume_model_age.png\", dpi=200, transparent=False)\n",
    "plt.show()"
   ]
  },
  {
   "cell_type": "markdown",
   "id": "6836900d-66da-4f63-a75e-edb986376478",
   "metadata": {},
   "source": [
    "### Average Glucose Level"
   ]
  },
  {
   "cell_type": "code",
   "execution_count": 9,
   "id": "60733012-717f-4887-bc5e-143694289e89",
   "metadata": {},
   "outputs": [
    {
     "name": "stdout",
     "output_type": "stream",
     "text": [
      "Minimum: 55.12\n",
      "Maximum: 271.74\n"
     ]
    }
   ],
   "source": [
    "print(f\"Minimum: {df_in['avg_glucose_level'].min()}\")\n",
    "print(f\"Maximum: {df_in['avg_glucose_level'].max()}\")"
   ]
  },
  {
   "cell_type": "code",
   "execution_count": 10,
   "id": "7c1d89af-1d7e-4530-9e4c-400e4981f16d",
   "metadata": {},
   "outputs": [],
   "source": [
    "beta_0 = -4.109552\n",
    "beta_1 = 0.010116\n",
    "glucose_list = np.linspace(55, 272, 200)\n",
    "prob_list = [get_prob_stroke_simple_model(beta_0, beta_1, glucose) for glucose in glucose_list]"
   ]
  },
  {
   "cell_type": "code",
   "execution_count": 12,
   "id": "b09ea362-67b6-4b02-ab0a-0a719bbf07f5",
   "metadata": {},
   "outputs": [
    {
     "data": {
      "image/png": "[encoded data removed]",
      "text/plain": [
       "<Figure size 576x288 with 1 Axes>"
      ]
     },
     "metadata": {},
     "output_type": "display_data"
    }
   ],
   "source": [
    "fig, ax = plt.subplots(figsize=(8,4), facecolor=\"white\")\n",
    "\n",
    "ax.scatter(df_in['avg_glucose_level'], df_in['stroke'], s=10, color=\"sandybrown\", alpha=1, label=\"data\")\n",
    "ax.plot(glucose_list, prob_list, color=\"darkturquoise\", linewidth=4, alpha=0.6, label=\"Estimated Probability\")\n",
    "\n",
    "ax.set_xlabel(\"Avg-Glucose-Level\")\n",
    "ax.set_ylabel(\"Probability of Stroke\")\n",
    "\n",
    "ax.legend()\n",
    "plt.tight_layout()\n",
    "#plt.savefig(\"../ourfinalreport/images/nume_model_glucose.png\", dpi=200, transparent=False)\n",
    "plt.show()"
   ]
  },
  {
   "cell_type": "markdown",
   "id": "cfc0f09c-4af8-40c9-ae1e-5dfb216c3ea5",
   "metadata": {},
   "source": [
    "### BMI"
   ]
  },
  {
   "cell_type": "code",
   "execution_count": 42,
   "id": "d65e376e-6985-4a1d-a342-d4f9e5be6e51",
   "metadata": {},
   "outputs": [
    {
     "name": "stdout",
     "output_type": "stream",
     "text": [
      "Minimum: 11.5\n",
      "Maximum: 92.0\n"
     ]
    }
   ],
   "source": [
    "print(f\"Minimum: {df_in['bmi'].min()}\")\n",
    "print(f\"Maximum: {df_in['bmi'].max()}\")"
   ]
  },
  {
   "cell_type": "code",
   "execution_count": 13,
   "id": "8ef9c15e-370d-4401-a1e6-f0aaf54af671",
   "metadata": {},
   "outputs": [],
   "source": [
    "beta_0 = -3.103070\n",
    "beta_1 = 0.006932\n",
    "bmi_list = np.linspace(11, 92, 200)\n",
    "prob_list = [get_prob_stroke_simple_model(beta_0, beta_1, bmi) for bmi in bmi_list]"
   ]
  },
  {
   "cell_type": "code",
   "execution_count": 15,
   "id": "e468fb25-b29a-4193-afa2-3de626acead2",
   "metadata": {},
   "outputs": [
    {
     "data": {
      "image/png": "[encoded data removed]",
      "text/plain": [
       "<Figure size 576x288 with 1 Axes>"
      ]
     },
     "metadata": {},
     "output_type": "display_data"
    }
   ],
   "source": [
    "fig, ax = plt.subplots(figsize=(8,4), facecolor=\"white\")\n",
    "\n",
    "ax.scatter(df_in['bmi'], df_in['stroke'], s=10, color=\"sandybrown\", alpha=1, label=\"data\")\n",
    "ax.plot(bmi_list, prob_list, color=\"darkturquoise\", linewidth=4, alpha=0.6, label=\"Estimated Probability\")\n",
    "\n",
    "ax.set_xlabel(\"BMI\")\n",
    "ax.set_ylabel(\"Probability of Stroke\")\n",
    "\n",
    "ax.legend()\n",
    "plt.tight_layout()\n",
    "#plt.savefig(\"../ourfinalreport/images/nume_model_bmi.png\", dpi=200, transparent=False)\n",
    "plt.show()"
   ]
  },
  {
   "cell_type": "code",
   "execution_count": null,
   "id": "9bebf16e-d466-443c-8b71-ecfcfc857e31",
   "metadata": {},
   "outputs": [],
   "source": []
  }
 ],
 "metadata": {
  "kernelspec": {
   "display_name": "Python 3",
   "language": "python",
   "name": "python3"
  },
  "language_info": {
   "codemirror_mode": {
    "name": "ipython",
    "version": 3
   },
   "file_extension": ".py",
   "mimetype": "text/x-python",
   "name": "python",
   "nbconvert_exporter": "python",
   "pygments_lexer": "ipython3",
   "version": "3.8.8"
  }
 },
 "nbformat": 4,
 "nbformat_minor": 5
}
