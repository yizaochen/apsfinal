{
 "cells": [
  {
   "cell_type": "markdown",
   "id": "367fa5b2-5867-4859-a29f-15890cc5c494",
   "metadata": {},
   "source": [
    "# 迴歸分析2: 數值型變數\n",
    "在迴歸分析的第二部份，我們將專注的探討三個數值型變數:年齡、血糖、BMI。主要的目的是了解這三個變數中哪些對中風的預測是重要的。此外，我們也會將數值型的變數做分組(數值轉類別)，目的是為了在下一個部份能提供一個圖像化的分析。"
   ]
  },
  {
   "cell_type": "markdown",
   "id": "d202b516-4e81-4ea8-84a0-0e8a15cdd889",
   "metadata": {},
   "source": [
    "## 讀取資料"
   ]
  },
  {
   "cell_type": "code",
   "execution_count": 1,
   "id": "8b130533-6f7f-438e-982b-bdb4eeafe209",
   "metadata": {},
   "outputs": [
    {
     "data": {
      "text/html": [
       "<table>\n",
       "<thead><tr><th scope=col>age</th><th scope=col>hypertension</th><th scope=col>heart_disease</th><th scope=col>ever_married</th><th scope=col>work_type</th><th scope=col>avg_glucose_level</th><th scope=col>bmi</th><th scope=col>smoking_status</th><th scope=col>stroke</th></tr></thead>\n",
       "<tbody>\n",
       "\t<tr><td>67             </td><td>0              </td><td>1              </td><td>Yes            </td><td>Private        </td><td>228.69         </td><td>36.6           </td><td>formerly smoked</td><td>1              </td></tr>\n",
       "\t<tr><td>80             </td><td>0              </td><td>1              </td><td>Yes            </td><td>Private        </td><td>105.92         </td><td>32.5           </td><td>never smoked   </td><td>1              </td></tr>\n",
       "\t<tr><td>49             </td><td>0              </td><td>0              </td><td>Yes            </td><td>Private        </td><td>171.23         </td><td>34.4           </td><td>smokes         </td><td>1              </td></tr>\n",
       "\t<tr><td>79             </td><td>1              </td><td>0              </td><td>Yes            </td><td>Self-employed  </td><td>174.12         </td><td>24.0           </td><td>never smoked   </td><td>1              </td></tr>\n",
       "\t<tr><td>81             </td><td>0              </td><td>0              </td><td>Yes            </td><td>Private        </td><td>186.21         </td><td>29.0           </td><td>formerly smoked</td><td>1              </td></tr>\n",
       "\t<tr><td>74             </td><td>1              </td><td>1              </td><td>Yes            </td><td>Private        </td><td> 70.09         </td><td>27.4           </td><td>never smoked   </td><td>1              </td></tr>\n",
       "</tbody>\n",
       "</table>\n"
      ],
      "text/latex": [
       "\\begin{tabular}{r|lllllllll}\n",
       " age & hypertension & heart\\_disease & ever\\_married & work\\_type & avg\\_glucose\\_level & bmi & smoking\\_status & stroke\\\\\n",
       "\\hline\n",
       "\t 67              & 0               & 1               & Yes             & Private         & 228.69          & 36.6            & formerly smoked & 1              \\\\\n",
       "\t 80              & 0               & 1               & Yes             & Private         & 105.92          & 32.5            & never smoked    & 1              \\\\\n",
       "\t 49              & 0               & 0               & Yes             & Private         & 171.23          & 34.4            & smokes          & 1              \\\\\n",
       "\t 79              & 1               & 0               & Yes             & Self-employed   & 174.12          & 24.0            & never smoked    & 1              \\\\\n",
       "\t 81              & 0               & 0               & Yes             & Private         & 186.21          & 29.0            & formerly smoked & 1              \\\\\n",
       "\t 74              & 1               & 1               & Yes             & Private         &  70.09          & 27.4            & never smoked    & 1              \\\\\n",
       "\\end{tabular}\n"
      ],
      "text/markdown": [
       "\n",
       "| age | hypertension | heart_disease | ever_married | work_type | avg_glucose_level | bmi | smoking_status | stroke |\n",
       "|---|---|---|---|---|---|---|---|---|\n",
       "| 67              | 0               | 1               | Yes             | Private         | 228.69          | 36.6            | formerly smoked | 1               |\n",
       "| 80              | 0               | 1               | Yes             | Private         | 105.92          | 32.5            | never smoked    | 1               |\n",
       "| 49              | 0               | 0               | Yes             | Private         | 171.23          | 34.4            | smokes          | 1               |\n",
       "| 79              | 1               | 0               | Yes             | Self-employed   | 174.12          | 24.0            | never smoked    | 1               |\n",
       "| 81              | 0               | 0               | Yes             | Private         | 186.21          | 29.0            | formerly smoked | 1               |\n",
       "| 74              | 1               | 1               | Yes             | Private         |  70.09          | 27.4            | never smoked    | 1               |\n",
       "\n"
      ],
      "text/plain": [
       "  age hypertension heart_disease ever_married work_type     avg_glucose_level\n",
       "1 67  0            1             Yes          Private       228.69           \n",
       "2 80  0            1             Yes          Private       105.92           \n",
       "3 49  0            0             Yes          Private       171.23           \n",
       "4 79  1            0             Yes          Self-employed 174.12           \n",
       "5 81  0            0             Yes          Private       186.21           \n",
       "6 74  1            1             Yes          Private        70.09           \n",
       "  bmi  smoking_status  stroke\n",
       "1 36.6 formerly smoked 1     \n",
       "2 32.5 never smoked    1     \n",
       "3 34.4 smokes          1     \n",
       "4 24.0 never smoked    1     \n",
       "5 29.0 formerly smoked 1     \n",
       "6 27.4 never smoked    1     "
      ]
     },
     "metadata": {},
     "output_type": "display_data"
    }
   ],
   "source": [
    "strokedata <- read.csv(file = '../data/healthcare-dataset-stroke-data-cleanbmi.csv')\n",
    "head(strokedata)"
   ]
  },
  {
   "cell_type": "markdown",
   "id": "077ace2a-8702-4c9e-a2be-7e5b354f20c7",
   "metadata": {},
   "source": [
    "## Simple Models: 只含有一個解釋變數 "
   ]
  },
  {
   "cell_type": "markdown",
   "id": "b2b3b56d-b01d-41ca-8017-f2bbe1a004df",
   "metadata": {},
   "source": [
    "### Age(年齡)\n",
    "$$\n",
    "\\log{\\left(\\frac{P[\\rm{stroke}=1]}{P[\\rm{stroke}=0]}\\right)} = \\beta_0 + \\beta_{\\rm{age}}x_{\\rm{age}}\n",
    "$$"
   ]
  },
  {
   "cell_type": "code",
   "execution_count": 2,
   "id": "292d389a-bdf7-4a13-90e1-fddfec9ccdc1",
   "metadata": {},
   "outputs": [
    {
     "data": {
      "text/plain": [
       "\n",
       "Call:\n",
       "glm(formula = stroke ~ age, family = binomial(link = \"logit\"), \n",
       "    data = strokedata)\n",
       "\n",
       "Deviance Residuals: \n",
       "    Min       1Q   Median       3Q      Max  \n",
       "-0.7433  -0.3532  -0.2094  -0.1101   3.1488  \n",
       "\n",
       "Coefficients:\n",
       "             Estimate Std. Error z value Pr(>|z|)    \n",
       "(Intercept) -7.386079   0.413419  -17.87   <2e-16 ***\n",
       "age          0.076109   0.006051   12.58   <2e-16 ***\n",
       "---\n",
       "Signif. codes:  0 ‘***’ 0.001 ‘**’ 0.01 ‘*’ 0.05 ‘.’ 0.1 ‘ ’ 1\n",
       "\n",
       "(Dispersion parameter for binomial family taken to be 1)\n",
       "\n",
       "    Null deviance: 1410.9  on 3424  degrees of freedom\n",
       "Residual deviance: 1180.3  on 3423  degrees of freedom\n",
       "AIC: 1184.3\n",
       "\n",
       "Number of Fisher Scoring iterations: 7\n"
      ]
     },
     "metadata": {},
     "output_type": "display_data"
    }
   ],
   "source": [
    "model_age = glm(stroke ~ age, data=strokedata, family=binomial(link=\"logit\"))\n",
    "summary(model_age)"
   ]
  },
  {
   "cell_type": "markdown",
   "id": "4f4be700-664d-4e4e-93ef-2dc600fd631b",
   "metadata": {},
   "source": [
    "- <span style=\"color:blue\"> $\\beta$的z-test的p-value很小，年紀對中風的預測是顯著的 </span>\n",
    "- <span style=\"color:blue\"> $\\beta_{\\rm{age}}=0.076 > 0$ : 年紀增加，中風的機率也會提升 </span>\n",
    "- <span style=\"color:blue\"> 下圖藍色線是上述模型的圖像化，可以看到大約過了六十歲，中風的機率開始比較快速的增高 </span>"
   ]
  },
  {
   "cell_type": "markdown",
   "id": "49944461-5e34-4a01-9be9-b5fafb6731be",
   "metadata": {},
   "source": [
    "```{image} ./images/nume_model_age.png\n",
    ":alt: nume_model_age.png\n",
    ":class: bg-primary mb-1\n",
    ":width: 800px\n",
    ":align: center\n",
    "```"
   ]
  },
  {
   "cell_type": "markdown",
   "id": "1096e909-5669-4d2a-9c14-cf1718f41bba",
   "metadata": {},
   "source": [
    "### Average Glucose Level(血糖)\n",
    "$$\n",
    "\\log{\\left(\\frac{P[\\rm{stroke}=1]}{P[\\rm{stroke}=0]}\\right)} = \\beta_0 + \\beta_{\\rm{glucose}}x_{\\rm{glucose}}\n",
    "$$"
   ]
  },
  {
   "cell_type": "code",
   "execution_count": 6,
   "id": "25b15d47-4249-428d-9357-8744e03c01bf",
   "metadata": {},
   "outputs": [
    {
     "data": {
      "text/plain": [
       "\n",
       "Call:\n",
       "glm(formula = stroke ~ avg_glucose_level, family = binomial(link = \"logit\"), \n",
       "    data = strokedata)\n",
       "\n",
       "Deviance Residuals: \n",
       "    Min       1Q   Median       3Q      Max  \n",
       "-0.6637  -0.3162  -0.2829  -0.2614   2.6723  \n",
       "\n",
       "Coefficients:\n",
       "                   Estimate Std. Error z value Pr(>|z|)    \n",
       "(Intercept)       -4.109552   0.188746 -21.773  < 2e-16 ***\n",
       "avg_glucose_level  0.010116   0.001286   7.868  3.6e-15 ***\n",
       "---\n",
       "Signif. codes:  0 ‘***’ 0.001 ‘**’ 0.01 ‘*’ 0.05 ‘.’ 0.1 ‘ ’ 1\n",
       "\n",
       "(Dispersion parameter for binomial family taken to be 1)\n",
       "\n",
       "    Null deviance: 1410.9  on 3424  degrees of freedom\n",
       "Residual deviance: 1355.3  on 3423  degrees of freedom\n",
       "AIC: 1359.3\n",
       "\n",
       "Number of Fisher Scoring iterations: 6\n"
      ]
     },
     "metadata": {},
     "output_type": "display_data"
    }
   ],
   "source": [
    "model_glucose = glm(stroke ~ avg_glucose_level, data=strokedata, family=binomial(link=\"logit\"))\n",
    "summary(model_glucose)"
   ]
  },
  {
   "cell_type": "markdown",
   "id": "1278b8cc-c0b9-4c20-af4d-a5c9a9377461",
   "metadata": {},
   "source": [
    "- <span style=\"color:blue\"> $\\beta$的z-test的p-value很小，血糖對中風的預測是顯著的 </span>\n",
    "- <span style=\"color:blue\"> $\\beta_{\\rm{glucose}}=0.01 > 0$ : 血糖增加，中風的機率也會提升 </span>\n",
    "- <span style=\"color:blue\"> 下圖藍色線是上述模型的圖像化。隨著血糖增加，中風機率會增加。相比於年紀，增加的斜率比較小。表示血糖相對於年紀對於中風的影響性比較小。</span>"
   ]
  },
  {
   "cell_type": "markdown",
   "id": "9502b553-a9c4-490f-abde-63823288f122",
   "metadata": {},
   "source": [
    "```{image} ./images/nume_model_glucose.png\n",
    ":alt: nume_model_glucose.png\n",
    ":class: bg-primary mb-1\n",
    ":width: 800px\n",
    ":align: center\n",
    "```"
   ]
  },
  {
   "cell_type": "markdown",
   "id": "3e13b899-a87e-484d-9b35-f440c4299a1e",
   "metadata": {},
   "source": [
    "### BMI(身體質量指數)\n",
    "$$\n",
    "\\log{\\left(\\frac{P[\\rm{stroke}=1]}{P[\\rm{stroke}=0]}\\right)} = \\beta_0 + \\beta_{\\rm{bmi}}x_{\\rm{bmi}}\n",
    "$$"
   ]
  },
  {
   "cell_type": "code",
   "execution_count": 9,
   "id": "8d7b176b-724e-4dda-95b8-f5b5bcb888d0",
   "metadata": {},
   "outputs": [
    {
     "data": {
      "text/plain": [
       "\n",
       "Call:\n",
       "glm(formula = stroke ~ bmi, family = binomial(link = \"logit\"), \n",
       "    data = strokedata)\n",
       "\n",
       "Deviance Residuals: \n",
       "    Min       1Q   Median       3Q      Max  \n",
       "-0.4039  -0.3322  -0.3266  -0.3221   2.4638  \n",
       "\n",
       "Coefficients:\n",
       "             Estimate Std. Error z value Pr(>|z|)    \n",
       "(Intercept) -3.103070   0.321963  -9.638   <2e-16 ***\n",
       "bmi          0.006932   0.010210   0.679    0.497    \n",
       "---\n",
       "Signif. codes:  0 ‘***’ 0.001 ‘**’ 0.01 ‘*’ 0.05 ‘.’ 0.1 ‘ ’ 1\n",
       "\n",
       "(Dispersion parameter for binomial family taken to be 1)\n",
       "\n",
       "    Null deviance: 1410.9  on 3424  degrees of freedom\n",
       "Residual deviance: 1410.4  on 3423  degrees of freedom\n",
       "AIC: 1414.4\n",
       "\n",
       "Number of Fisher Scoring iterations: 5\n"
      ]
     },
     "metadata": {},
     "output_type": "display_data"
    }
   ],
   "source": [
    "model_bmi = glm(stroke ~ bmi, data=strokedata, family=binomial(link=\"logit\"))\n",
    "summary(model_bmi)"
   ]
  },
  {
   "cell_type": "markdown",
   "id": "78bd9582-930d-4b6d-91fd-c71809666b95",
   "metadata": {},
   "source": [
    "- <span style=\"color:blue\"> $\\beta_{\\rm{glucose}}=0.006 > 0$ : BMI增加，中風的機率也會提升 </span>\n",
    "- <span style=\"color:blue\"> $\\beta$的z-test的p-value很大，BMI對中風的預測是不顯著的，我們因此在Final Model不考慮此變數 </span>\n",
    "- <span style=\"color:blue\"> 下圖藍色線是上述模型的圖像化。隨著BMI增加，中風機率非常緩慢的增加</span>"
   ]
  },
  {
   "cell_type": "markdown",
   "id": "e0b03487-7cc7-4ab2-986c-66bd907b3c0e",
   "metadata": {},
   "source": [
    "```{image} ./images/nume_model_bmi\n",
    ":alt: nume_model_bmi\n",
    ":class: bg-primary mb-1\n",
    ":width: 800px\n",
    ":align: center\n",
    "```"
   ]
  },
  {
   "cell_type": "markdown",
   "id": "15cb59bc-2ac6-4da3-8b6a-6e5b41a89b75",
   "metadata": {},
   "source": [
    "## Final Model: \n",
    "由上述簡單模型的分析，我們選定以下的模型為最終模型\n",
    "$$\n",
    "\\log{\\left(\\frac{P[\\rm{stroke}=1]}{P[\\rm{stroke}=0]}\\right)} = \\beta_0 + \\beta_{\\rm{age}}x_{\\rm{age}} + \\beta_{\\rm{glucose}}x_{\\rm{glucose}}\n",
    "$$"
   ]
  },
  {
   "cell_type": "code",
   "execution_count": 11,
   "id": "82aca52c-0401-442f-b571-ba8f4f845396",
   "metadata": {},
   "outputs": [
    {
     "data": {
      "text/plain": [
       "\n",
       "Call:\n",
       "glm(formula = stroke ~ age + avg_glucose_level, family = binomial(link = \"logit\"), \n",
       "    data = strokedata)\n",
       "\n",
       "Deviance Residuals: \n",
       "    Min       1Q   Median       3Q      Max  \n",
       "-0.9513  -0.3432  -0.1975  -0.1068   3.1971  \n",
       "\n",
       "Coefficients:\n",
       "                   Estimate Std. Error z value Pr(>|z|)    \n",
       "(Intercept)       -7.845280   0.434300  -18.06  < 2e-16 ***\n",
       "age                0.072699   0.006177   11.77  < 2e-16 ***\n",
       "avg_glucose_level  0.005443   0.001311    4.15 3.32e-05 ***\n",
       "---\n",
       "Signif. codes:  0 ‘***’ 0.001 ‘**’ 0.01 ‘*’ 0.05 ‘.’ 0.1 ‘ ’ 1\n",
       "\n",
       "(Dispersion parameter for binomial family taken to be 1)\n",
       "\n",
       "    Null deviance: 1410.9  on 3424  degrees of freedom\n",
       "Residual deviance: 1163.8  on 3422  degrees of freedom\n",
       "AIC: 1169.8\n",
       "\n",
       "Number of Fisher Scoring iterations: 7\n"
      ]
     },
     "metadata": {},
     "output_type": "display_data"
    }
   ],
   "source": [
    "final_model = glm(stroke ~ age + avg_glucose_level, data=strokedata, family=binomial(link=\"logit\"))\n",
    "summary(final_model)"
   ]
  },
  {
   "cell_type": "markdown",
   "id": "dfb11411-2453-4420-b5c7-9f5dc6e38c69",
   "metadata": {},
   "source": [
    "## 數值型轉換成類別型\n",
    "- 為了在綜合型Model能做一個簡單的分類，我們希望能將數值型的age與glucose轉換成類別型"
   ]
  },
  {
   "cell_type": "markdown",
   "id": "89421b9c-dd17-43ec-9f8f-8da133d0fd2a",
   "metadata": {},
   "source": [
    "### Age"
   ]
  },
  {
   "cell_type": "markdown",
   "id": "40283c6e-237b-4aff-b1ec-f822d03b445d",
   "metadata": {},
   "source": [
    "#### 資料處理"
   ]
  },
  {
   "cell_type": "code",
   "execution_count": 13,
   "id": "9b43ade5-553b-42aa-9027-d91f7413ac2b",
   "metadata": {},
   "outputs": [
    {
     "data": {
      "text/html": [
       "<table>\n",
       "<thead><tr><th scope=col>age</th><th scope=col>hypertension</th><th scope=col>heart_disease</th><th scope=col>ever_married</th><th scope=col>work_type</th><th scope=col>avg_glucose_level</th><th scope=col>bmi</th><th scope=col>smoking_status</th><th scope=col>stroke</th><th scope=col>age_group</th></tr></thead>\n",
       "<tbody>\n",
       "\t<tr><td>67             </td><td>0              </td><td>1              </td><td>Yes            </td><td>Private        </td><td>228.69         </td><td>36.6           </td><td>formerly smoked</td><td>1              </td><td>60-69          </td></tr>\n",
       "\t<tr><td>80                                                     </td><td>0                                                      </td><td>1                                                      </td><td>Yes                                                    </td><td><span style=white-space:pre-wrap>Private      </span>  </td><td>105.92                                                 </td><td>32.5                                                   </td><td><span style=white-space:pre-wrap>never smoked   </span></td><td>1                                                      </td><td>&gt;=70                                                </td></tr>\n",
       "\t<tr><td>49             </td><td>0              </td><td>0              </td><td>Yes            </td><td>Private        </td><td>171.23         </td><td>34.4           </td><td>smokes         </td><td>1              </td><td>0-49           </td></tr>\n",
       "\t<tr><td>79                                                     </td><td>1                                                      </td><td>0                                                      </td><td>Yes                                                    </td><td>Self-employed                                          </td><td>174.12                                                 </td><td>24.0                                                   </td><td><span style=white-space:pre-wrap>never smoked   </span></td><td>1                                                      </td><td>&gt;=70                                                </td></tr>\n",
       "\t<tr><td>81                                                   </td><td>0                                                    </td><td>0                                                    </td><td>Yes                                                  </td><td><span style=white-space:pre-wrap>Private      </span></td><td>186.21                                               </td><td>29.0                                                 </td><td>formerly smoked                                      </td><td>1                                                    </td><td>&gt;=70                                              </td></tr>\n",
       "\t<tr><td>74                                                     </td><td>1                                                      </td><td>1                                                      </td><td>Yes                                                    </td><td><span style=white-space:pre-wrap>Private      </span>  </td><td> 70.09                                                 </td><td>27.4                                                   </td><td><span style=white-space:pre-wrap>never smoked   </span></td><td>1                                                      </td><td>&gt;=70                                                </td></tr>\n",
       "</tbody>\n",
       "</table>\n"
      ],
      "text/latex": [
       "\\begin{tabular}{r|llllllllll}\n",
       " age & hypertension & heart\\_disease & ever\\_married & work\\_type & avg\\_glucose\\_level & bmi & smoking\\_status & stroke & age\\_group\\\\\n",
       "\\hline\n",
       "\t 67              & 0               & 1               & Yes             & Private         & 228.69          & 36.6            & formerly smoked & 1               & 60-69          \\\\\n",
       "\t 80              & 0               & 1               & Yes             & Private         & 105.92          & 32.5            & never smoked    & 1               & >=70           \\\\\n",
       "\t 49              & 0               & 0               & Yes             & Private         & 171.23          & 34.4            & smokes          & 1               & 0-49           \\\\\n",
       "\t 79              & 1               & 0               & Yes             & Self-employed   & 174.12          & 24.0            & never smoked    & 1               & >=70           \\\\\n",
       "\t 81              & 0               & 0               & Yes             & Private         & 186.21          & 29.0            & formerly smoked & 1               & >=70           \\\\\n",
       "\t 74              & 1               & 1               & Yes             & Private         &  70.09          & 27.4            & never smoked    & 1               & >=70           \\\\\n",
       "\\end{tabular}\n"
      ],
      "text/markdown": [
       "\n",
       "| age | hypertension | heart_disease | ever_married | work_type | avg_glucose_level | bmi | smoking_status | stroke | age_group |\n",
       "|---|---|---|---|---|---|---|---|---|---|\n",
       "| 67              | 0               | 1               | Yes             | Private         | 228.69          | 36.6            | formerly smoked | 1               | 60-69           |\n",
       "| 80              | 0               | 1               | Yes             | Private         | 105.92          | 32.5            | never smoked    | 1               | >=70            |\n",
       "| 49              | 0               | 0               | Yes             | Private         | 171.23          | 34.4            | smokes          | 1               | 0-49            |\n",
       "| 79              | 1               | 0               | Yes             | Self-employed   | 174.12          | 24.0            | never smoked    | 1               | >=70            |\n",
       "| 81              | 0               | 0               | Yes             | Private         | 186.21          | 29.0            | formerly smoked | 1               | >=70            |\n",
       "| 74              | 1               | 1               | Yes             | Private         |  70.09          | 27.4            | never smoked    | 1               | >=70            |\n",
       "\n"
      ],
      "text/plain": [
       "  age hypertension heart_disease ever_married work_type     avg_glucose_level\n",
       "1 67  0            1             Yes          Private       228.69           \n",
       "2 80  0            1             Yes          Private       105.92           \n",
       "3 49  0            0             Yes          Private       171.23           \n",
       "4 79  1            0             Yes          Self-employed 174.12           \n",
       "5 81  0            0             Yes          Private       186.21           \n",
       "6 74  1            1             Yes          Private        70.09           \n",
       "  bmi  smoking_status  stroke age_group\n",
       "1 36.6 formerly smoked 1      60-69    \n",
       "2 32.5 never smoked    1      >=70     \n",
       "3 34.4 smokes          1      0-49     \n",
       "4 24.0 never smoked    1      >=70     \n",
       "5 29.0 formerly smoked 1      >=70     \n",
       "6 27.4 never smoked    1      >=70     "
      ]
     },
     "metadata": {},
     "output_type": "display_data"
    }
   ],
   "source": [
    "strokedata$age_group <- with(strokedata, ifelse(\n",
    "    age < 50, '0-49', ifelse(\n",
    "    age >= 50 & age < 60, '50-59', ifelse(\n",
    "    age >= 60 & age < 70, '60-69', '>=70'))))\n",
    "strokedata$age_group <- factor(strokedata$age_group, levels= c('0-49', '50-59', '60-69', '>=70'))\n",
    "head(strokedata)"
   ]
  },
  {
   "cell_type": "markdown",
   "id": "301e01bf-d5f2-49eb-b302-2a7e85ab0c1f",
   "metadata": {},
   "source": [
    "#### Model: \n",
    "$\\log{\\left(\\frac{P[\\rm{stroke}=1]}{P[\\rm{stroke}=0]}\\right)} = \\beta_0 + \\beta_{\\rm{50-59}}x_{\\rm{50-59}} + \\beta_{\\rm{60-69}}x_{\\rm{60-69}} + \\beta_{\\rm{age>=70}}x_{\\rm{age>=70}}$  \n",
    "- Baseline group:  0-49"
   ]
  },
  {
   "cell_type": "code",
   "execution_count": 15,
   "id": "e26d358a-a6c2-4315-96b4-adba896dc9bd",
   "metadata": {},
   "outputs": [
    {
     "data": {
      "text/plain": [
       "\n",
       "Call:\n",
       "glm(formula = stroke ~ age_group, family = binomial(link = \"logit\"), \n",
       "    data = strokedata)\n",
       "\n",
       "Deviance Residuals: \n",
       "    Min       1Q   Median       3Q      Max  \n",
       "-0.6114  -0.3870  -0.1327  -0.1327   3.0781  \n",
       "\n",
       "Coefficients:\n",
       "               Estimate Std. Error z value Pr(>|z|)    \n",
       "(Intercept)     -4.7286     0.2593 -18.234  < 2e-16 ***\n",
       "age_group50-59   1.7841     0.3149   5.666 1.46e-08 ***\n",
       "age_group60-69   2.1747     0.3131   6.945 3.78e-12 ***\n",
       "age_group>=70    3.1463     0.2823  11.146  < 2e-16 ***\n",
       "---\n",
       "Signif. codes:  0 ‘***’ 0.001 ‘**’ 0.01 ‘*’ 0.05 ‘.’ 0.1 ‘ ’ 1\n",
       "\n",
       "(Dispersion parameter for binomial family taken to be 1)\n",
       "\n",
       "    Null deviance: 1411.0  on 3425  degrees of freedom\n",
       "Residual deviance: 1205.1  on 3422  degrees of freedom\n",
       "AIC: 1213.1\n",
       "\n",
       "Number of Fisher Scoring iterations: 7\n"
      ]
     },
     "metadata": {},
     "output_type": "display_data"
    }
   ],
   "source": [
    "model_age_cate = glm(stroke ~ age_group, data=strokedata, family=binomial(link=\"logit\"))\n",
    "summary(model_age_cate)"
   ]
  },
  {
   "cell_type": "markdown",
   "id": "5b58b3f1-59bd-4332-b9eb-01f855f27cbf",
   "metadata": {},
   "source": [
    "#### 比較:數值型與類別型\n",
    "![age_nume_cate_model](./images/age_nume_cate_model.bgwhite.png)"
   ]
  },
  {
   "cell_type": "markdown",
   "id": "8fc766c7-9e96-4509-9e06-68f9cc002b55",
   "metadata": {},
   "source": [
    "- 可以看出，Numerical還是表現的比較好"
   ]
  },
  {
   "cell_type": "markdown",
   "id": "19987d63-26df-4d37-9301-9232fb6085b9",
   "metadata": {},
   "source": [
    "### Average Glucose Level"
   ]
  },
  {
   "cell_type": "markdown",
   "id": "4e93406b-cc64-4fc3-820f-f9d107f3d690",
   "metadata": {},
   "source": [
    "#### 資料處理"
   ]
  },
  {
   "cell_type": "code",
   "execution_count": 19,
   "id": "f1da3c78-4e8d-46f3-8378-5810f82bf041",
   "metadata": {},
   "outputs": [
    {
     "data": {
      "text/html": [
       "<table>\n",
       "<thead><tr><th scope=col>age</th><th scope=col>hypertension</th><th scope=col>heart_disease</th><th scope=col>ever_married</th><th scope=col>work_type</th><th scope=col>avg_glucose_level</th><th scope=col>bmi</th><th scope=col>smoking_status</th><th scope=col>stroke</th><th scope=col>age_group</th><th scope=col>glc_group</th></tr></thead>\n",
       "<tbody>\n",
       "\t<tr><td>67                                                   </td><td>0                                                    </td><td>1                                                    </td><td>Yes                                                  </td><td><span style=white-space:pre-wrap>Private      </span></td><td>228.69                                               </td><td>36.6                                                 </td><td>formerly smoked                                      </td><td>1                                                    </td><td>60-69                                                </td><td>&gt;=160                                             </td></tr>\n",
       "\t<tr><td>80                                                     </td><td>0                                                      </td><td>1                                                      </td><td>Yes                                                    </td><td><span style=white-space:pre-wrap>Private      </span>  </td><td>105.92                                                 </td><td>32.5                                                   </td><td><span style=white-space:pre-wrap>never smoked   </span></td><td>1                                                      </td><td>&gt;=70                                                </td><td>&lt;160                                                </td></tr>\n",
       "\t<tr><td>49                                                     </td><td>0                                                      </td><td>0                                                      </td><td>Yes                                                    </td><td><span style=white-space:pre-wrap>Private      </span>  </td><td>171.23                                                 </td><td>34.4                                                   </td><td><span style=white-space:pre-wrap>smokes         </span></td><td>1                                                      </td><td>0-49                                                   </td><td>&gt;=160                                               </td></tr>\n",
       "\t<tr><td>79                                                     </td><td>1                                                      </td><td>0                                                      </td><td>Yes                                                    </td><td>Self-employed                                          </td><td>174.12                                                 </td><td>24.0                                                   </td><td><span style=white-space:pre-wrap>never smoked   </span></td><td>1                                                      </td><td>&gt;=70                                                </td><td>&gt;=160                                               </td></tr>\n",
       "\t<tr><td>81                                                   </td><td>0                                                    </td><td>0                                                    </td><td>Yes                                                  </td><td><span style=white-space:pre-wrap>Private      </span></td><td>186.21                                               </td><td>29.0                                                 </td><td>formerly smoked                                      </td><td>1                                                    </td><td>&gt;=70                                              </td><td>&gt;=160                                             </td></tr>\n",
       "\t<tr><td>74                                                     </td><td>1                                                      </td><td>1                                                      </td><td>Yes                                                    </td><td><span style=white-space:pre-wrap>Private      </span>  </td><td> 70.09                                                 </td><td>27.4                                                   </td><td><span style=white-space:pre-wrap>never smoked   </span></td><td>1                                                      </td><td>&gt;=70                                                </td><td>&lt;160                                                </td></tr>\n",
       "</tbody>\n",
       "</table>\n"
      ],
      "text/latex": [
       "\\begin{tabular}{r|lllllllllll}\n",
       " age & hypertension & heart\\_disease & ever\\_married & work\\_type & avg\\_glucose\\_level & bmi & smoking\\_status & stroke & age\\_group & glc\\_group\\\\\n",
       "\\hline\n",
       "\t 67              & 0               & 1               & Yes             & Private         & 228.69          & 36.6            & formerly smoked & 1               & 60-69           & >=160          \\\\\n",
       "\t 80              & 0               & 1               & Yes             & Private         & 105.92          & 32.5            & never smoked    & 1               & >=70            & <160           \\\\\n",
       "\t 49              & 0               & 0               & Yes             & Private         & 171.23          & 34.4            & smokes          & 1               & 0-49            & >=160          \\\\\n",
       "\t 79              & 1               & 0               & Yes             & Self-employed   & 174.12          & 24.0            & never smoked    & 1               & >=70            & >=160          \\\\\n",
       "\t 81              & 0               & 0               & Yes             & Private         & 186.21          & 29.0            & formerly smoked & 1               & >=70            & >=160          \\\\\n",
       "\t 74              & 1               & 1               & Yes             & Private         &  70.09          & 27.4            & never smoked    & 1               & >=70            & <160           \\\\\n",
       "\\end{tabular}\n"
      ],
      "text/markdown": [
       "\n",
       "| age | hypertension | heart_disease | ever_married | work_type | avg_glucose_level | bmi | smoking_status | stroke | age_group | glc_group |\n",
       "|---|---|---|---|---|---|---|---|---|---|---|\n",
       "| 67              | 0               | 1               | Yes             | Private         | 228.69          | 36.6            | formerly smoked | 1               | 60-69           | >=160           |\n",
       "| 80              | 0               | 1               | Yes             | Private         | 105.92          | 32.5            | never smoked    | 1               | >=70            | <160            |\n",
       "| 49              | 0               | 0               | Yes             | Private         | 171.23          | 34.4            | smokes          | 1               | 0-49            | >=160           |\n",
       "| 79              | 1               | 0               | Yes             | Self-employed   | 174.12          | 24.0            | never smoked    | 1               | >=70            | >=160           |\n",
       "| 81              | 0               | 0               | Yes             | Private         | 186.21          | 29.0            | formerly smoked | 1               | >=70            | >=160           |\n",
       "| 74              | 1               | 1               | Yes             | Private         |  70.09          | 27.4            | never smoked    | 1               | >=70            | <160            |\n",
       "\n"
      ],
      "text/plain": [
       "  age hypertension heart_disease ever_married work_type     avg_glucose_level\n",
       "1 67  0            1             Yes          Private       228.69           \n",
       "2 80  0            1             Yes          Private       105.92           \n",
       "3 49  0            0             Yes          Private       171.23           \n",
       "4 79  1            0             Yes          Self-employed 174.12           \n",
       "5 81  0            0             Yes          Private       186.21           \n",
       "6 74  1            1             Yes          Private        70.09           \n",
       "  bmi  smoking_status  stroke age_group glc_group\n",
       "1 36.6 formerly smoked 1      60-69     >=160    \n",
       "2 32.5 never smoked    1      >=70      <160     \n",
       "3 34.4 smokes          1      0-49      >=160    \n",
       "4 24.0 never smoked    1      >=70      >=160    \n",
       "5 29.0 formerly smoked 1      >=70      >=160    \n",
       "6 27.4 never smoked    1      >=70      <160     "
      ]
     },
     "metadata": {},
     "output_type": "display_data"
    }
   ],
   "source": [
    "strokedata$glc_group <- with(strokedata, ifelse(avg_glucose_level < 160, '<160', '>=160'))\n",
    "strokedata$glc_group <- factor(strokedata$glc_group, levels= c('<160', '>=160'))\n",
    "head(strokedata)"
   ]
  },
  {
   "cell_type": "markdown",
   "id": "b55ae347-1d1b-4471-9744-435508ea21b0",
   "metadata": {},
   "source": [
    "#### Model: \n",
    "$\\log{\\left(\\frac{P[\\rm{stroke}=1]}{P[\\rm{stroke}=0]}\\right)} = \\beta_0 + \\beta_{\\rm{glc>=160}}x_{\\rm{glc>=160}}$\n",
    "- Baseline group: glc<160"
   ]
  },
  {
   "cell_type": "code",
   "execution_count": 21,
   "id": "74e34b35-a42c-4705-8799-11939403e27c",
   "metadata": {},
   "outputs": [
    {
     "data": {
      "text/plain": [
       "\n",
       "Call:\n",
       "glm(formula = stroke ~ glc_group, family = binomial(link = \"logit\"), \n",
       "    data = strokedata)\n",
       "\n",
       "Deviance Residuals: \n",
       "    Min       1Q   Median       3Q      Max  \n",
       "-0.5344  -0.2799  -0.2799  -0.2799   2.5531  \n",
       "\n",
       "Coefficients:\n",
       "               Estimate Std. Error z value Pr(>|z|)    \n",
       "(Intercept)    -3.21995    0.09636 -33.416   <2e-16 ***\n",
       "glc_group>=160  1.34588    0.16201   8.307   <2e-16 ***\n",
       "---\n",
       "Signif. codes:  0 ‘***’ 0.001 ‘**’ 0.01 ‘*’ 0.05 ‘.’ 0.1 ‘ ’ 1\n",
       "\n",
       "(Dispersion parameter for binomial family taken to be 1)\n",
       "\n",
       "    Null deviance: 1411.0  on 3425  degrees of freedom\n",
       "Residual deviance: 1350.5  on 3424  degrees of freedom\n",
       "AIC: 1354.5\n",
       "\n",
       "Number of Fisher Scoring iterations: 6\n"
      ]
     },
     "metadata": {},
     "output_type": "display_data"
    }
   ],
   "source": [
    "model_glc_cate = glm(stroke ~ glc_group, data=strokedata, family=binomial(link=\"logit\"))\n",
    "summary(model_glc_cate)"
   ]
  },
  {
   "cell_type": "markdown",
   "id": "a1361b8d-9f86-47e9-996e-278fb5d7db42",
   "metadata": {},
   "source": [
    "#### 比較:數值型與類別型\n",
    "![glucose_nume_cate_model](./images/glucose_nume_cate_model.bgwhite.png)"
   ]
  },
  {
   "cell_type": "markdown",
   "id": "c109a61b-9c0f-4014-8521-6e0474359929",
   "metadata": {},
   "source": [
    "- 意外的，分類的avg-glucose-level會比數值型的好"
   ]
  },
  {
   "cell_type": "markdown",
   "id": "4cc6ba30-7c76-4971-9b47-dcd9043e1754",
   "metadata": {},
   "source": [
    "### Final Selection"
   ]
  },
  {
   "cell_type": "markdown",
   "id": "a2335cbf-cf36-4b4e-b92b-4d8168a72ed2",
   "metadata": {},
   "source": [
    "$\\log{\\left(\\frac{P[\\rm{stroke}=1]}{P[\\rm{stroke}=0]}\\right)} = \\beta_0 + \\beta_{\\rm{50-59}}x_{\\rm{50-59}} + \\beta_{\\rm{60-69}}x_{\\rm{60-69}} + \\beta_{\\rm{age>=70}}x_{\\rm{age>=70}} + \\beta_{\\rm{glc>=160}}x_{\\rm{glc>=160}}$"
   ]
  },
  {
   "cell_type": "code",
   "execution_count": 22,
   "id": "f8e7e622-8233-4ba6-9a59-8abece692177",
   "metadata": {},
   "outputs": [
    {
     "data": {
      "text/plain": [
       "\n",
       "Call:\n",
       "glm(formula = stroke ~ age_group + glc_group, family = binomial(link = \"logit\"), \n",
       "    data = strokedata)\n",
       "\n",
       "Deviance Residuals: \n",
       "    Min       1Q   Median       3Q      Max  \n",
       "-0.7608  -0.3466  -0.1283  -0.1283   3.0998  \n",
       "\n",
       "Coefficients:\n",
       "               Estimate Std. Error z value Pr(>|z|)    \n",
       "(Intercept)     -4.7961     0.2602 -18.430  < 2e-16 ***\n",
       "age_group50-59   1.6730     0.3167   5.283 1.27e-07 ***\n",
       "age_group60-69   2.0137     0.3165   6.363 1.98e-10 ***\n",
       "age_group>=70    2.9499     0.2868  10.286  < 2e-16 ***\n",
       "glc_group>=160   0.7546     0.1700   4.439 9.02e-06 ***\n",
       "---\n",
       "Signif. codes:  0 ‘***’ 0.001 ‘**’ 0.01 ‘*’ 0.05 ‘.’ 0.1 ‘ ’ 1\n",
       "\n",
       "(Dispersion parameter for binomial family taken to be 1)\n",
       "\n",
       "    Null deviance: 1411.0  on 3425  degrees of freedom\n",
       "Residual deviance: 1186.4  on 3421  degrees of freedom\n",
       "AIC: 1196.4\n",
       "\n",
       "Number of Fisher Scoring iterations: 7\n"
      ]
     },
     "metadata": {},
     "output_type": "display_data"
    }
   ],
   "source": [
    "model_cate_final = glm(stroke ~ age_group + glc_group, data=strokedata, family=binomial(link=\"logit\"))\n",
    "summary(model_cate_final)"
   ]
  },
  {
   "cell_type": "markdown",
   "id": "03af88d1-37e3-45e0-a1b4-18ff83331dce",
   "metadata": {},
   "source": [
    "- 相比於純數值型的final selection(AIC=1169.8)，還是比較不好"
   ]
  }
 ],
 "metadata": {
  "kernelspec": {
   "display_name": "R",
   "language": "R",
   "name": "ir"
  },
  "language_info": {
   "codemirror_mode": "r",
   "file_extension": ".r",
   "mimetype": "text/x-r-source",
   "name": "R",
   "pygments_lexer": "r",
   "version": "3.6.1"
  }
 },
 "nbformat": 4,
 "nbformat_minor": 5
}
