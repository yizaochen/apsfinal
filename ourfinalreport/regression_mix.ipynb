{
 "cells": [
  {
   "cell_type": "markdown",
   "id": "367fa5b2-5867-4859-a29f-15890cc5c494",
   "metadata": {},
   "source": [
    "# Chapter 11: 迴歸分析3-綜合模型\n",
    "在迴歸分析的第三部份，我們結合了前兩部份的模型。"
   ]
  },
  {
   "cell_type": "markdown",
   "id": "d202b516-4e81-4ea8-84a0-0e8a15cdd889",
   "metadata": {},
   "source": [
    "## 讀取資料"
   ]
  },
  {
   "cell_type": "code",
   "execution_count": 1,
   "id": "8b130533-6f7f-438e-982b-bdb4eeafe209",
   "metadata": {},
   "outputs": [
    {
     "data": {
      "text/html": [
       "<table>\n",
       "<thead><tr><th scope=col>age</th><th scope=col>hypertension</th><th scope=col>heart_disease</th><th scope=col>ever_married</th><th scope=col>work_type</th><th scope=col>avg_glucose_level</th><th scope=col>bmi</th><th scope=col>smoking_status</th><th scope=col>stroke</th></tr></thead>\n",
       "<tbody>\n",
       "\t<tr><td>67             </td><td>0              </td><td>1              </td><td>Yes            </td><td>Private        </td><td>228.69         </td><td>36.6           </td><td>formerly smoked</td><td>1              </td></tr>\n",
       "\t<tr><td>80             </td><td>0              </td><td>1              </td><td>Yes            </td><td>Private        </td><td>105.92         </td><td>32.5           </td><td>never smoked   </td><td>1              </td></tr>\n",
       "\t<tr><td>49             </td><td>0              </td><td>0              </td><td>Yes            </td><td>Private        </td><td>171.23         </td><td>34.4           </td><td>smokes         </td><td>1              </td></tr>\n",
       "\t<tr><td>79             </td><td>1              </td><td>0              </td><td>Yes            </td><td>Self-employed  </td><td>174.12         </td><td>24.0           </td><td>never smoked   </td><td>1              </td></tr>\n",
       "\t<tr><td>81             </td><td>0              </td><td>0              </td><td>Yes            </td><td>Private        </td><td>186.21         </td><td>29.0           </td><td>formerly smoked</td><td>1              </td></tr>\n",
       "\t<tr><td>74             </td><td>1              </td><td>1              </td><td>Yes            </td><td>Private        </td><td> 70.09         </td><td>27.4           </td><td>never smoked   </td><td>1              </td></tr>\n",
       "</tbody>\n",
       "</table>\n"
      ],
      "text/latex": [
       "\\begin{tabular}{r|lllllllll}\n",
       " age & hypertension & heart\\_disease & ever\\_married & work\\_type & avg\\_glucose\\_level & bmi & smoking\\_status & stroke\\\\\n",
       "\\hline\n",
       "\t 67              & 0               & 1               & Yes             & Private         & 228.69          & 36.6            & formerly smoked & 1              \\\\\n",
       "\t 80              & 0               & 1               & Yes             & Private         & 105.92          & 32.5            & never smoked    & 1              \\\\\n",
       "\t 49              & 0               & 0               & Yes             & Private         & 171.23          & 34.4            & smokes          & 1              \\\\\n",
       "\t 79              & 1               & 0               & Yes             & Self-employed   & 174.12          & 24.0            & never smoked    & 1              \\\\\n",
       "\t 81              & 0               & 0               & Yes             & Private         & 186.21          & 29.0            & formerly smoked & 1              \\\\\n",
       "\t 74              & 1               & 1               & Yes             & Private         &  70.09          & 27.4            & never smoked    & 1              \\\\\n",
       "\\end{tabular}\n"
      ],
      "text/markdown": [
       "\n",
       "| age | hypertension | heart_disease | ever_married | work_type | avg_glucose_level | bmi | smoking_status | stroke |\n",
       "|---|---|---|---|---|---|---|---|---|\n",
       "| 67              | 0               | 1               | Yes             | Private         | 228.69          | 36.6            | formerly smoked | 1               |\n",
       "| 80              | 0               | 1               | Yes             | Private         | 105.92          | 32.5            | never smoked    | 1               |\n",
       "| 49              | 0               | 0               | Yes             | Private         | 171.23          | 34.4            | smokes          | 1               |\n",
       "| 79              | 1               | 0               | Yes             | Self-employed   | 174.12          | 24.0            | never smoked    | 1               |\n",
       "| 81              | 0               | 0               | Yes             | Private         | 186.21          | 29.0            | formerly smoked | 1               |\n",
       "| 74              | 1               | 1               | Yes             | Private         |  70.09          | 27.4            | never smoked    | 1               |\n",
       "\n"
      ],
      "text/plain": [
       "  age hypertension heart_disease ever_married work_type     avg_glucose_level\n",
       "1 67  0            1             Yes          Private       228.69           \n",
       "2 80  0            1             Yes          Private       105.92           \n",
       "3 49  0            0             Yes          Private       171.23           \n",
       "4 79  1            0             Yes          Self-employed 174.12           \n",
       "5 81  0            0             Yes          Private       186.21           \n",
       "6 74  1            1             Yes          Private        70.09           \n",
       "  bmi  smoking_status  stroke\n",
       "1 36.6 formerly smoked 1     \n",
       "2 32.5 never smoked    1     \n",
       "3 34.4 smokes          1     \n",
       "4 24.0 never smoked    1     \n",
       "5 29.0 formerly smoked 1     \n",
       "6 27.4 never smoked    1     "
      ]
     },
     "metadata": {},
     "output_type": "display_data"
    }
   ],
   "source": [
    "strokedata <- read.csv(file = '../data/healthcare-dataset-stroke-data-cleanbmi.csv')\n",
    "head(strokedata)"
   ]
  },
  {
   "cell_type": "markdown",
   "id": "077ace2a-8702-4c9e-a2be-7e5b354f20c7",
   "metadata": {},
   "source": [
    "## Model 1: Categorical + Numerical"
   ]
  },
  {
   "cell_type": "markdown",
   "id": "92beb232-848d-4434-95a4-8020ff8f827c",
   "metadata": {},
   "source": [
    "- <span style=\"color:blue\"> 在類別型的分析中: 高血壓、心臟病與結婚狀態 </span>\n",
    "- <span style=\"color:blue\"> 在數值型的分析中: 年齡、血糖</span>  \n",
    "- <span style=\"color:blue\"> 因此，我們提出了以下的模型</span>  "
   ]
  },
  {
   "cell_type": "markdown",
   "id": "b2b3b56d-b01d-41ca-8017-f2bbe1a004df",
   "metadata": {},
   "source": [
    "$$\n",
    "\\log{\\left(\\frac{P[\\rm{stroke}=1]}{P[\\rm{stroke}=0]}\\right)} = \\beta_0 + \\beta_{\\rm{hypert}}x_{\\rm{hypert}}+ \\beta_{\\rm{heartd}}x_{\\rm{heartd}}+ \\beta_{\\rm{marry}}x_{\\rm{marry}}+ \\beta_{\\rm{age}}x_{\\rm{age}} + \\beta_{\\rm{glucose}}x_{\\rm{glucose}}\n",
    "$$"
   ]
  },
  {
   "cell_type": "code",
   "execution_count": 3,
   "id": "292d389a-bdf7-4a13-90e1-fddfec9ccdc1",
   "metadata": {},
   "outputs": [
    {
     "data": {
      "text/plain": [
       "\n",
       "Call:\n",
       "glm(formula = stroke ~ hypertension + heart_disease + ever_married + \n",
       "    age + avg_glucose_level, family = binomial(link = \"logit\"), \n",
       "    data = strokedata)\n",
       "\n",
       "Deviance Residuals: \n",
       "    Min       1Q   Median       3Q      Max  \n",
       "-1.2018  -0.3344  -0.1915  -0.1090   3.2072  \n",
       "\n",
       "Coefficients:\n",
       "                   Estimate Std. Error z value Pr(>|z|)    \n",
       "(Intercept)       -7.526184   0.470428 -15.999  < 2e-16 ***\n",
       "hypertension       0.567110   0.181509   3.124 0.001782 ** \n",
       "heart_disease      0.449095   0.216933   2.070 0.038433 *  \n",
       "ever_marriedYes   -0.153133   0.260976  -0.587 0.557358    \n",
       "age                0.068184   0.006361  10.720  < 2e-16 ***\n",
       "avg_glucose_level  0.004733   0.001336   3.542 0.000398 ***\n",
       "---\n",
       "Signif. codes:  0 ‘***’ 0.001 ‘**’ 0.01 ‘*’ 0.05 ‘.’ 0.1 ‘ ’ 1\n",
       "\n",
       "(Dispersion parameter for binomial family taken to be 1)\n",
       "\n",
       "    Null deviance: 1410.9  on 3424  degrees of freedom\n",
       "Residual deviance: 1149.6  on 3419  degrees of freedom\n",
       "AIC: 1161.6\n",
       "\n",
       "Number of Fisher Scoring iterations: 7\n"
      ]
     },
     "metadata": {},
     "output_type": "display_data"
    }
   ],
   "source": [
    "model1 = glm(stroke ~ hypertension + heart_disease + ever_married + age + avg_glucose_level, data=strokedata, family=binomial(link=\"logit\"))\n",
    "summary(model1)"
   ]
  },
  {
   "cell_type": "markdown",
   "id": "a3e7fac0-7b4b-4f47-abf1-4344e744c5c7",
   "metadata": {},
   "source": [
    "- <span style=\"color:blue\"> 高血壓、心臟病、年齡、血糖的$\\beta$都大於零，表示這幾個因素都是中風的負面因子，與前面的分析一致</span>\n",
    "- <span style=\"color:red\"> $\\beta_{\\rm{marry}}<0$表示結婚會降低中風的機率，這與前面的分析矛盾。我們認為婚姻背後的confounding factor是年齡，會在下個部份討論</span>\n",
    "- <span style=\"color:blue\"> 此外，$\\beta_{\\rm{marry}}$ 的z-test p-value大，表示無法拒絕 $H_0: \\beta_{\\rm{marry}} = 0$</span>"
   ]
  },
  {
   "cell_type": "markdown",
   "id": "443574ce-471f-47b5-98a3-8b9e53ef020b",
   "metadata": {},
   "source": [
    "## Model 2\n",
    "在Model 1中，我們發現無法拒絕 $H_0: \\beta_{\\rm{marry}} = 0$，因此提出了下面的模型，並會用Deviance來比較Model 1 跟 Model 2"
   ]
  },
  {
   "cell_type": "markdown",
   "id": "95375d06-0226-4869-934e-41741402af6c",
   "metadata": {},
   "source": [
    "$$\n",
    "\\log{\\left(\\frac{P[\\rm{stroke}=1]}{P[\\rm{stroke}=0]}\\right)} = \\beta_0 + \\beta_{\\rm{hypert}}x_{\\rm{hypert}}+ \\beta_{\\rm{heartd}}x_{\\rm{heartd}}+ \\beta_{\\rm{age}}x_{\\rm{age}} + \\beta_{\\rm{glucose}}x_{\\rm{glucose}}\n",
    "$$"
   ]
  },
  {
   "cell_type": "code",
   "execution_count": 4,
   "id": "d88094d3-ddb3-4798-831e-e286fd10c973",
   "metadata": {},
   "outputs": [
    {
     "data": {
      "text/plain": [
       "\n",
       "Call:\n",
       "glm(formula = stroke ~ hypertension + heart_disease + age + avg_glucose_level, \n",
       "    family = binomial(link = \"logit\"), data = strokedata)\n",
       "\n",
       "Deviance Residuals: \n",
       "    Min       1Q   Median       3Q      Max  \n",
       "-1.1420  -0.3358  -0.1927  -0.1074   3.1975  \n",
       "\n",
       "Coefficients:\n",
       "                   Estimate Std. Error z value Pr(>|z|)    \n",
       "(Intercept)       -7.632239   0.439507 -17.365  < 2e-16 ***\n",
       "hypertension       0.568359   0.181384   3.133 0.001728 ** \n",
       "heart_disease      0.453716   0.216659   2.094 0.036247 *  \n",
       "age                0.067765   0.006359  10.656  < 2e-16 ***\n",
       "avg_glucose_level  0.004701   0.001334   3.524 0.000425 ***\n",
       "---\n",
       "Signif. codes:  0 ‘***’ 0.001 ‘**’ 0.01 ‘*’ 0.05 ‘.’ 0.1 ‘ ’ 1\n",
       "\n",
       "(Dispersion parameter for binomial family taken to be 1)\n",
       "\n",
       "    Null deviance: 1410.9  on 3424  degrees of freedom\n",
       "Residual deviance: 1149.9  on 3420  degrees of freedom\n",
       "AIC: 1159.9\n",
       "\n",
       "Number of Fisher Scoring iterations: 7\n"
      ]
     },
     "metadata": {},
     "output_type": "display_data"
    }
   ],
   "source": [
    "model2 = glm(stroke ~ hypertension + heart_disease + age + avg_glucose_level, data=strokedata, family=binomial(link=\"logit\"))\n",
    "summary(model2)"
   ]
  },
  {
   "cell_type": "markdown",
   "id": "5cfbd0e9-900f-4013-8f05-d0219cb562b1",
   "metadata": {},
   "source": [
    "### Likelihood-Ratio Test\n",
    "- Full Model與Reduced Model的差異可以轉換成 $H_0: \\beta_{\\rm{marry}} = 0$"
   ]
  },
  {
   "cell_type": "code",
   "execution_count": 5,
   "id": "7497b491-9b11-4d63-8068-6fe77da22f22",
   "metadata": {},
   "outputs": [
    {
     "data": {
      "text/html": [
       "<table>\n",
       "<thead><tr><th scope=col>Resid. Df</th><th scope=col>Resid. Dev</th><th scope=col>Df</th><th scope=col>Deviance</th><th scope=col>Pr(&gt;Chi)</th></tr></thead>\n",
       "<tbody>\n",
       "\t<tr><td>3419      </td><td>1149.567  </td><td>NA        </td><td>        NA</td><td>      NA  </td></tr>\n",
       "\t<tr><td>3420      </td><td>1149.903  </td><td>-1        </td><td>-0.3352499</td><td>0.562584  </td></tr>\n",
       "</tbody>\n",
       "</table>\n"
      ],
      "text/latex": [
       "\\begin{tabular}{r|lllll}\n",
       " Resid. Df & Resid. Dev & Df & Deviance & Pr(>Chi)\\\\\n",
       "\\hline\n",
       "\t 3419       & 1149.567   & NA         &         NA &       NA  \\\\\n",
       "\t 3420       & 1149.903   & -1         & -0.3352499 & 0.562584  \\\\\n",
       "\\end{tabular}\n"
      ],
      "text/markdown": [
       "\n",
       "| Resid. Df | Resid. Dev | Df | Deviance | Pr(>Chi) |\n",
       "|---|---|---|---|---|\n",
       "| 3419       | 1149.567   | NA         |         NA |       NA   |\n",
       "| 3420       | 1149.903   | -1         | -0.3352499 | 0.562584   |\n",
       "\n"
      ],
      "text/plain": [
       "  Resid. Df Resid. Dev Df Deviance   Pr(>Chi)\n",
       "1 3419      1149.567   NA         NA       NA\n",
       "2 3420      1149.903   -1 -0.3352499 0.562584"
      ]
     },
     "metadata": {},
     "output_type": "display_data"
    }
   ],
   "source": [
    "anova(model1, model2, test=\"LRT\")"
   ]
  },
  {
   "cell_type": "markdown",
   "id": "f5af374f-b480-4bf1-8747-aa99a9ce0b37",
   "metadata": {},
   "source": [
    "- 根據Deviance的p-value=0.5626\n",
    "    - <span style=\"color:blue\">不能拒絕 $H_0$，所以我們選擇Model 2當作Final Model</span>"
   ]
  },
  {
   "cell_type": "markdown",
   "id": "b27f1be7-aeab-4c96-a880-5553a4261072",
   "metadata": {},
   "source": [
    "## Final Model\n",
    "$$\n",
    "\\log{\\left(\\frac{P[\\rm{stroke}=1]}{P[\\rm{stroke}=0]}\\right)} = \\beta_0 + \\beta_{\\rm{hypert}}x_{\\rm{hypert}}+ \\beta_{\\rm{heartd}}x_{\\rm{heartd}}+ \\beta_{\\rm{age}}x_{\\rm{age}} + \\beta_{\\rm{glucose}}x_{\\rm{glucose}}\n",
    "$$"
   ]
  },
  {
   "cell_type": "code",
   "execution_count": 6,
   "id": "798c1c65-985e-4b47-88bc-a5ddb37fad72",
   "metadata": {},
   "outputs": [
    {
     "data": {
      "text/plain": [
       "\n",
       "Call:\n",
       "glm(formula = stroke ~ hypertension + heart_disease + age + avg_glucose_level, \n",
       "    family = binomial(link = \"logit\"), data = strokedata)\n",
       "\n",
       "Deviance Residuals: \n",
       "    Min       1Q   Median       3Q      Max  \n",
       "-1.1420  -0.3358  -0.1927  -0.1074   3.1975  \n",
       "\n",
       "Coefficients:\n",
       "                   Estimate Std. Error z value Pr(>|z|)    \n",
       "(Intercept)       -7.632239   0.439507 -17.365  < 2e-16 ***\n",
       "hypertension       0.568359   0.181384   3.133 0.001728 ** \n",
       "heart_disease      0.453716   0.216659   2.094 0.036247 *  \n",
       "age                0.067765   0.006359  10.656  < 2e-16 ***\n",
       "avg_glucose_level  0.004701   0.001334   3.524 0.000425 ***\n",
       "---\n",
       "Signif. codes:  0 ‘***’ 0.001 ‘**’ 0.01 ‘*’ 0.05 ‘.’ 0.1 ‘ ’ 1\n",
       "\n",
       "(Dispersion parameter for binomial family taken to be 1)\n",
       "\n",
       "    Null deviance: 1410.9  on 3424  degrees of freedom\n",
       "Residual deviance: 1149.9  on 3420  degrees of freedom\n",
       "AIC: 1159.9\n",
       "\n",
       "Number of Fisher Scoring iterations: 7\n"
      ]
     },
     "metadata": {},
     "output_type": "display_data"
    }
   ],
   "source": [
    "summary(model2)"
   ]
  },
  {
   "cell_type": "markdown",
   "id": "76c04ae7-4ecf-40d6-94c1-3d29567db611",
   "metadata": {},
   "source": [
    "### Final Model圖像化與討論\n",
    "以下四張圖，是我們將Final Model圖像化。四張圖對應到四組血糖(80,110,150,200)。每一張圖的橫軸是age，一張圖裏面的四條線分別對應到高血壓與心臟病的不同狀況。 \n",
    "- <span style=\"color:blue\">年齡的影響大約是在50-60歲之後開始增加中風的機率</span>\n",
    "- <span style=\"color:blue\">高血壓與心臟病的影響是差不多的。對於年紀大的人，兩者都有(紅色線)對比於兩者都沒有(藍色線)，中風的機率大概相差0.2</span>\n",
    "- <span style=\"color:blue\">比較四張圖，血糖的影響沒這麼大。對於年紀大的人，血糖250對比於血糖80，中風的機率大概相差0.1</span>"
   ]
  },
  {
   "cell_type": "markdown",
   "id": "6a7261a0-fb6a-4ddc-a217-1efff19e22f3",
   "metadata": {},
   "source": [
    "```{image} ./images/regr_final_model_glu_80.png\n",
    ":alt: regr_final_model_glu_80\n",
    ":class: bg-primary mb-1\n",
    ":width: 800px\n",
    ":align: center\n",
    "```\n",
    "\n",
    "```{image} ./images/regr_final_model_glu_110.png\n",
    ":alt: regr_final_model_glu_110\n",
    ":class: bg-primary mb-1\n",
    ":width: 800px\n",
    ":align: center\n",
    "```\n",
    "\n",
    "```{image} ./images/regr_final_model_glu_150.png\n",
    ":alt: regr_final_model_glu_110\n",
    ":class: bg-primary mb-1\n",
    ":width: 800px\n",
    ":align: center\n",
    "```\n",
    "\n",
    "```{image} ./images/regr_final_model_glu_200.png\n",
    ":alt: regr_final_model_glu_110\n",
    ":class: bg-primary mb-1\n",
    ":width: 800px\n",
    ":align: center\n",
    "```"
   ]
  },
  {
   "cell_type": "markdown",
   "id": "5c7085b8-dcd0-482d-90b9-3f380ca6f5c2",
   "metadata": {},
   "source": [
    "## 討論: 結婚狀態與年齡\n",
    "類別型簡單模型的分析指出有結婚的人，中風的機率會提升，且顯著性高。不過，在上面的Model 1，則說有結婚的人，中風的機率會下降，而且顯著性下降很多。我們直覺上認為有結婚與沒結婚這個資訊含有年齡的資訊。  \n",
    "<span style=\"color:blue\">因此，我們以下面四個模型來看是哪個變數造成$\\beta_{\\rm{marry}}$變號</span>"
   ]
  },
  {
   "cell_type": "markdown",
   "id": "aa073127-0881-4c00-a8c6-b2e179e0db4f",
   "metadata": {},
   "source": [
    "$$\n",
    "\\log{\\left(\\frac{P[\\rm{stroke}=1]}{P[\\rm{stroke}=0]}\\right)} = \\beta_0 + \\beta_{\\rm{marry}}x_{\\rm{marry}}+ \\beta_{\\rm{hypert}}x_{\\rm{hypert}}\n",
    "$$"
   ]
  },
  {
   "cell_type": "code",
   "execution_count": 12,
   "id": "bd524c50-6ae3-4c0b-88d9-6e2c4cc8e206",
   "metadata": {},
   "outputs": [
    {
     "data": {
      "text/plain": [
       "\n",
       "Call:\n",
       "glm(formula = stroke ~ ever_married + hypertension, family = binomial(link = \"logit\"), \n",
       "    data = strokedata)\n",
       "\n",
       "Deviance Residuals: \n",
       "    Min       1Q   Median       3Q      Max  \n",
       "-0.5655  -0.3119  -0.3119  -0.2091   2.7691  \n",
       "\n",
       "Coefficients:\n",
       "                Estimate Std. Error z value Pr(>|z|)    \n",
       "(Intercept)      -3.8122     0.2283 -16.695  < 2e-16 ***\n",
       "ever_marriedYes   0.8133     0.2431   3.345 0.000822 ***\n",
       "hypertension      1.2465     0.1714   7.271 3.58e-13 ***\n",
       "---\n",
       "Signif. codes:  0 ‘***’ 0.001 ‘**’ 0.01 ‘*’ 0.05 ‘.’ 0.1 ‘ ’ 1\n",
       "\n",
       "(Dispersion parameter for binomial family taken to be 1)\n",
       "\n",
       "    Null deviance: 1410.9  on 3424  degrees of freedom\n",
       "Residual deviance: 1344.7  on 3422  degrees of freedom\n",
       "AIC: 1350.7\n",
       "\n",
       "Number of Fisher Scoring iterations: 6\n"
      ]
     },
     "metadata": {},
     "output_type": "display_data"
    }
   ],
   "source": [
    "model_age_hypert = glm(stroke ~ ever_married + hypertension, data=strokedata, family=binomial(link=\"logit\"))\n",
    "summary(model_age_hypert)"
   ]
  },
  {
   "cell_type": "markdown",
   "id": "a8dc81e4-78cc-49a5-a9f2-61af2a12ed29",
   "metadata": {},
   "source": [
    "$$\n",
    "\\log{\\left(\\frac{P[\\rm{stroke}=1]}{P[\\rm{stroke}=0]}\\right)} = \\beta_0 + \\beta_{\\rm{marry}}x_{\\rm{marry}}+ \\beta_{\\rm{heartd}}x_{\\rm{heartd}}\n",
    "$$"
   ]
  },
  {
   "cell_type": "code",
   "execution_count": 13,
   "id": "87579565-be5c-447b-a486-759ec2fc4956",
   "metadata": {},
   "outputs": [
    {
     "data": {
      "text/plain": [
       "\n",
       "Call:\n",
       "glm(formula = stroke ~ ever_married + heart_disease, family = binomial(link = \"logit\"), \n",
       "    data = strokedata)\n",
       "\n",
       "Deviance Residuals: \n",
       "    Min       1Q   Median       3Q      Max  \n",
       "-0.6412  -0.3273  -0.3273  -0.2130   2.7560  \n",
       "\n",
       "Coefficients:\n",
       "                Estimate Std. Error z value Pr(>|z|)    \n",
       "(Intercept)      -3.7752     0.2277 -16.579  < 2e-16 ***\n",
       "ever_marriedYes   0.8751     0.2422   3.614 0.000302 ***\n",
       "heart_disease     1.4225     0.2036   6.987  2.8e-12 ***\n",
       "---\n",
       "Signif. codes:  0 ‘***’ 0.001 ‘**’ 0.01 ‘*’ 0.05 ‘.’ 0.1 ‘ ’ 1\n",
       "\n",
       "(Dispersion parameter for binomial family taken to be 1)\n",
       "\n",
       "    Null deviance: 1410.9  on 3424  degrees of freedom\n",
       "Residual deviance: 1351.2  on 3422  degrees of freedom\n",
       "AIC: 1357.2\n",
       "\n",
       "Number of Fisher Scoring iterations: 6\n"
      ]
     },
     "metadata": {},
     "output_type": "display_data"
    }
   ],
   "source": [
    "model_age_heartd = glm(stroke ~ ever_married + heart_disease, data=strokedata, family=binomial(link=\"logit\"))\n",
    "summary(model_age_heartd)"
   ]
  },
  {
   "cell_type": "markdown",
   "id": "895f9e22-6e75-44cf-b45c-c8feb031f421",
   "metadata": {},
   "source": [
    "$$\n",
    "\\log{\\left(\\frac{P[\\rm{stroke}=1]}{P[\\rm{stroke}=0]}\\right)} = \\beta_0 + \\beta_{\\rm{marry}}x_{\\rm{marry}}+ \\beta_{\\rm{age}}x_{\\rm{age}}\n",
    "$$"
   ]
  },
  {
   "cell_type": "code",
   "execution_count": 14,
   "id": "b02e99bc-7b08-4c84-8632-8f3a772ffd31",
   "metadata": {},
   "outputs": [
    {
     "data": {
      "text/plain": [
       "\n",
       "Call:\n",
       "glm(formula = stroke ~ ever_married + age, family = binomial(link = \"logit\"), \n",
       "    data = strokedata)\n",
       "\n",
       "Deviance Residuals: \n",
       "    Min       1Q   Median       3Q      Max  \n",
       "-0.7898  -0.3501  -0.2070  -0.1125   3.1579  \n",
       "\n",
       "Coefficients:\n",
       "                Estimate Std. Error z value Pr(>|z|)    \n",
       "(Intercept)     -7.27687    0.44943 -16.191   <2e-16 ***\n",
       "ever_marriedYes -0.15000    0.25746  -0.583     0.56    \n",
       "age              0.07648    0.00605  12.642   <2e-16 ***\n",
       "---\n",
       "Signif. codes:  0 ‘***’ 0.001 ‘**’ 0.01 ‘*’ 0.05 ‘.’ 0.1 ‘ ’ 1\n",
       "\n",
       "(Dispersion parameter for binomial family taken to be 1)\n",
       "\n",
       "    Null deviance: 1410.9  on 3424  degrees of freedom\n",
       "Residual deviance: 1180.0  on 3422  degrees of freedom\n",
       "AIC: 1186\n",
       "\n",
       "Number of Fisher Scoring iterations: 7\n"
      ]
     },
     "metadata": {},
     "output_type": "display_data"
    }
   ],
   "source": [
    "model_age_marry = glm(stroke ~ ever_married + age, data=strokedata, family=binomial(link=\"logit\"))\n",
    "summary(model_age_marry)"
   ]
  },
  {
   "cell_type": "markdown",
   "id": "7809d8e6-f90b-43d0-8724-45729645df8b",
   "metadata": {},
   "source": [
    "$$\n",
    "\\log{\\left(\\frac{P[\\rm{stroke}=1]}{P[\\rm{stroke}=0]}\\right)} = \\beta_0 + \\beta_{\\rm{marry}}x_{\\rm{marry}} + \\beta_{\\rm{glucose}}x_{\\rm{glucose}}\n",
    "$$"
   ]
  },
  {
   "cell_type": "code",
   "execution_count": 15,
   "id": "2925d6ed-24ea-4940-b72c-18cebe68e94f",
   "metadata": {},
   "outputs": [
    {
     "data": {
      "text/plain": [
       "\n",
       "Call:\n",
       "glm(formula = stroke ~ ever_married + avg_glucose_level, family = binomial(link = \"logit\"), \n",
       "    data = strokedata)\n",
       "\n",
       "Deviance Residuals: \n",
       "    Min       1Q   Median       3Q      Max  \n",
       "-0.6736  -0.3292  -0.2946  -0.2381   2.8574  \n",
       "\n",
       "Coefficients:\n",
       "                   Estimate Std. Error z value Pr(>|z|)    \n",
       "(Intercept)       -4.685927   0.270481 -17.324  < 2e-16 ***\n",
       "ever_marriedYes    0.801892   0.243289   3.296 0.000981 ***\n",
       "avg_glucose_level  0.009397   0.001294   7.263  3.8e-13 ***\n",
       "---\n",
       "Signif. codes:  0 ‘***’ 0.001 ‘**’ 0.01 ‘*’ 0.05 ‘.’ 0.1 ‘ ’ 1\n",
       "\n",
       "(Dispersion parameter for binomial family taken to be 1)\n",
       "\n",
       "    Null deviance: 1410.9  on 3424  degrees of freedom\n",
       "Residual deviance: 1342.3  on 3422  degrees of freedom\n",
       "AIC: 1348.3\n",
       "\n",
       "Number of Fisher Scoring iterations: 6\n"
      ]
     },
     "metadata": {},
     "output_type": "display_data"
    }
   ],
   "source": [
    "model_age_glc = glm(stroke ~ ever_married + avg_glucose_level, data=strokedata, family=binomial(link=\"logit\"))\n",
    "summary(model_age_glc)"
   ]
  },
  {
   "cell_type": "markdown",
   "id": "81c00bb6-4a86-469a-bf1f-6d3b5969cadd",
   "metadata": {},
   "source": [
    "- <span style=\"color:blue\">跟我們的猜想一樣，是\"年齡\"造成$\\beta_{\\rm{marry}}$變號與不顯著的</span>\n",
    "- <span style=\"color:blue\">所以當我們在簡單模型裡只考慮婚姻這個參數時，年齡是背後的Confounding factor</span>\n",
    "   - <span style=\"color:blue\">結婚的人通常年紀比較大，因此容易中風。年紀小則反之。</span>\n",
    "   \n",
    "<p style=\"page-break-before: always\">"
   ]
  }
 ],
 "metadata": {
  "kernelspec": {
   "display_name": "R",
   "language": "R",
   "name": "ir"
  },
  "language_info": {
   "codemirror_mode": "r",
   "file_extension": ".r",
   "mimetype": "text/x-r-source",
   "name": "R",
   "pygments_lexer": "r",
   "version": "3.6.1"
  }
 },
 "nbformat": 4,
 "nbformat_minor": 5
}
