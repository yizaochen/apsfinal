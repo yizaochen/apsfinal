{
 "cells": [
  {
   "cell_type": "markdown",
   "id": "367fa5b2-5867-4859-a29f-15890cc5c494",
   "metadata": {},
   "source": [
    "# Chapter 10: 迴歸分析2-數值型變數\n",
    "在迴歸分析的第二部份，我們將專注的探討三個數值型變數:年齡、血糖、BMI。主要的目的是了解這三個變數中哪些對中風的預測是重要的。"
   ]
  },
  {
   "cell_type": "markdown",
   "id": "d202b516-4e81-4ea8-84a0-0e8a15cdd889",
   "metadata": {},
   "source": [
    "## 讀取資料"
   ]
  },
  {
   "cell_type": "code",
   "execution_count": 1,
   "id": "8b130533-6f7f-438e-982b-bdb4eeafe209",
   "metadata": {},
   "outputs": [
    {
     "data": {
      "text/html": [
       "<table>\n",
       "<thead><tr><th scope=col>age</th><th scope=col>hypertension</th><th scope=col>heart_disease</th><th scope=col>ever_married</th><th scope=col>work_type</th><th scope=col>avg_glucose_level</th><th scope=col>bmi</th><th scope=col>smoking_status</th><th scope=col>stroke</th></tr></thead>\n",
       "<tbody>\n",
       "\t<tr><td>67             </td><td>0              </td><td>1              </td><td>Yes            </td><td>Private        </td><td>228.69         </td><td>36.6           </td><td>formerly smoked</td><td>1              </td></tr>\n",
       "\t<tr><td>80             </td><td>0              </td><td>1              </td><td>Yes            </td><td>Private        </td><td>105.92         </td><td>32.5           </td><td>never smoked   </td><td>1              </td></tr>\n",
       "\t<tr><td>49             </td><td>0              </td><td>0              </td><td>Yes            </td><td>Private        </td><td>171.23         </td><td>34.4           </td><td>smokes         </td><td>1              </td></tr>\n",
       "\t<tr><td>79             </td><td>1              </td><td>0              </td><td>Yes            </td><td>Self-employed  </td><td>174.12         </td><td>24.0           </td><td>never smoked   </td><td>1              </td></tr>\n",
       "\t<tr><td>81             </td><td>0              </td><td>0              </td><td>Yes            </td><td>Private        </td><td>186.21         </td><td>29.0           </td><td>formerly smoked</td><td>1              </td></tr>\n",
       "\t<tr><td>74             </td><td>1              </td><td>1              </td><td>Yes            </td><td>Private        </td><td> 70.09         </td><td>27.4           </td><td>never smoked   </td><td>1              </td></tr>\n",
       "</tbody>\n",
       "</table>\n"
      ],
      "text/latex": [
       "\\begin{tabular}{r|lllllllll}\n",
       " age & hypertension & heart\\_disease & ever\\_married & work\\_type & avg\\_glucose\\_level & bmi & smoking\\_status & stroke\\\\\n",
       "\\hline\n",
       "\t 67              & 0               & 1               & Yes             & Private         & 228.69          & 36.6            & formerly smoked & 1              \\\\\n",
       "\t 80              & 0               & 1               & Yes             & Private         & 105.92          & 32.5            & never smoked    & 1              \\\\\n",
       "\t 49              & 0               & 0               & Yes             & Private         & 171.23          & 34.4            & smokes          & 1              \\\\\n",
       "\t 79              & 1               & 0               & Yes             & Self-employed   & 174.12          & 24.0            & never smoked    & 1              \\\\\n",
       "\t 81              & 0               & 0               & Yes             & Private         & 186.21          & 29.0            & formerly smoked & 1              \\\\\n",
       "\t 74              & 1               & 1               & Yes             & Private         &  70.09          & 27.4            & never smoked    & 1              \\\\\n",
       "\\end{tabular}\n"
      ],
      "text/markdown": [
       "\n",
       "| age | hypertension | heart_disease | ever_married | work_type | avg_glucose_level | bmi | smoking_status | stroke |\n",
       "|---|---|---|---|---|---|---|---|---|\n",
       "| 67              | 0               | 1               | Yes             | Private         | 228.69          | 36.6            | formerly smoked | 1               |\n",
       "| 80              | 0               | 1               | Yes             | Private         | 105.92          | 32.5            | never smoked    | 1               |\n",
       "| 49              | 0               | 0               | Yes             | Private         | 171.23          | 34.4            | smokes          | 1               |\n",
       "| 79              | 1               | 0               | Yes             | Self-employed   | 174.12          | 24.0            | never smoked    | 1               |\n",
       "| 81              | 0               | 0               | Yes             | Private         | 186.21          | 29.0            | formerly smoked | 1               |\n",
       "| 74              | 1               | 1               | Yes             | Private         |  70.09          | 27.4            | never smoked    | 1               |\n",
       "\n"
      ],
      "text/plain": [
       "  age hypertension heart_disease ever_married work_type     avg_glucose_level\n",
       "1 67  0            1             Yes          Private       228.69           \n",
       "2 80  0            1             Yes          Private       105.92           \n",
       "3 49  0            0             Yes          Private       171.23           \n",
       "4 79  1            0             Yes          Self-employed 174.12           \n",
       "5 81  0            0             Yes          Private       186.21           \n",
       "6 74  1            1             Yes          Private        70.09           \n",
       "  bmi  smoking_status  stroke\n",
       "1 36.6 formerly smoked 1     \n",
       "2 32.5 never smoked    1     \n",
       "3 34.4 smokes          1     \n",
       "4 24.0 never smoked    1     \n",
       "5 29.0 formerly smoked 1     \n",
       "6 27.4 never smoked    1     "
      ]
     },
     "metadata": {},
     "output_type": "display_data"
    }
   ],
   "source": [
    "strokedata <- read.csv(file = '../data/healthcare-dataset-stroke-data-cleanbmi.csv')\n",
    "head(strokedata)"
   ]
  },
  {
   "cell_type": "markdown",
   "id": "077ace2a-8702-4c9e-a2be-7e5b354f20c7",
   "metadata": {},
   "source": [
    "## Simple Models: 只含有一個解釋變數 "
   ]
  },
  {
   "cell_type": "markdown",
   "id": "b2b3b56d-b01d-41ca-8017-f2bbe1a004df",
   "metadata": {},
   "source": [
    "### Age(年齡)\n",
    "$$\n",
    "\\log{\\left(\\frac{P[\\rm{stroke}=1]}{P[\\rm{stroke}=0]}\\right)} = \\beta_0 + \\beta_{\\rm{age}}x_{\\rm{age}}\n",
    "$$"
   ]
  },
  {
   "cell_type": "code",
   "execution_count": 2,
   "id": "292d389a-bdf7-4a13-90e1-fddfec9ccdc1",
   "metadata": {},
   "outputs": [
    {
     "data": {
      "text/plain": [
       "\n",
       "Call:\n",
       "glm(formula = stroke ~ age, family = binomial(link = \"logit\"), \n",
       "    data = strokedata)\n",
       "\n",
       "Deviance Residuals: \n",
       "    Min       1Q   Median       3Q      Max  \n",
       "-0.7433  -0.3532  -0.2094  -0.1101   3.1488  \n",
       "\n",
       "Coefficients:\n",
       "             Estimate Std. Error z value Pr(>|z|)    \n",
       "(Intercept) -7.386079   0.413419  -17.87   <2e-16 ***\n",
       "age          0.076109   0.006051   12.58   <2e-16 ***\n",
       "---\n",
       "Signif. codes:  0 ‘***’ 0.001 ‘**’ 0.01 ‘*’ 0.05 ‘.’ 0.1 ‘ ’ 1\n",
       "\n",
       "(Dispersion parameter for binomial family taken to be 1)\n",
       "\n",
       "    Null deviance: 1410.9  on 3424  degrees of freedom\n",
       "Residual deviance: 1180.3  on 3423  degrees of freedom\n",
       "AIC: 1184.3\n",
       "\n",
       "Number of Fisher Scoring iterations: 7\n"
      ]
     },
     "metadata": {},
     "output_type": "display_data"
    }
   ],
   "source": [
    "model_age = glm(stroke ~ age, data=strokedata, family=binomial(link=\"logit\"))\n",
    "summary(model_age)"
   ]
  },
  {
   "cell_type": "markdown",
   "id": "4f4be700-664d-4e4e-93ef-2dc600fd631b",
   "metadata": {},
   "source": [
    "- <span style=\"color:blue\"> $\\beta$的z-test的p-value很小，年紀對中風的預測是顯著的 </span>\n",
    "- <span style=\"color:blue\"> $\\beta_{\\rm{age}}=0.076 > 0$ : 年紀增加，中風的機率也會提升 </span>\n",
    "- <span style=\"color:blue\"> 下圖藍色線是上述模型的圖像化，可以看到大約過了六十歲，中風的機率開始快速地增高 </span>"
   ]
  },
  {
   "cell_type": "markdown",
   "id": "49944461-5e34-4a01-9be9-b5fafb6731be",
   "metadata": {},
   "source": [
    "```{image} ./images/nume_model_age.png\n",
    ":alt: nume_model_age.png\n",
    ":class: bg-primary mb-1\n",
    ":width: 800px\n",
    ":align: center\n",
    "```"
   ]
  },
  {
   "cell_type": "markdown",
   "id": "1096e909-5669-4d2a-9c14-cf1718f41bba",
   "metadata": {},
   "source": [
    "### Average Glucose Level(血糖)\n",
    "$$\n",
    "\\log{\\left(\\frac{P[\\rm{stroke}=1]}{P[\\rm{stroke}=0]}\\right)} = \\beta_0 + \\beta_{\\rm{glucose}}x_{\\rm{glucose}}\n",
    "$$"
   ]
  },
  {
   "cell_type": "code",
   "execution_count": 3,
   "id": "25b15d47-4249-428d-9357-8744e03c01bf",
   "metadata": {},
   "outputs": [
    {
     "data": {
      "text/plain": [
       "\n",
       "Call:\n",
       "glm(formula = stroke ~ avg_glucose_level, family = binomial(link = \"logit\"), \n",
       "    data = strokedata)\n",
       "\n",
       "Deviance Residuals: \n",
       "    Min       1Q   Median       3Q      Max  \n",
       "-0.6637  -0.3162  -0.2829  -0.2614   2.6723  \n",
       "\n",
       "Coefficients:\n",
       "                   Estimate Std. Error z value Pr(>|z|)    \n",
       "(Intercept)       -4.109552   0.188746 -21.773  < 2e-16 ***\n",
       "avg_glucose_level  0.010116   0.001286   7.868  3.6e-15 ***\n",
       "---\n",
       "Signif. codes:  0 ‘***’ 0.001 ‘**’ 0.01 ‘*’ 0.05 ‘.’ 0.1 ‘ ’ 1\n",
       "\n",
       "(Dispersion parameter for binomial family taken to be 1)\n",
       "\n",
       "    Null deviance: 1410.9  on 3424  degrees of freedom\n",
       "Residual deviance: 1355.3  on 3423  degrees of freedom\n",
       "AIC: 1359.3\n",
       "\n",
       "Number of Fisher Scoring iterations: 6\n"
      ]
     },
     "metadata": {},
     "output_type": "display_data"
    }
   ],
   "source": [
    "model_glucose = glm(stroke ~ avg_glucose_level, data=strokedata, family=binomial(link=\"logit\"))\n",
    "summary(model_glucose)"
   ]
  },
  {
   "cell_type": "markdown",
   "id": "1278b8cc-c0b9-4c20-af4d-a5c9a9377461",
   "metadata": {},
   "source": [
    "- <span style=\"color:blue\"> $\\beta$的z-test的p-value很小，血糖對中風的預測是顯著的 </span>\n",
    "- <span style=\"color:blue\"> $\\beta_{\\rm{glucose}}=0.01 > 0$ : 血糖增加，中風的機率也會提升 </span>\n",
    "- <span style=\"color:blue\"> 下圖藍色線是上述模型的圖像化。隨著血糖增加，中風機率會增加。相比於年紀，增加的斜率比較小。表示血糖相對於年紀對於中風的影響性比較小。</span>"
   ]
  },
  {
   "cell_type": "markdown",
   "id": "9502b553-a9c4-490f-abde-63823288f122",
   "metadata": {},
   "source": [
    "```{image} ./images/nume_model_glucose.png\n",
    ":alt: nume_model_glucose.png\n",
    ":class: bg-primary mb-1\n",
    ":width: 800px\n",
    ":align: center\n",
    "```"
   ]
  },
  {
   "cell_type": "markdown",
   "id": "3e13b899-a87e-484d-9b35-f440c4299a1e",
   "metadata": {},
   "source": [
    "### BMI(身體質量指數)\n",
    "$$\n",
    "\\log{\\left(\\frac{P[\\rm{stroke}=1]}{P[\\rm{stroke}=0]}\\right)} = \\beta_0 + \\beta_{\\rm{bmi}}x_{\\rm{bmi}}\n",
    "$$"
   ]
  },
  {
   "cell_type": "code",
   "execution_count": 4,
   "id": "8d7b176b-724e-4dda-95b8-f5b5bcb888d0",
   "metadata": {},
   "outputs": [
    {
     "data": {
      "text/plain": [
       "\n",
       "Call:\n",
       "glm(formula = stroke ~ bmi, family = binomial(link = \"logit\"), \n",
       "    data = strokedata)\n",
       "\n",
       "Deviance Residuals: \n",
       "    Min       1Q   Median       3Q      Max  \n",
       "-0.4039  -0.3322  -0.3266  -0.3221   2.4638  \n",
       "\n",
       "Coefficients:\n",
       "             Estimate Std. Error z value Pr(>|z|)    \n",
       "(Intercept) -3.103070   0.321963  -9.638   <2e-16 ***\n",
       "bmi          0.006932   0.010210   0.679    0.497    \n",
       "---\n",
       "Signif. codes:  0 ‘***’ 0.001 ‘**’ 0.01 ‘*’ 0.05 ‘.’ 0.1 ‘ ’ 1\n",
       "\n",
       "(Dispersion parameter for binomial family taken to be 1)\n",
       "\n",
       "    Null deviance: 1410.9  on 3424  degrees of freedom\n",
       "Residual deviance: 1410.4  on 3423  degrees of freedom\n",
       "AIC: 1414.4\n",
       "\n",
       "Number of Fisher Scoring iterations: 5\n"
      ]
     },
     "metadata": {},
     "output_type": "display_data"
    }
   ],
   "source": [
    "model_bmi = glm(stroke ~ bmi, data=strokedata, family=binomial(link=\"logit\"))\n",
    "summary(model_bmi)"
   ]
  },
  {
   "cell_type": "markdown",
   "id": "78bd9582-930d-4b6d-91fd-c71809666b95",
   "metadata": {},
   "source": [
    "- <span style=\"color:blue\"> $\\beta_{\\rm{glucose}}=0.006 > 0$ : BMI增加，中風的機率也會提升 </span>\n",
    "- <span style=\"color:blue\"> $\\beta$的z-test的p-value很大，BMI對中風的預測是不顯著的，我們因此在Final Model不考慮此變數 </span>\n",
    "- <span style=\"color:blue\"> 下圖藍色線是上述模型的圖像化。隨著BMI增加，中風機率非常緩慢的增加</span>"
   ]
  },
  {
   "cell_type": "markdown",
   "id": "e0b03487-7cc7-4ab2-986c-66bd907b3c0e",
   "metadata": {},
   "source": [
    "```{image} ./images/nume_model_bmi.png\n",
    ":alt: nume_model_bmi\n",
    ":class: bg-primary mb-1\n",
    ":width: 800px\n",
    ":align: center\n",
    "```"
   ]
  },
  {
   "cell_type": "markdown",
   "id": "9ce9631c-3870-42f6-894d-0c7e115c7b03",
   "metadata": {},
   "source": [
    "## Final Model: \n",
    "由上述簡單模型的分析，最終模型為 "
   ]
  },
  {
   "cell_type": "markdown",
   "id": "50702d08-4e4c-45a6-895d-55656c239ee4",
   "metadata": {},
   "source": [
    "$$\n",
    "\\log{\\left(\\frac{P[\\rm{stroke}=1]}{P[\\rm{stroke}=0]}\\right)} = \\beta_0 + \\beta_{\\rm{age}}x_{\\rm{age}} + \\beta_{\\rm{glucose}}x_{\\rm{glucose}}\n",
    "$$"
   ]
  },
  {
   "cell_type": "code",
   "execution_count": 5,
   "id": "82aca52c-0401-442f-b571-ba8f4f845396",
   "metadata": {},
   "outputs": [
    {
     "data": {
      "text/plain": [
       "\n",
       "Call:\n",
       "glm(formula = stroke ~ age + avg_glucose_level, family = binomial(link = \"logit\"), \n",
       "    data = strokedata)\n",
       "\n",
       "Deviance Residuals: \n",
       "    Min       1Q   Median       3Q      Max  \n",
       "-0.9513  -0.3432  -0.1975  -0.1068   3.1971  \n",
       "\n",
       "Coefficients:\n",
       "                   Estimate Std. Error z value Pr(>|z|)    \n",
       "(Intercept)       -7.845280   0.434300  -18.06  < 2e-16 ***\n",
       "age                0.072699   0.006177   11.77  < 2e-16 ***\n",
       "avg_glucose_level  0.005443   0.001311    4.15 3.32e-05 ***\n",
       "---\n",
       "Signif. codes:  0 ‘***’ 0.001 ‘**’ 0.01 ‘*’ 0.05 ‘.’ 0.1 ‘ ’ 1\n",
       "\n",
       "(Dispersion parameter for binomial family taken to be 1)\n",
       "\n",
       "    Null deviance: 1410.9  on 3424  degrees of freedom\n",
       "Residual deviance: 1163.8  on 3422  degrees of freedom\n",
       "AIC: 1169.8\n",
       "\n",
       "Number of Fisher Scoring iterations: 7\n"
      ]
     },
     "metadata": {},
     "output_type": "display_data"
    }
   ],
   "source": [
    "final_model = glm(stroke ~ age + avg_glucose_level, data=strokedata, family=binomial(link=\"logit\"))\n",
    "summary(final_model)"
   ]
  },
  {
   "cell_type": "markdown",
   "id": "0cf055f7-fd11-42ef-91ff-de7355c97106",
   "metadata": {},
   "source": [
    "- <span style=\"color:blue\"> $\\beta_{\\rm{age}} > \\beta_{\\rm{glucose}} > 0$</span>\n",
    "   - 年齡相較於血糖，對於中風機率的影響是比較大的\n",
    "\n",
    "\n",
    "#### [回到目錄](./tablecontent.md)\n",
    "<p style=\"page-break-before: always\">"
   ]
  }
 ],
 "metadata": {
  "kernelspec": {
   "display_name": "R",
   "language": "R",
   "name": "ir"
  },
  "language_info": {
   "codemirror_mode": "r",
   "file_extension": ".r",
   "mimetype": "text/x-r-source",
   "name": "R",
   "pygments_lexer": "r",
   "version": "3.6.1"
  }
 },
 "nbformat": 4,
 "nbformat_minor": 5
}