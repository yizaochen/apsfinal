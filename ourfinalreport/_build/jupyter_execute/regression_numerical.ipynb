{
 "cells": [
  {
   "cell_type": "markdown",
   "id": "367fa5b2-5867-4859-a29f-15890cc5c494",
   "metadata": {},
   "source": [
    "# 迴歸分析: 數值型變數"
   ]
  },
  {
   "cell_type": "markdown",
   "id": "d202b516-4e81-4ea8-84a0-0e8a15cdd889",
   "metadata": {},
   "source": [
    "## 讀取與清理資料\n",
    "- 資料清理\n",
    "   - BMI為Null\n",
    "   - Smoking status為unknown"
   ]
  },
  {
   "cell_type": "code",
   "execution_count": 1,
   "id": "8b130533-6f7f-438e-982b-bdb4eeafe209",
   "metadata": {},
   "outputs": [
    {
     "data": {
      "text/html": [
       "<table>\n",
       "<thead><tr><th scope=col>age</th><th scope=col>hypertension</th><th scope=col>heart_disease</th><th scope=col>ever_married</th><th scope=col>work_type</th><th scope=col>avg_glucose_level</th><th scope=col>bmi</th><th scope=col>smoking_status</th><th scope=col>stroke</th></tr></thead>\n",
       "<tbody>\n",
       "\t<tr><td>67             </td><td>0              </td><td>1              </td><td>Yes            </td><td>Private        </td><td>228.69         </td><td>36.6           </td><td>formerly smoked</td><td>1              </td></tr>\n",
       "\t<tr><td>80             </td><td>0              </td><td>1              </td><td>Yes            </td><td>Private        </td><td>105.92         </td><td>32.5           </td><td>never smoked   </td><td>1              </td></tr>\n",
       "\t<tr><td>49             </td><td>0              </td><td>0              </td><td>Yes            </td><td>Private        </td><td>171.23         </td><td>34.4           </td><td>smokes         </td><td>1              </td></tr>\n",
       "\t<tr><td>79             </td><td>1              </td><td>0              </td><td>Yes            </td><td>Self-employed  </td><td>174.12         </td><td>24.0           </td><td>never smoked   </td><td>1              </td></tr>\n",
       "\t<tr><td>81             </td><td>0              </td><td>0              </td><td>Yes            </td><td>Private        </td><td>186.21         </td><td>29.0           </td><td>formerly smoked</td><td>1              </td></tr>\n",
       "\t<tr><td>74             </td><td>1              </td><td>1              </td><td>Yes            </td><td>Private        </td><td> 70.09         </td><td>27.4           </td><td>never smoked   </td><td>1              </td></tr>\n",
       "</tbody>\n",
       "</table>\n"
      ],
      "text/latex": [
       "\\begin{tabular}{r|lllllllll}\n",
       " age & hypertension & heart\\_disease & ever\\_married & work\\_type & avg\\_glucose\\_level & bmi & smoking\\_status & stroke\\\\\n",
       "\\hline\n",
       "\t 67              & 0               & 1               & Yes             & Private         & 228.69          & 36.6            & formerly smoked & 1              \\\\\n",
       "\t 80              & 0               & 1               & Yes             & Private         & 105.92          & 32.5            & never smoked    & 1              \\\\\n",
       "\t 49              & 0               & 0               & Yes             & Private         & 171.23          & 34.4            & smokes          & 1              \\\\\n",
       "\t 79              & 1               & 0               & Yes             & Self-employed   & 174.12          & 24.0            & never smoked    & 1              \\\\\n",
       "\t 81              & 0               & 0               & Yes             & Private         & 186.21          & 29.0            & formerly smoked & 1              \\\\\n",
       "\t 74              & 1               & 1               & Yes             & Private         &  70.09          & 27.4            & never smoked    & 1              \\\\\n",
       "\\end{tabular}\n"
      ],
      "text/markdown": [
       "\n",
       "| age | hypertension | heart_disease | ever_married | work_type | avg_glucose_level | bmi | smoking_status | stroke |\n",
       "|---|---|---|---|---|---|---|---|---|\n",
       "| 67              | 0               | 1               | Yes             | Private         | 228.69          | 36.6            | formerly smoked | 1               |\n",
       "| 80              | 0               | 1               | Yes             | Private         | 105.92          | 32.5            | never smoked    | 1               |\n",
       "| 49              | 0               | 0               | Yes             | Private         | 171.23          | 34.4            | smokes          | 1               |\n",
       "| 79              | 1               | 0               | Yes             | Self-employed   | 174.12          | 24.0            | never smoked    | 1               |\n",
       "| 81              | 0               | 0               | Yes             | Private         | 186.21          | 29.0            | formerly smoked | 1               |\n",
       "| 74              | 1               | 1               | Yes             | Private         |  70.09          | 27.4            | never smoked    | 1               |\n",
       "\n"
      ],
      "text/plain": [
       "  age hypertension heart_disease ever_married work_type     avg_glucose_level\n",
       "1 67  0            1             Yes          Private       228.69           \n",
       "2 80  0            1             Yes          Private       105.92           \n",
       "3 49  0            0             Yes          Private       171.23           \n",
       "4 79  1            0             Yes          Self-employed 174.12           \n",
       "5 81  0            0             Yes          Private       186.21           \n",
       "6 74  1            1             Yes          Private        70.09           \n",
       "  bmi  smoking_status  stroke\n",
       "1 36.6 formerly smoked 1     \n",
       "2 32.5 never smoked    1     \n",
       "3 34.4 smokes          1     \n",
       "4 24.0 never smoked    1     \n",
       "5 29.0 formerly smoked 1     \n",
       "6 27.4 never smoked    1     "
      ]
     },
     "metadata": {},
     "output_type": "display_data"
    }
   ],
   "source": [
    "strokedata <- read.csv(file = '../data/healthcare-dataset-stroke-data-cleanbmi.csv')\n",
    "head(strokedata)"
   ]
  },
  {
   "cell_type": "markdown",
   "id": "077ace2a-8702-4c9e-a2be-7e5b354f20c7",
   "metadata": {},
   "source": [
    "## Simple Models: 只含有一個解釋變數 "
   ]
  },
  {
   "cell_type": "markdown",
   "id": "b2b3b56d-b01d-41ca-8017-f2bbe1a004df",
   "metadata": {},
   "source": [
    "### Age\n",
    "$\\log{\\left(\\frac{P[\\rm{stroke}=1]}{P[\\rm{stroke}=0]}\\right)} = \\beta_0 + \\beta_{\\rm{age}}x_{\\rm{age}}$"
   ]
  },
  {
   "cell_type": "code",
   "execution_count": 2,
   "id": "292d389a-bdf7-4a13-90e1-fddfec9ccdc1",
   "metadata": {},
   "outputs": [
    {
     "data": {
      "text/plain": [
       "\n",
       "Call:\n",
       "glm(formula = stroke ~ age, family = binomial(link = \"logit\"), \n",
       "    data = strokedata)\n",
       "\n",
       "Deviance Residuals: \n",
       "    Min       1Q   Median       3Q      Max  \n",
       "-0.7433  -0.3532  -0.2094  -0.1101   3.1489  \n",
       "\n",
       "Coefficients:\n",
       "             Estimate Std. Error z value Pr(>|z|)    \n",
       "(Intercept) -7.386557   0.413389  -17.87   <2e-16 ***\n",
       "age          0.076116   0.006051   12.58   <2e-16 ***\n",
       "---\n",
       "Signif. codes:  0 ‘***’ 0.001 ‘**’ 0.01 ‘*’ 0.05 ‘.’ 0.1 ‘ ’ 1\n",
       "\n",
       "(Dispersion parameter for binomial family taken to be 1)\n",
       "\n",
       "    Null deviance: 1411.0  on 3425  degrees of freedom\n",
       "Residual deviance: 1180.3  on 3424  degrees of freedom\n",
       "AIC: 1184.3\n",
       "\n",
       "Number of Fisher Scoring iterations: 7\n"
      ]
     },
     "metadata": {},
     "output_type": "display_data"
    }
   ],
   "source": [
    "model_age = glm(stroke ~ age, data=strokedata, family=binomial(link=\"logit\"))\n",
    "summary(model_age)"
   ]
  },
  {
   "cell_type": "markdown",
   "id": "5e935ebc-094c-43e5-ba04-47c253cde21a",
   "metadata": {},
   "source": [
    "![nume_model_age](./images/nume_model_age.png)"
   ]
  },
  {
   "cell_type": "markdown",
   "id": "1096e909-5669-4d2a-9c14-cf1718f41bba",
   "metadata": {},
   "source": [
    "### Average Glucose Level\n",
    "$\\log{\\left(\\frac{P[\\rm{stroke}=1]}{P[\\rm{stroke}=0]}\\right)} = \\beta_0 + \\beta_{\\rm{glucose}}x_{\\rm{glucose}}$"
   ]
  },
  {
   "cell_type": "code",
   "execution_count": 3,
   "id": "25b15d47-4249-428d-9357-8744e03c01bf",
   "metadata": {},
   "outputs": [
    {
     "data": {
      "text/plain": [
       "\n",
       "Call:\n",
       "glm(formula = stroke ~ avg_glucose_level, family = binomial(link = \"logit\"), \n",
       "    data = strokedata)\n",
       "\n",
       "Deviance Residuals: \n",
       "    Min       1Q   Median       3Q      Max  \n",
       "-0.6635  -0.3162  -0.2829  -0.2613   2.6724  \n",
       "\n",
       "Coefficients:\n",
       "                   Estimate Std. Error z value Pr(>|z|)    \n",
       "(Intercept)       -4.109807   0.188774 -21.771  < 2e-16 ***\n",
       "avg_glucose_level  0.010115   0.001286   7.866 3.66e-15 ***\n",
       "---\n",
       "Signif. codes:  0 ‘***’ 0.001 ‘**’ 0.01 ‘*’ 0.05 ‘.’ 0.1 ‘ ’ 1\n",
       "\n",
       "(Dispersion parameter for binomial family taken to be 1)\n",
       "\n",
       "    Null deviance: 1411.0  on 3425  degrees of freedom\n",
       "Residual deviance: 1355.4  on 3424  degrees of freedom\n",
       "AIC: 1359.4\n",
       "\n",
       "Number of Fisher Scoring iterations: 6\n"
      ]
     },
     "metadata": {},
     "output_type": "display_data"
    }
   ],
   "source": [
    "model_glucose = glm(stroke ~ avg_glucose_level, data=strokedata, family=binomial(link=\"logit\"))\n",
    "summary(model_glucose)"
   ]
  },
  {
   "cell_type": "markdown",
   "id": "1094d221-f7f3-4ba6-b495-13b7cef1300d",
   "metadata": {},
   "source": [
    "![nume_model_glucose](./images/nume_model_glucose.png)"
   ]
  },
  {
   "cell_type": "markdown",
   "id": "3e13b899-a87e-484d-9b35-f440c4299a1e",
   "metadata": {},
   "source": [
    "### BMI\n",
    "$\\log{\\left(\\frac{P[\\rm{stroke}=1]}{P[\\rm{stroke}=0]}\\right)} = \\beta_0 + \\beta_{\\rm{bmi}}x_{\\rm{bmi}}$"
   ]
  },
  {
   "cell_type": "code",
   "execution_count": 4,
   "id": "8d7b176b-724e-4dda-95b8-f5b5bcb888d0",
   "metadata": {},
   "outputs": [
    {
     "data": {
      "text/plain": [
       "\n",
       "Call:\n",
       "glm(formula = stroke ~ bmi, family = binomial(link = \"logit\"), \n",
       "    data = strokedata)\n",
       "\n",
       "Deviance Residuals: \n",
       "    Min       1Q   Median       3Q      Max  \n",
       "-0.4043  -0.3322  -0.3266  -0.3220   2.4642  \n",
       "\n",
       "Coefficients:\n",
       "             Estimate Std. Error z value Pr(>|z|)    \n",
       "(Intercept) -3.104671   0.321897  -9.645   <2e-16 ***\n",
       "bmi          0.006975   0.010207   0.683    0.494    \n",
       "---\n",
       "Signif. codes:  0 ‘***’ 0.001 ‘**’ 0.01 ‘*’ 0.05 ‘.’ 0.1 ‘ ’ 1\n",
       "\n",
       "(Dispersion parameter for binomial family taken to be 1)\n",
       "\n",
       "    Null deviance: 1411.0  on 3425  degrees of freedom\n",
       "Residual deviance: 1410.5  on 3424  degrees of freedom\n",
       "AIC: 1414.5\n",
       "\n",
       "Number of Fisher Scoring iterations: 5\n"
      ]
     },
     "metadata": {},
     "output_type": "display_data"
    }
   ],
   "source": [
    "model_bmi = glm(stroke ~ bmi, data=strokedata, family=binomial(link=\"logit\"))\n",
    "summary(model_bmi)"
   ]
  },
  {
   "cell_type": "markdown",
   "id": "4f9ba4da-ec8e-4391-8f90-05241f994be8",
   "metadata": {},
   "source": [
    "![nume_model_bmi](./images/nume_model_bmi.png)"
   ]
  },
  {
   "cell_type": "markdown",
   "id": "ca01220d-c455-46b7-bdc0-30c212833ec2",
   "metadata": {},
   "source": [
    "- bmi的數值對於預測中風沒有什麼資訊\n",
    "  - 可以看到$\\hat{\\beta}_{\\rm{bmi}}$非常接近0\n",
    "  - $\\hat{\\beta}_{\\rm{bmi}}$ 的z-test p-value很大\n",
    "- 下一個部份會利用Deviance 來決定是否要捨棄bmi這個解釋變數"
   ]
  },
  {
   "cell_type": "markdown",
   "id": "2de74d0f-e15b-48f3-a940-24e332087294",
   "metadata": {},
   "source": [
    "## Model Selection: with/without bmi\n",
    "- Full Model: $\\log{\\left(\\frac{P[\\rm{stroke}=1]}{P[\\rm{stroke}=0]}\\right)} = \\beta_0 + \\beta_{\\rm{age}}x_{\\rm{age}} + \\beta_{\\rm{glucose}}x_{\\rm{glucose}} + \\beta_{\\rm{bmi}}x_{\\rm{bmi}}$\n",
    "- Reduced Model: $\\log{\\left(\\frac{P[\\rm{stroke}=1]}{P[\\rm{stroke}=0]}\\right)} = \\beta_0 + \\beta_{\\rm{age}}x_{\\rm{age}} + \\beta_{\\rm{glucose}}x_{\\rm{glucose}}$"
   ]
  },
  {
   "cell_type": "code",
   "execution_count": 5,
   "id": "3f9eeace-08eb-4099-afa9-5f7f0fe007dd",
   "metadata": {},
   "outputs": [
    {
     "data": {
      "text/plain": [
       "\n",
       "Call:\n",
       "glm(formula = stroke ~ age + avg_glucose_level + bmi, family = binomial(link = \"logit\"), \n",
       "    data = strokedata)\n",
       "\n",
       "Deviance Residuals: \n",
       "    Min       1Q   Median       3Q      Max  \n",
       "-0.9252  -0.3444  -0.1970  -0.1050   3.2052  \n",
       "\n",
       "Coefficients:\n",
       "                   Estimate Std. Error z value Pr(>|z|)    \n",
       "(Intercept)       -8.158626   0.620082 -13.157  < 2e-16 ***\n",
       "age                0.073656   0.006365  11.572  < 2e-16 ***\n",
       "avg_glucose_level  0.005208   0.001350   3.858 0.000114 ***\n",
       "bmi                0.009182   0.012712   0.722 0.470102    \n",
       "---\n",
       "Signif. codes:  0 ‘***’ 0.001 ‘**’ 0.01 ‘*’ 0.05 ‘.’ 0.1 ‘ ’ 1\n",
       "\n",
       "(Dispersion parameter for binomial family taken to be 1)\n",
       "\n",
       "    Null deviance: 1411.0  on 3425  degrees of freedom\n",
       "Residual deviance: 1163.3  on 3422  degrees of freedom\n",
       "AIC: 1171.3\n",
       "\n",
       "Number of Fisher Scoring iterations: 7\n"
      ]
     },
     "metadata": {},
     "output_type": "display_data"
    }
   ],
   "source": [
    "model_full = glm(stroke ~ age + avg_glucose_level + bmi, data=strokedata, family=binomial(link=\"logit\"))\n",
    "summary(model_full)"
   ]
  },
  {
   "cell_type": "code",
   "execution_count": 6,
   "id": "8b9eecb9-2746-44e0-8c05-78551003ee79",
   "metadata": {},
   "outputs": [
    {
     "data": {
      "text/plain": [
       "\n",
       "Call:\n",
       "glm(formula = stroke ~ age + avg_glucose_level, family = binomial(link = \"logit\"), \n",
       "    data = strokedata)\n",
       "\n",
       "Deviance Residuals: \n",
       "    Min       1Q   Median       3Q      Max  \n",
       "-0.9514  -0.3432  -0.1975  -0.1068   3.1972  \n",
       "\n",
       "Coefficients:\n",
       "                   Estimate Std. Error z value Pr(>|z|)    \n",
       "(Intercept)       -7.845862   0.434271  -18.07  < 2e-16 ***\n",
       "age                0.072708   0.006176   11.77  < 2e-16 ***\n",
       "avg_glucose_level  0.005442   0.001311    4.15 3.33e-05 ***\n",
       "---\n",
       "Signif. codes:  0 ‘***’ 0.001 ‘**’ 0.01 ‘*’ 0.05 ‘.’ 0.1 ‘ ’ 1\n",
       "\n",
       "(Dispersion parameter for binomial family taken to be 1)\n",
       "\n",
       "    Null deviance: 1411.0  on 3425  degrees of freedom\n",
       "Residual deviance: 1163.8  on 3423  degrees of freedom\n",
       "AIC: 1169.8\n",
       "\n",
       "Number of Fisher Scoring iterations: 7\n"
      ]
     },
     "metadata": {},
     "output_type": "display_data"
    }
   ],
   "source": [
    "model_reduce = glm(stroke ~ age + avg_glucose_level, data=strokedata, family=binomial(link=\"logit\"))\n",
    "summary(model_reduce)"
   ]
  },
  {
   "cell_type": "markdown",
   "id": "75d9d6f2-ba16-4e03-8ca8-15a7f06e3840",
   "metadata": {},
   "source": [
    "### Likelihood-Ratio Test\n",
    "- Full Model與Reduced Model的差異可以轉換成 $H_0: \\beta_{\\rm{bmi}} = 0$"
   ]
  },
  {
   "cell_type": "code",
   "execution_count": 7,
   "id": "7fa65053-1343-4b2d-9ac0-1e37ab8452e8",
   "metadata": {},
   "outputs": [
    {
     "data": {
      "text/html": [
       "<table>\n",
       "<thead><tr><th scope=col>Resid. Df</th><th scope=col>Resid. Dev</th><th scope=col>Df</th><th scope=col>Deviance</th><th scope=col>Pr(&gt;Chi)</th></tr></thead>\n",
       "<tbody>\n",
       "\t<tr><td>3423     </td><td>1163.793 </td><td>NA       </td><td>       NA</td><td>       NA</td></tr>\n",
       "\t<tr><td>3422     </td><td>1163.279 </td><td> 1       </td><td>0.5142007</td><td>0.4733261</td></tr>\n",
       "</tbody>\n",
       "</table>\n"
      ],
      "text/latex": [
       "\\begin{tabular}{r|lllll}\n",
       " Resid. Df & Resid. Dev & Df & Deviance & Pr(>Chi)\\\\\n",
       "\\hline\n",
       "\t 3423      & 1163.793  & NA        &        NA &        NA\\\\\n",
       "\t 3422      & 1163.279  &  1        & 0.5142007 & 0.4733261\\\\\n",
       "\\end{tabular}\n"
      ],
      "text/markdown": [
       "\n",
       "| Resid. Df | Resid. Dev | Df | Deviance | Pr(>Chi) |\n",
       "|---|---|---|---|---|\n",
       "| 3423      | 1163.793  | NA        |        NA |        NA |\n",
       "| 3422      | 1163.279  |  1        | 0.5142007 | 0.4733261 |\n",
       "\n"
      ],
      "text/plain": [
       "  Resid. Df Resid. Dev Df Deviance  Pr(>Chi) \n",
       "1 3423      1163.793   NA        NA        NA\n",
       "2 3422      1163.279    1 0.5142007 0.4733261"
      ]
     },
     "metadata": {},
     "output_type": "display_data"
    }
   ],
   "source": [
    "anova(model_reduce, model_full, test=\"LRT\")"
   ]
  },
  {
   "cell_type": "markdown",
   "id": "95ae77fb-eaf1-420e-ac6d-e1d47400b720",
   "metadata": {},
   "source": [
    "- 根據Deviance的p-value=0.4733\n",
    "    - 不能拒絕 $H_0$，所以最終模型將會捨棄掉bmi的變數"
   ]
  },
  {
   "cell_type": "markdown",
   "id": "15cb59bc-2ac6-4da3-8b6a-6e5b41a89b75",
   "metadata": {},
   "source": [
    "### Final Selection: \n",
    "$\\log{\\left(\\frac{P[\\rm{stroke}=1]}{P[\\rm{stroke}=0]}\\right)} = \\beta_0 + \\beta_{\\rm{age}}x_{\\rm{age}} + \\beta_{\\rm{glucose}}x_{\\rm{glucose}}$"
   ]
  },
  {
   "cell_type": "markdown",
   "id": "dfb11411-2453-4420-b5c7-9f5dc6e38c69",
   "metadata": {},
   "source": [
    "## 數值型轉換成類別型\n",
    "- 為了在綜合型Model能做一個簡單的分類，我們希望能將數值型的age與glucose轉換成類別型"
   ]
  },
  {
   "cell_type": "markdown",
   "id": "89421b9c-dd17-43ec-9f8f-8da133d0fd2a",
   "metadata": {},
   "source": [
    "### Age"
   ]
  },
  {
   "cell_type": "markdown",
   "id": "40283c6e-237b-4aff-b1ec-f822d03b445d",
   "metadata": {},
   "source": [
    "#### 資料處理"
   ]
  },
  {
   "cell_type": "code",
   "execution_count": 8,
   "id": "9b43ade5-553b-42aa-9027-d91f7413ac2b",
   "metadata": {},
   "outputs": [
    {
     "data": {
      "text/html": [
       "<table>\n",
       "<thead><tr><th scope=col>age</th><th scope=col>hypertension</th><th scope=col>heart_disease</th><th scope=col>ever_married</th><th scope=col>work_type</th><th scope=col>avg_glucose_level</th><th scope=col>bmi</th><th scope=col>smoking_status</th><th scope=col>stroke</th><th scope=col>age_group</th></tr></thead>\n",
       "<tbody>\n",
       "\t<tr><td>67             </td><td>0              </td><td>1              </td><td>Yes            </td><td>Private        </td><td>228.69         </td><td>36.6           </td><td>formerly smoked</td><td>1              </td><td>60-69          </td></tr>\n",
       "\t<tr><td>80                                                     </td><td>0                                                      </td><td>1                                                      </td><td>Yes                                                    </td><td><span style=white-space:pre-wrap>Private      </span>  </td><td>105.92                                                 </td><td>32.5                                                   </td><td><span style=white-space:pre-wrap>never smoked   </span></td><td>1                                                      </td><td>&gt;=70                                                </td></tr>\n",
       "\t<tr><td>49             </td><td>0              </td><td>0              </td><td>Yes            </td><td>Private        </td><td>171.23         </td><td>34.4           </td><td>smokes         </td><td>1              </td><td>0-49           </td></tr>\n",
       "\t<tr><td>79                                                     </td><td>1                                                      </td><td>0                                                      </td><td>Yes                                                    </td><td>Self-employed                                          </td><td>174.12                                                 </td><td>24.0                                                   </td><td><span style=white-space:pre-wrap>never smoked   </span></td><td>1                                                      </td><td>&gt;=70                                                </td></tr>\n",
       "\t<tr><td>81                                                   </td><td>0                                                    </td><td>0                                                    </td><td>Yes                                                  </td><td><span style=white-space:pre-wrap>Private      </span></td><td>186.21                                               </td><td>29.0                                                 </td><td>formerly smoked                                      </td><td>1                                                    </td><td>&gt;=70                                              </td></tr>\n",
       "\t<tr><td>74                                                     </td><td>1                                                      </td><td>1                                                      </td><td>Yes                                                    </td><td><span style=white-space:pre-wrap>Private      </span>  </td><td> 70.09                                                 </td><td>27.4                                                   </td><td><span style=white-space:pre-wrap>never smoked   </span></td><td>1                                                      </td><td>&gt;=70                                                </td></tr>\n",
       "</tbody>\n",
       "</table>\n"
      ],
      "text/latex": [
       "\\begin{tabular}{r|llllllllll}\n",
       " age & hypertension & heart\\_disease & ever\\_married & work\\_type & avg\\_glucose\\_level & bmi & smoking\\_status & stroke & age\\_group\\\\\n",
       "\\hline\n",
       "\t 67              & 0               & 1               & Yes             & Private         & 228.69          & 36.6            & formerly smoked & 1               & 60-69          \\\\\n",
       "\t 80              & 0               & 1               & Yes             & Private         & 105.92          & 32.5            & never smoked    & 1               & >=70           \\\\\n",
       "\t 49              & 0               & 0               & Yes             & Private         & 171.23          & 34.4            & smokes          & 1               & 0-49           \\\\\n",
       "\t 79              & 1               & 0               & Yes             & Self-employed   & 174.12          & 24.0            & never smoked    & 1               & >=70           \\\\\n",
       "\t 81              & 0               & 0               & Yes             & Private         & 186.21          & 29.0            & formerly smoked & 1               & >=70           \\\\\n",
       "\t 74              & 1               & 1               & Yes             & Private         &  70.09          & 27.4            & never smoked    & 1               & >=70           \\\\\n",
       "\\end{tabular}\n"
      ],
      "text/markdown": [
       "\n",
       "| age | hypertension | heart_disease | ever_married | work_type | avg_glucose_level | bmi | smoking_status | stroke | age_group |\n",
       "|---|---|---|---|---|---|---|---|---|---|\n",
       "| 67              | 0               | 1               | Yes             | Private         | 228.69          | 36.6            | formerly smoked | 1               | 60-69           |\n",
       "| 80              | 0               | 1               | Yes             | Private         | 105.92          | 32.5            | never smoked    | 1               | >=70            |\n",
       "| 49              | 0               | 0               | Yes             | Private         | 171.23          | 34.4            | smokes          | 1               | 0-49            |\n",
       "| 79              | 1               | 0               | Yes             | Self-employed   | 174.12          | 24.0            | never smoked    | 1               | >=70            |\n",
       "| 81              | 0               | 0               | Yes             | Private         | 186.21          | 29.0            | formerly smoked | 1               | >=70            |\n",
       "| 74              | 1               | 1               | Yes             | Private         |  70.09          | 27.4            | never smoked    | 1               | >=70            |\n",
       "\n"
      ],
      "text/plain": [
       "  age hypertension heart_disease ever_married work_type     avg_glucose_level\n",
       "1 67  0            1             Yes          Private       228.69           \n",
       "2 80  0            1             Yes          Private       105.92           \n",
       "3 49  0            0             Yes          Private       171.23           \n",
       "4 79  1            0             Yes          Self-employed 174.12           \n",
       "5 81  0            0             Yes          Private       186.21           \n",
       "6 74  1            1             Yes          Private        70.09           \n",
       "  bmi  smoking_status  stroke age_group\n",
       "1 36.6 formerly smoked 1      60-69    \n",
       "2 32.5 never smoked    1      >=70     \n",
       "3 34.4 smokes          1      0-49     \n",
       "4 24.0 never smoked    1      >=70     \n",
       "5 29.0 formerly smoked 1      >=70     \n",
       "6 27.4 never smoked    1      >=70     "
      ]
     },
     "metadata": {},
     "output_type": "display_data"
    }
   ],
   "source": [
    "strokedata$age_group <- with(strokedata, ifelse(\n",
    "    age < 50, '0-49', ifelse(\n",
    "    age >= 50 & age < 60, '50-59', ifelse(\n",
    "    age >= 60 & age < 70, '60-69', '>=70'))))\n",
    "strokedata$age_group <- factor(strokedata$age_group, levels= c('0-49', '50-59', '60-69', '>=70'))\n",
    "head(strokedata)"
   ]
  },
  {
   "cell_type": "markdown",
   "id": "301e01bf-d5f2-49eb-b302-2a7e85ab0c1f",
   "metadata": {},
   "source": [
    "#### Model: \n",
    "$\\log{\\left(\\frac{P[\\rm{stroke}=1]}{P[\\rm{stroke}=0]}\\right)} = \\beta_0 + \\beta_{\\rm{50-59}}x_{\\rm{50-59}} + \\beta_{\\rm{60-69}}x_{\\rm{60-69}} + \\beta_{\\rm{age>=70}}x_{\\rm{age>=70}}$  \n",
    "- Baseline group:  0-49"
   ]
  },
  {
   "cell_type": "code",
   "execution_count": 9,
   "id": "e26d358a-a6c2-4315-96b4-adba896dc9bd",
   "metadata": {},
   "outputs": [
    {
     "data": {
      "text/plain": [
       "\n",
       "Call:\n",
       "glm(formula = stroke ~ age_group, family = binomial(link = \"logit\"), \n",
       "    data = strokedata)\n",
       "\n",
       "Deviance Residuals: \n",
       "    Min       1Q   Median       3Q      Max  \n",
       "-0.6114  -0.3870  -0.1327  -0.1327   3.0781  \n",
       "\n",
       "Coefficients:\n",
       "               Estimate Std. Error z value Pr(>|z|)    \n",
       "(Intercept)     -4.7286     0.2593 -18.234  < 2e-16 ***\n",
       "age_group50-59   1.7841     0.3149   5.666 1.46e-08 ***\n",
       "age_group60-69   2.1747     0.3131   6.945 3.78e-12 ***\n",
       "age_group>=70    3.1463     0.2823  11.146  < 2e-16 ***\n",
       "---\n",
       "Signif. codes:  0 ‘***’ 0.001 ‘**’ 0.01 ‘*’ 0.05 ‘.’ 0.1 ‘ ’ 1\n",
       "\n",
       "(Dispersion parameter for binomial family taken to be 1)\n",
       "\n",
       "    Null deviance: 1411.0  on 3425  degrees of freedom\n",
       "Residual deviance: 1205.1  on 3422  degrees of freedom\n",
       "AIC: 1213.1\n",
       "\n",
       "Number of Fisher Scoring iterations: 7\n"
      ]
     },
     "metadata": {},
     "output_type": "display_data"
    }
   ],
   "source": [
    "model_age_cate = glm(stroke ~ age_group, data=strokedata, family=binomial(link=\"logit\"))\n",
    "summary(model_age_cate)"
   ]
  },
  {
   "cell_type": "markdown",
   "id": "5b58b3f1-59bd-4332-b9eb-01f855f27cbf",
   "metadata": {},
   "source": [
    "#### 比較:數值型與類別型\n",
    "![age_nume_cate_model](./images/age_nume_cate_model.bgwhite.png)"
   ]
  },
  {
   "cell_type": "markdown",
   "id": "8fc766c7-9e96-4509-9e06-68f9cc002b55",
   "metadata": {},
   "source": [
    "- 可以看出，Numerical還是表現的比較好"
   ]
  },
  {
   "cell_type": "markdown",
   "id": "19987d63-26df-4d37-9301-9232fb6085b9",
   "metadata": {},
   "source": [
    "### Average Glucose Level"
   ]
  },
  {
   "cell_type": "markdown",
   "id": "4e93406b-cc64-4fc3-820f-f9d107f3d690",
   "metadata": {},
   "source": [
    "#### 資料處理"
   ]
  },
  {
   "cell_type": "code",
   "execution_count": 10,
   "id": "f1da3c78-4e8d-46f3-8378-5810f82bf041",
   "metadata": {},
   "outputs": [
    {
     "data": {
      "text/html": [
       "<table>\n",
       "<thead><tr><th scope=col>age</th><th scope=col>hypertension</th><th scope=col>heart_disease</th><th scope=col>ever_married</th><th scope=col>work_type</th><th scope=col>avg_glucose_level</th><th scope=col>bmi</th><th scope=col>smoking_status</th><th scope=col>stroke</th><th scope=col>age_group</th><th scope=col>glc_group</th></tr></thead>\n",
       "<tbody>\n",
       "\t<tr><td>67                                                   </td><td>0                                                    </td><td>1                                                    </td><td>Yes                                                  </td><td><span style=white-space:pre-wrap>Private      </span></td><td>228.69                                               </td><td>36.6                                                 </td><td>formerly smoked                                      </td><td>1                                                    </td><td>60-69                                                </td><td>&gt;=160                                             </td></tr>\n",
       "\t<tr><td>80                                                     </td><td>0                                                      </td><td>1                                                      </td><td>Yes                                                    </td><td><span style=white-space:pre-wrap>Private      </span>  </td><td>105.92                                                 </td><td>32.5                                                   </td><td><span style=white-space:pre-wrap>never smoked   </span></td><td>1                                                      </td><td>&gt;=70                                                </td><td>&lt;160                                                </td></tr>\n",
       "\t<tr><td>49                                                     </td><td>0                                                      </td><td>0                                                      </td><td>Yes                                                    </td><td><span style=white-space:pre-wrap>Private      </span>  </td><td>171.23                                                 </td><td>34.4                                                   </td><td><span style=white-space:pre-wrap>smokes         </span></td><td>1                                                      </td><td>0-49                                                   </td><td>&gt;=160                                               </td></tr>\n",
       "\t<tr><td>79                                                     </td><td>1                                                      </td><td>0                                                      </td><td>Yes                                                    </td><td>Self-employed                                          </td><td>174.12                                                 </td><td>24.0                                                   </td><td><span style=white-space:pre-wrap>never smoked   </span></td><td>1                                                      </td><td>&gt;=70                                                </td><td>&gt;=160                                               </td></tr>\n",
       "\t<tr><td>81                                                   </td><td>0                                                    </td><td>0                                                    </td><td>Yes                                                  </td><td><span style=white-space:pre-wrap>Private      </span></td><td>186.21                                               </td><td>29.0                                                 </td><td>formerly smoked                                      </td><td>1                                                    </td><td>&gt;=70                                              </td><td>&gt;=160                                             </td></tr>\n",
       "\t<tr><td>74                                                     </td><td>1                                                      </td><td>1                                                      </td><td>Yes                                                    </td><td><span style=white-space:pre-wrap>Private      </span>  </td><td> 70.09                                                 </td><td>27.4                                                   </td><td><span style=white-space:pre-wrap>never smoked   </span></td><td>1                                                      </td><td>&gt;=70                                                </td><td>&lt;160                                                </td></tr>\n",
       "</tbody>\n",
       "</table>\n"
      ],
      "text/latex": [
       "\\begin{tabular}{r|lllllllllll}\n",
       " age & hypertension & heart\\_disease & ever\\_married & work\\_type & avg\\_glucose\\_level & bmi & smoking\\_status & stroke & age\\_group & glc\\_group\\\\\n",
       "\\hline\n",
       "\t 67              & 0               & 1               & Yes             & Private         & 228.69          & 36.6            & formerly smoked & 1               & 60-69           & >=160          \\\\\n",
       "\t 80              & 0               & 1               & Yes             & Private         & 105.92          & 32.5            & never smoked    & 1               & >=70            & <160           \\\\\n",
       "\t 49              & 0               & 0               & Yes             & Private         & 171.23          & 34.4            & smokes          & 1               & 0-49            & >=160          \\\\\n",
       "\t 79              & 1               & 0               & Yes             & Self-employed   & 174.12          & 24.0            & never smoked    & 1               & >=70            & >=160          \\\\\n",
       "\t 81              & 0               & 0               & Yes             & Private         & 186.21          & 29.0            & formerly smoked & 1               & >=70            & >=160          \\\\\n",
       "\t 74              & 1               & 1               & Yes             & Private         &  70.09          & 27.4            & never smoked    & 1               & >=70            & <160           \\\\\n",
       "\\end{tabular}\n"
      ],
      "text/markdown": [
       "\n",
       "| age | hypertension | heart_disease | ever_married | work_type | avg_glucose_level | bmi | smoking_status | stroke | age_group | glc_group |\n",
       "|---|---|---|---|---|---|---|---|---|---|---|\n",
       "| 67              | 0               | 1               | Yes             | Private         | 228.69          | 36.6            | formerly smoked | 1               | 60-69           | >=160           |\n",
       "| 80              | 0               | 1               | Yes             | Private         | 105.92          | 32.5            | never smoked    | 1               | >=70            | <160            |\n",
       "| 49              | 0               | 0               | Yes             | Private         | 171.23          | 34.4            | smokes          | 1               | 0-49            | >=160           |\n",
       "| 79              | 1               | 0               | Yes             | Self-employed   | 174.12          | 24.0            | never smoked    | 1               | >=70            | >=160           |\n",
       "| 81              | 0               | 0               | Yes             | Private         | 186.21          | 29.0            | formerly smoked | 1               | >=70            | >=160           |\n",
       "| 74              | 1               | 1               | Yes             | Private         |  70.09          | 27.4            | never smoked    | 1               | >=70            | <160            |\n",
       "\n"
      ],
      "text/plain": [
       "  age hypertension heart_disease ever_married work_type     avg_glucose_level\n",
       "1 67  0            1             Yes          Private       228.69           \n",
       "2 80  0            1             Yes          Private       105.92           \n",
       "3 49  0            0             Yes          Private       171.23           \n",
       "4 79  1            0             Yes          Self-employed 174.12           \n",
       "5 81  0            0             Yes          Private       186.21           \n",
       "6 74  1            1             Yes          Private        70.09           \n",
       "  bmi  smoking_status  stroke age_group glc_group\n",
       "1 36.6 formerly smoked 1      60-69     >=160    \n",
       "2 32.5 never smoked    1      >=70      <160     \n",
       "3 34.4 smokes          1      0-49      >=160    \n",
       "4 24.0 never smoked    1      >=70      >=160    \n",
       "5 29.0 formerly smoked 1      >=70      >=160    \n",
       "6 27.4 never smoked    1      >=70      <160     "
      ]
     },
     "metadata": {},
     "output_type": "display_data"
    }
   ],
   "source": [
    "strokedata$glc_group <- with(strokedata, ifelse(avg_glucose_level < 160, '<160', '>=160'))\n",
    "strokedata$glc_group <- factor(strokedata$glc_group, levels= c('<160', '>=160'))\n",
    "head(strokedata)"
   ]
  },
  {
   "cell_type": "markdown",
   "id": "b55ae347-1d1b-4471-9744-435508ea21b0",
   "metadata": {},
   "source": [
    "#### Model: \n",
    "$\\log{\\left(\\frac{P[\\rm{stroke}=1]}{P[\\rm{stroke}=0]}\\right)} = \\beta_0 + \\beta_{\\rm{glc>=160}}x_{\\rm{glc>=160}}$\n",
    "- Baseline group: glc<160"
   ]
  },
  {
   "cell_type": "code",
   "execution_count": 11,
   "id": "74e34b35-a42c-4705-8799-11939403e27c",
   "metadata": {},
   "outputs": [
    {
     "data": {
      "text/plain": [
       "\n",
       "Call:\n",
       "glm(formula = stroke ~ glc_group, family = binomial(link = \"logit\"), \n",
       "    data = strokedata)\n",
       "\n",
       "Deviance Residuals: \n",
       "    Min       1Q   Median       3Q      Max  \n",
       "-0.5344  -0.2799  -0.2799  -0.2799   2.5531  \n",
       "\n",
       "Coefficients:\n",
       "               Estimate Std. Error z value Pr(>|z|)    \n",
       "(Intercept)    -3.21995    0.09636 -33.416   <2e-16 ***\n",
       "glc_group>=160  1.34588    0.16201   8.307   <2e-16 ***\n",
       "---\n",
       "Signif. codes:  0 ‘***’ 0.001 ‘**’ 0.01 ‘*’ 0.05 ‘.’ 0.1 ‘ ’ 1\n",
       "\n",
       "(Dispersion parameter for binomial family taken to be 1)\n",
       "\n",
       "    Null deviance: 1411.0  on 3425  degrees of freedom\n",
       "Residual deviance: 1350.5  on 3424  degrees of freedom\n",
       "AIC: 1354.5\n",
       "\n",
       "Number of Fisher Scoring iterations: 6\n"
      ]
     },
     "metadata": {},
     "output_type": "display_data"
    }
   ],
   "source": [
    "model_glc_cate = glm(stroke ~ glc_group, data=strokedata, family=binomial(link=\"logit\"))\n",
    "summary(model_glc_cate)"
   ]
  },
  {
   "cell_type": "markdown",
   "id": "a1361b8d-9f86-47e9-996e-278fb5d7db42",
   "metadata": {},
   "source": [
    "#### 比較:數值型與類別型\n",
    "![glucose_nume_cate_model](./images/glucose_nume_cate_model.bgwhite.png)"
   ]
  },
  {
   "cell_type": "markdown",
   "id": "c109a61b-9c0f-4014-8521-6e0474359929",
   "metadata": {},
   "source": [
    "- 意外的，分類的avg-glucose-level會比數值型的好"
   ]
  },
  {
   "cell_type": "markdown",
   "id": "4cc6ba30-7c76-4971-9b47-dcd9043e1754",
   "metadata": {},
   "source": [
    "### Final Selection"
   ]
  },
  {
   "cell_type": "markdown",
   "id": "a2335cbf-cf36-4b4e-b92b-4d8168a72ed2",
   "metadata": {},
   "source": [
    "$\\log{\\left(\\frac{P[\\rm{stroke}=1]}{P[\\rm{stroke}=0]}\\right)} = \\beta_0 + \\beta_{\\rm{50-59}}x_{\\rm{50-59}} + \\beta_{\\rm{60-69}}x_{\\rm{60-69}} + \\beta_{\\rm{age>=70}}x_{\\rm{age>=70}} + \\beta_{\\rm{glc>=160}}x_{\\rm{glc>=160}}$"
   ]
  },
  {
   "cell_type": "code",
   "execution_count": 12,
   "id": "f8e7e622-8233-4ba6-9a59-8abece692177",
   "metadata": {},
   "outputs": [
    {
     "data": {
      "text/plain": [
       "\n",
       "Call:\n",
       "glm(formula = stroke ~ age_group + glc_group, family = binomial(link = \"logit\"), \n",
       "    data = strokedata)\n",
       "\n",
       "Deviance Residuals: \n",
       "    Min       1Q   Median       3Q      Max  \n",
       "-0.7608  -0.3466  -0.1283  -0.1283   3.0998  \n",
       "\n",
       "Coefficients:\n",
       "               Estimate Std. Error z value Pr(>|z|)    \n",
       "(Intercept)     -4.7961     0.2602 -18.430  < 2e-16 ***\n",
       "age_group50-59   1.6730     0.3167   5.283 1.27e-07 ***\n",
       "age_group60-69   2.0137     0.3165   6.363 1.98e-10 ***\n",
       "age_group>=70    2.9499     0.2868  10.286  < 2e-16 ***\n",
       "glc_group>=160   0.7546     0.1700   4.439 9.02e-06 ***\n",
       "---\n",
       "Signif. codes:  0 ‘***’ 0.001 ‘**’ 0.01 ‘*’ 0.05 ‘.’ 0.1 ‘ ’ 1\n",
       "\n",
       "(Dispersion parameter for binomial family taken to be 1)\n",
       "\n",
       "    Null deviance: 1411.0  on 3425  degrees of freedom\n",
       "Residual deviance: 1186.4  on 3421  degrees of freedom\n",
       "AIC: 1196.4\n",
       "\n",
       "Number of Fisher Scoring iterations: 7\n"
      ]
     },
     "metadata": {},
     "output_type": "display_data"
    }
   ],
   "source": [
    "model_cate_final = glm(stroke ~ age_group + glc_group, data=strokedata, family=binomial(link=\"logit\"))\n",
    "summary(model_cate_final)"
   ]
  },
  {
   "cell_type": "markdown",
   "id": "03af88d1-37e3-45e0-a1b4-18ff83331dce",
   "metadata": {},
   "source": [
    "- 相比於純數值型的final selection(AIC=1169.8)，還是比較不好"
   ]
  }
 ],
 "metadata": {
  "kernelspec": {
   "display_name": "R",
   "language": "R",
   "name": "ir"
  },
  "language_info": {
   "codemirror_mode": "r",
   "file_extension": ".r",
   "mimetype": "text/x-r-source",
   "name": "R",
   "pygments_lexer": "r",
   "version": "3.6.1"
  }
 },
 "nbformat": 4,
 "nbformat_minor": 5
}