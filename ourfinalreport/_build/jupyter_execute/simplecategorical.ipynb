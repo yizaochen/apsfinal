{
 "cells": [
  {
   "cell_type": "markdown",
   "id": "2e9733b9-0734-43fe-b127-15b9ceb4b3d7",
   "metadata": {},
   "source": [
    "Chapter 3: 列聯表分析1-簡單類別型\n",
    "=======================\n",
    "列聯表分析的第一部份，會針對五個簡單類別變數做Two-by-two table的分析。簡單類別型變數只有兩個值，例如: 有高血壓就是1，沒高血壓就是0，也因此Two-by-two table跟Odds Ratio適合分析這種變數與中風的關係。"
   ]
  },
  {
   "cell_type": "markdown",
   "id": "43ef46a9-48ae-48af-8de4-53d5866616fd",
   "metadata": {},
   "source": [
    "## A. 中風與性別\n",
    "\n",
    "### 性別的分佈與比例\n",
    "```{image} https://i.imgur.com/VOikmMR.png\n",
    ":alt: gender\n",
    ":class: bg-primary mb-1\n",
    ":width: 800px\n",
    ":align: center\n",
    "```\n",
    "- <span style=\"color:blue\">在這筆資料中，女生佔了61%，男生佔了39%</span>"
   ]
  },
  {
   "cell_type": "markdown",
   "id": "dc229264-5090-4634-bae7-3ce8be32673b",
   "metadata": {},
   "source": [
    "### Two-by-two table\n",
    "```{image} ./images/twobytwo_table_gender.png\n",
    ":alt: twobytwo_table_gender\n",
    ":class: bg-primary mb-1\n",
    ":width: 800px\n",
    ":align: center\n",
    "```"
   ]
  },
  {
   "cell_type": "markdown",
   "id": "af4f7b5e-6c1d-4ac7-bc7a-992cf4339e78",
   "metadata": {},
   "source": [
    "### Odds Ratio:\n",
    "   - $\\hat{\\theta}=1.119$\n",
    "   - 95% Confidence Interval of $\\log{(\\hat{\\theta})}=(-0.192, 0.417)$\n",
    "   - <span style=\"color:blue\">上面的信賴區間包含0，表示對於性別與中風，未有證據支持具有相關性</span>\n",
    "   - <span style=\"color:blue\">雖然相關沒有統計顯著，但由上方的Bar圖，可以知道在這組資料中，如果已知是男生，那中風的機率是稍微高一點的</span>"
   ]
  },
  {
   "cell_type": "markdown",
   "id": "0d527682-89bc-48cf-96e7-6e70a1197eed",
   "metadata": {},
   "source": [
    "## B. 中風與居住環境\n",
    "\n",
    "### 居住環境的分佈與比例\n",
    "```{image} https://i.imgur.com/3UNDxmf.png\n",
    ":alt: residtype\n",
    ":class: bg-primary mb-1\n",
    ":width: 800px\n",
    ":align: center\n",
    "```\n",
    "- <span style=\"color:blue\">在這筆資料中，鄉下與城市的人們大約各佔一半，鄉下佔了49%，城市佔了51%</span>"
   ]
  },
  {
   "cell_type": "markdown",
   "id": "c0ecf73e-da40-4945-9063-1821fb8a5358",
   "metadata": {},
   "source": [
    "### Two-by-two table\n",
    "```{image} ./images/twobytwo_table_residence_type.png\n",
    ":alt: twobytwo_table_residence_type\n",
    ":class: bg-primary mb-1\n",
    ":width: 800px\n",
    ":align: center\n",
    "```"
   ]
  },
  {
   "cell_type": "markdown",
   "id": "4b94cbbb-461a-441f-bcc9-84fa43e1f278",
   "metadata": {},
   "source": [
    "### Odds Ratio:\n",
    "   - $\\hat{\\theta}=0.948$\n",
    "   - 95% Confidence Interval of $\\log{(\\hat{\\theta})}=(-0.354, 0.247)$\n",
    "   - <span style=\"color:blue\">95\\%的信賴區間包含0，表示住在城市與鄉下與中風並無相關性</span>\n",
    "   - <span style=\"color:blue\">由上方的Bar圖的條件機率，也顯示住在城市與鄉下得到中風的機率是類似的</span>"
   ]
  },
  {
   "cell_type": "markdown",
   "id": "e2c714b5-c81c-4627-ac29-c8da7379cc61",
   "metadata": {},
   "source": [
    "## C. 中風與高血壓\n",
    "\n",
    "### 高血壓的分佈與比例\n",
    "```{image} https://i.imgur.com/V2ls7hO.png\n",
    ":alt: hypertension\n",
    ":class: bg-primary mb-1\n",
    ":width: 800px\n",
    ":align: center\n",
    "```\n",
    "- <span style=\"color:blue\">在這筆資料中，有高血壓的人佔了12%，沒高血壓的人佔了88%</span>"
   ]
  },
  {
   "cell_type": "markdown",
   "id": "c9047eed-a831-4536-87f1-15335b05b757",
   "metadata": {},
   "source": [
    "### Two-by-two table\n",
    "```{image} ./images/twobytwo_table_hypertension.png\n",
    ":alt: residtype\n",
    ":class: bg-primary mb-1\n",
    ":width: 800px\n",
    ":align: center\n",
    "```\n",
    "\n",
    "### Odds Ratio:\n",
    "   - $\\hat{\\theta}=3.821$\n",
    "   - 95% Confidence Interval of $\\log{(\\hat{\\theta})}=(1.007, 1.673)$\n",
    "   - 95%的信賴區間不包含0，表示 $\\log{(\\hat{\\theta})}$ 與0有顯著差異\n",
    "   - <span style=\"color:blue\">表示中風與高血壓是顯著相關的</span>\n",
    "   - <span style=\"color:blue\">由上方Bar圖，在高血壓患者中，中風的機率是0.14。然而，在非高血壓的人中，中風的機率是0.04。可以知道，有高血壓的人比沒有高血壓的人容易中風。</span>\n",
    "   \n",
    "### Chi-square:\n",
    "   - $\\chi^2$ = 81.605, df = 1, p-value < 2.2e-16\n",
    "\n",
    "- 高血壓與中風的在本檢定中顯示具有高度相關性，如同odds ratio所顯示，進一步分析殘差了解其分布：\n",
    "```\n",
    ">round(result_StrokeHyper$residuals, 3)\n",
    "```\n",
    "\n",
    "|            | hypertension | Normal |\n",
    "| ---------- | ------------ | ------ |\n",
    "| Stroke     | 8.472        | -2.784 |\n",
    "| Non-stroke | -1.917       | 0.630  | \n",
    "\n",
    "- <span style=\"color:blue\"> 高血壓與中風的發生有高度相關性，殘差顯示血壓正常者與高血壓者在中風條件下有最大的差異</span>"
   ]
  },
  {
   "cell_type": "markdown",
   "id": "0cac2547-66ee-4cd3-88ea-b07ca24187c0",
   "metadata": {},
   "source": [
    "## D. 中風與心臟病\n",
    "### 心臟病的分佈與比例\n",
    "```{image} https://i.imgur.com/IMe8y6F.png\n",
    ":alt: heartdisease\n",
    ":class: bg-primary mb-1\n",
    ":width: 800px\n",
    ":align: center\n",
    "```\n",
    "- <span style=\"color:blue\">在這筆資料中，有心臟病的人佔了6%，沒心臟病的人佔了94%</span>"
   ]
  },
  {
   "cell_type": "markdown",
   "id": "2378ccf9-8f55-4762-a58b-223642eb9871",
   "metadata": {},
   "source": [
    "### Two-by-two table\n",
    "```{image} ./images/twobytwo_table_heartDisease.png\n",
    ":alt: heartDisease\n",
    ":class: bg-primary mb-1\n",
    ":width: 800px\n",
    ":align: center\n",
    "```\n",
    "\n",
    "### Odds Ratio:\n",
    "   - $\\hat{\\theta}=4.522$\n",
    "   - 95% Confidence Interval of $\\log{(\\hat{\\theta})}=(1.112, 1.905)$\n",
    "   - 95%的信賴區間不包含0，表示 $\\log{(\\hat{\\theta})}$ 與0有顯著差異。\n",
    "   - <span style=\"color:blue\">表示中風與心臟病是顯著相關的</span>\n",
    "   - <span style=\"color:blue\">由上方Bar圖，在心臟病患者中，中風的機率是0.175。然而，在非心臟病患者中，中風的機率是0.045。可以知道，有心臟病的人比沒有心臟病的人容易中風。</span>\n",
    "   \n",
    "### Chi-square:\n",
    "- $\\chi^2$ = 90.26, df = 1, p-value < 2.2e-16  \n",
    "- 心臟病與中風的在本檢定中顯示具有高度相關性，如同odds ratio所顯示，進一步分析殘差瞭解其分布：\n",
    "\n",
    "```\n",
    ">round(result_StrokeHD$residuals, 3)\n",
    "```\n",
    "\n",
    "|            | heart D | Normal |\n",
    "| ---------- | ------- | ------ |\n",
    "| Stroke     | 9.149   | -2.186 |\n",
    "| Non-stroke | -2.071  | 0.495  | \n",
    "\n",
    "<span style=\"color:blue\">心臟病與中風的發生有高度相關性，殘差與$\\chi^2$: 顯示心臟病患者與中風的關聯性甚至比高血壓之於中風要高。</span>"
   ]
  },
  {
   "cell_type": "markdown",
   "id": "e6cfb159-3281-4714-95a2-8d94b4d16c6b",
   "metadata": {},
   "source": [
    "## E. 中風與婚姻\n",
    "### 結婚的分佈與比例\n",
    "```{image} https://i.imgur.com/Pua54Dk.png\n",
    ":alt: evermarry\n",
    ":class: bg-primary mb-1\n",
    ":width: 800px\n",
    ":align: center\n",
    "```\n",
    "- <span style=\"color:blue\">在這筆資料中，有結婚的人佔了76%，未婚的人佔了24%</span>"
   ]
  },
  {
   "cell_type": "markdown",
   "id": "30561a0a-741f-426c-bf79-82e8ab3354dc",
   "metadata": {},
   "source": [
    "### Two-by-two table\n",
    "```{image} ./images/twobytwo_table_marry.png\n",
    ":alt: heartDisease\n",
    ":class: bg-primary mb-1\n",
    ":width: 800px\n",
    ":align: center\n",
    "```\n",
    "\n",
    "### Odds Ratio:\n",
    "   - $\\hat{\\theta}=2.644$\n",
    "   - 95% Confidence Interval of $\\log{(\\hat{\\theta})}=(0.501, 1.444)$\n",
    "   - 95%的信賴區間不包含0，表示 $\\log{(\\hat{\\theta})}$ 與0有顯著差異。\n",
    "   - <span style=\"color:blue\">表示中風與婚姻狀態是顯著相關的</span>\n",
    "   - <span style=\"color:blue\">我們一開始認為婚姻不應該跟中風有關聯，上方Bar圖告訴我們有結過婚的人比較容易中風</span>\n",
    "   - <span style=\"color:blue\">在後續的分析，我們會發現婚姻帶有年齡的資訊。換句話說，婚姻與中風關聯背後的Confounding factor是年齡</span>\n",
    "   \n",
    "### Chi-square:\n",
    "- $\\chi^2$ = 21.4, df = 1, p-value = 3.728e-06  \n",
    "- 婚姻經驗與中風的在本檢定中顯示具有相關性，如同odds ratio所顯示，進一步分析殘差瞭解其分布：\n",
    "\n",
    "```\n",
    "round(result_StrokeMarri$residuals, 3)\n",
    "```\n",
    "\n",
    "|            | Married | NevMar |\n",
    "| ---------- | ------- | ------ |\n",
    "| Stroke     | 2.201   | -4.004 |\n",
    "| Non-stroke | -0.539  | 0.980  |\n",
    "\n",
    "- <span style=\"color:blue\">發現未曾有婚姻經驗者，較不容易中風</span>"
   ]
  },
  {
   "cell_type": "markdown",
   "id": "a1db69f9-62e1-46b7-9ee9-79f6677f1f50",
   "metadata": {},
   "source": [
    "## 綜合比較\n",
    "```{image} ./images/oddsratio_bar.png\n",
    ":alt: oddsratio_bar\n",
    ":class: bg-primary mb-1\n",
    ":width: 400px\n",
    ":align: center\n",
    "```\n",
    "- <span style=\"color:blue\"> 我們把這五個簡單變數的Odds Ratio 畫在一起做比較，如上圖。</span>\n",
    "- <span style=\"color:blue\"> 與中風不相關的變數: 性別與居住地</span>\n",
    "- <span style=\"color:blue\"> 與中風相關的三個變數: 婚姻、高血壓、心臟病 </span>\n",
    "- <span style=\"color:blue\"> 婚姻與中風相關是比較意外的結果，下面會做年齡與婚姻相關的分析，就可以知道婚姻是帶有年齡的資訊的。</span>\n",
    "<p style=\"page-break-before: always\">"
   ]
  },
  {
   "cell_type": "markdown",
   "id": "d7a2e336-4405-46d3-a49b-1f07b10c8bc9",
   "metadata": {},
   "source": [
    "<p style=\"page-break-before: always\">"
   ]
  }
 ],
 "metadata": {
  "kernelspec": {
   "display_name": "Python 3",
   "language": "python",
   "name": "python3"
  },
  "language_info": {
   "codemirror_mode": {
    "name": "ipython",
    "version": 3
   },
   "file_extension": ".py",
   "mimetype": "text/x-python",
   "name": "python",
   "nbconvert_exporter": "python",
   "pygments_lexer": "ipython3",
   "version": "3.8.8"
  }
 },
 "nbformat": 4,
 "nbformat_minor": 5
}