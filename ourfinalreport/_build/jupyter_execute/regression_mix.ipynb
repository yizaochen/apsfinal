{
 "cells": [
  {
   "cell_type": "markdown",
   "id": "367fa5b2-5867-4859-a29f-15890cc5c494",
   "metadata": {},
   "source": [
    "# 迴歸分析: 綜合模型"
   ]
  },
  {
   "cell_type": "markdown",
   "id": "d202b516-4e81-4ea8-84a0-0e8a15cdd889",
   "metadata": {},
   "source": [
    "## 讀取與清理資料\n",
    "- 資料清理\n",
    "   - BMI為Null\n",
    "   - Smoking status為unknown"
   ]
  },
  {
   "cell_type": "code",
   "execution_count": 1,
   "id": "8b130533-6f7f-438e-982b-bdb4eeafe209",
   "metadata": {},
   "outputs": [
    {
     "data": {
      "text/html": [
       "<table>\n",
       "<thead><tr><th scope=col>age</th><th scope=col>hypertension</th><th scope=col>heart_disease</th><th scope=col>ever_married</th><th scope=col>work_type</th><th scope=col>avg_glucose_level</th><th scope=col>bmi</th><th scope=col>smoking_status</th><th scope=col>stroke</th></tr></thead>\n",
       "<tbody>\n",
       "\t<tr><td>67             </td><td>0              </td><td>1              </td><td>Yes            </td><td>Private        </td><td>228.69         </td><td>36.6           </td><td>formerly smoked</td><td>1              </td></tr>\n",
       "\t<tr><td>80             </td><td>0              </td><td>1              </td><td>Yes            </td><td>Private        </td><td>105.92         </td><td>32.5           </td><td>never smoked   </td><td>1              </td></tr>\n",
       "\t<tr><td>49             </td><td>0              </td><td>0              </td><td>Yes            </td><td>Private        </td><td>171.23         </td><td>34.4           </td><td>smokes         </td><td>1              </td></tr>\n",
       "\t<tr><td>79             </td><td>1              </td><td>0              </td><td>Yes            </td><td>Self-employed  </td><td>174.12         </td><td>24.0           </td><td>never smoked   </td><td>1              </td></tr>\n",
       "\t<tr><td>81             </td><td>0              </td><td>0              </td><td>Yes            </td><td>Private        </td><td>186.21         </td><td>29.0           </td><td>formerly smoked</td><td>1              </td></tr>\n",
       "\t<tr><td>74             </td><td>1              </td><td>1              </td><td>Yes            </td><td>Private        </td><td> 70.09         </td><td>27.4           </td><td>never smoked   </td><td>1              </td></tr>\n",
       "</tbody>\n",
       "</table>\n"
      ],
      "text/latex": [
       "\\begin{tabular}{r|lllllllll}\n",
       " age & hypertension & heart\\_disease & ever\\_married & work\\_type & avg\\_glucose\\_level & bmi & smoking\\_status & stroke\\\\\n",
       "\\hline\n",
       "\t 67              & 0               & 1               & Yes             & Private         & 228.69          & 36.6            & formerly smoked & 1              \\\\\n",
       "\t 80              & 0               & 1               & Yes             & Private         & 105.92          & 32.5            & never smoked    & 1              \\\\\n",
       "\t 49              & 0               & 0               & Yes             & Private         & 171.23          & 34.4            & smokes          & 1              \\\\\n",
       "\t 79              & 1               & 0               & Yes             & Self-employed   & 174.12          & 24.0            & never smoked    & 1              \\\\\n",
       "\t 81              & 0               & 0               & Yes             & Private         & 186.21          & 29.0            & formerly smoked & 1              \\\\\n",
       "\t 74              & 1               & 1               & Yes             & Private         &  70.09          & 27.4            & never smoked    & 1              \\\\\n",
       "\\end{tabular}\n"
      ],
      "text/markdown": [
       "\n",
       "| age | hypertension | heart_disease | ever_married | work_type | avg_glucose_level | bmi | smoking_status | stroke |\n",
       "|---|---|---|---|---|---|---|---|---|\n",
       "| 67              | 0               | 1               | Yes             | Private         | 228.69          | 36.6            | formerly smoked | 1               |\n",
       "| 80              | 0               | 1               | Yes             | Private         | 105.92          | 32.5            | never smoked    | 1               |\n",
       "| 49              | 0               | 0               | Yes             | Private         | 171.23          | 34.4            | smokes          | 1               |\n",
       "| 79              | 1               | 0               | Yes             | Self-employed   | 174.12          | 24.0            | never smoked    | 1               |\n",
       "| 81              | 0               | 0               | Yes             | Private         | 186.21          | 29.0            | formerly smoked | 1               |\n",
       "| 74              | 1               | 1               | Yes             | Private         |  70.09          | 27.4            | never smoked    | 1               |\n",
       "\n"
      ],
      "text/plain": [
       "  age hypertension heart_disease ever_married work_type     avg_glucose_level\n",
       "1 67  0            1             Yes          Private       228.69           \n",
       "2 80  0            1             Yes          Private       105.92           \n",
       "3 49  0            0             Yes          Private       171.23           \n",
       "4 79  1            0             Yes          Self-employed 174.12           \n",
       "5 81  0            0             Yes          Private       186.21           \n",
       "6 74  1            1             Yes          Private        70.09           \n",
       "  bmi  smoking_status  stroke\n",
       "1 36.6 formerly smoked 1     \n",
       "2 32.5 never smoked    1     \n",
       "3 34.4 smokes          1     \n",
       "4 24.0 never smoked    1     \n",
       "5 29.0 formerly smoked 1     \n",
       "6 27.4 never smoked    1     "
      ]
     },
     "metadata": {},
     "output_type": "display_data"
    }
   ],
   "source": [
    "strokedata <- read.csv(file = '../data/healthcare-dataset-stroke-data-cleanbmi.csv')\n",
    "head(strokedata)"
   ]
  },
  {
   "cell_type": "markdown",
   "id": "077ace2a-8702-4c9e-a2be-7e5b354f20c7",
   "metadata": {},
   "source": [
    "## Model 1: Categorical + Numerical"
   ]
  },
  {
   "cell_type": "markdown",
   "id": "b2b3b56d-b01d-41ca-8017-f2bbe1a004df",
   "metadata": {},
   "source": [
    "### Full Model\n",
    "$\\log{\\left(\\frac{P[\\rm{stroke}=1]}{P[\\rm{stroke}=0]}\\right)} = \\beta_0 + \\beta_{\\rm{hypert}}x_{\\rm{hypert}}+ \\beta_{\\rm{heartd}}x_{\\rm{heartd}}+ \\beta_{\\rm{marry}}x_{\\rm{marry}}+ \\beta_{\\rm{age}}x_{\\rm{age}} + \\beta_{\\rm{glucose}}x_{\\rm{glucose}}$"
   ]
  },
  {
   "cell_type": "code",
   "execution_count": 2,
   "id": "292d389a-bdf7-4a13-90e1-fddfec9ccdc1",
   "metadata": {},
   "outputs": [
    {
     "data": {
      "text/plain": [
       "\n",
       "Call:\n",
       "glm(formula = stroke ~ hypertension + heart_disease + ever_married + \n",
       "    age + avg_glucose_level, family = binomial(link = \"logit\"), \n",
       "    data = strokedata)\n",
       "\n",
       "Deviance Residuals: \n",
       "    Min       1Q   Median       3Q      Max  \n",
       "-1.2017  -0.3344  -0.1915  -0.1090   3.2073  \n",
       "\n",
       "Coefficients:\n",
       "                   Estimate Std. Error z value Pr(>|z|)    \n",
       "(Intercept)       -7.527041   0.470374 -16.002  < 2e-16 ***\n",
       "hypertension       0.567135   0.181510   3.125 0.001781 ** \n",
       "heart_disease      0.449092   0.216934   2.070 0.038435 *  \n",
       "ever_marriedYes   -0.152803   0.260974  -0.586 0.558205    \n",
       "age                0.068193   0.006360  10.722  < 2e-16 ***\n",
       "avg_glucose_level  0.004732   0.001336   3.541 0.000398 ***\n",
       "---\n",
       "Signif. codes:  0 ‘***’ 0.001 ‘**’ 0.01 ‘*’ 0.05 ‘.’ 0.1 ‘ ’ 1\n",
       "\n",
       "(Dispersion parameter for binomial family taken to be 1)\n",
       "\n",
       "    Null deviance: 1411.0  on 3425  degrees of freedom\n",
       "Residual deviance: 1149.6  on 3420  degrees of freedom\n",
       "AIC: 1161.6\n",
       "\n",
       "Number of Fisher Scoring iterations: 7\n"
      ]
     },
     "metadata": {},
     "output_type": "display_data"
    }
   ],
   "source": [
    "model1_full = glm(stroke ~ hypertension + heart_disease + ever_married + age + avg_glucose_level, data=strokedata, family=binomial(link=\"logit\"))\n",
    "summary(model1_full)"
   ]
  },
  {
   "cell_type": "markdown",
   "id": "a3e7fac0-7b4b-4f47-abf1-4344e744c5c7",
   "metadata": {},
   "source": [
    "- $\\hat{\\beta}_{\\rm{marry}}$ 的z-test p-value大，因此沒辦法拒絕下面的$H_0$\n",
    "  - $H_0: \\beta_{\\rm{marry}} = 0$\n",
    "- 下一部份用Deviance來判斷是否要捨棄$x_{\\rm{marry}}$"
   ]
  },
  {
   "cell_type": "markdown",
   "id": "443574ce-471f-47b5-98a3-8b9e53ef020b",
   "metadata": {},
   "source": [
    "### Reduce Model\n",
    "$\\log{\\left(\\frac{P[\\rm{stroke}=1]}{P[\\rm{stroke}=0]}\\right)} = \\beta_0 + \\beta_{\\rm{hypert}}x_{\\rm{hypert}}+ \\beta_{\\rm{heartd}}x_{\\rm{heartd}}+ \\beta_{\\rm{age}}x_{\\rm{age}} + \\beta_{\\rm{glucose}}x_{\\rm{glucose}}$"
   ]
  },
  {
   "cell_type": "code",
   "execution_count": 3,
   "id": "d88094d3-ddb3-4798-831e-e286fd10c973",
   "metadata": {},
   "outputs": [
    {
     "data": {
      "text/plain": [
       "\n",
       "Call:\n",
       "glm(formula = stroke ~ hypertension + heart_disease + age + avg_glucose_level, \n",
       "    family = binomial(link = \"logit\"), data = strokedata)\n",
       "\n",
       "Deviance Residuals: \n",
       "    Min       1Q   Median       3Q      Max  \n",
       "-1.1420  -0.3357  -0.1927  -0.1072   3.1976  \n",
       "\n",
       "Coefficients:\n",
       "                   Estimate Std. Error z value Pr(>|z|)    \n",
       "(Intercept)       -7.632810   0.439480 -17.368  < 2e-16 ***\n",
       "hypertension       0.568379   0.181386   3.134 0.001727 ** \n",
       "heart_disease      0.453704   0.216660   2.094 0.036253 *  \n",
       "age                0.067773   0.006359  10.659  < 2e-16 ***\n",
       "avg_glucose_level  0.004701   0.001334   3.524 0.000426 ***\n",
       "---\n",
       "Signif. codes:  0 ‘***’ 0.001 ‘**’ 0.01 ‘*’ 0.05 ‘.’ 0.1 ‘ ’ 1\n",
       "\n",
       "(Dispersion parameter for binomial family taken to be 1)\n",
       "\n",
       "    Null deviance: 1411.0  on 3425  degrees of freedom\n",
       "Residual deviance: 1149.9  on 3421  degrees of freedom\n",
       "AIC: 1159.9\n",
       "\n",
       "Number of Fisher Scoring iterations: 7\n"
      ]
     },
     "metadata": {},
     "output_type": "display_data"
    }
   ],
   "source": [
    "model1_reduce = glm(stroke ~ hypertension + heart_disease + age + avg_glucose_level, data=strokedata, family=binomial(link=\"logit\"))\n",
    "summary(model1_reduce)"
   ]
  },
  {
   "cell_type": "markdown",
   "id": "5cfbd0e9-900f-4013-8f05-d0219cb562b1",
   "metadata": {},
   "source": [
    "### Likelihood-Ratio Test\n",
    "- Full Model與Reduced Model的差異可以轉換成 $H_0: \\beta_{\\rm{marry}} = 0$"
   ]
  },
  {
   "cell_type": "code",
   "execution_count": 4,
   "id": "7497b491-9b11-4d63-8068-6fe77da22f22",
   "metadata": {},
   "outputs": [
    {
     "data": {
      "text/html": [
       "<table>\n",
       "<thead><tr><th scope=col>Resid. Df</th><th scope=col>Resid. Dev</th><th scope=col>Df</th><th scope=col>Deviance</th><th scope=col>Pr(&gt;Chi)</th></tr></thead>\n",
       "<tbody>\n",
       "\t<tr><td>3421     </td><td>1149.914 </td><td>NA       </td><td>       NA</td><td>       NA</td></tr>\n",
       "\t<tr><td>3420     </td><td>1149.580 </td><td> 1       </td><td>0.3338298</td><td>0.5634126</td></tr>\n",
       "</tbody>\n",
       "</table>\n"
      ],
      "text/latex": [
       "\\begin{tabular}{r|lllll}\n",
       " Resid. Df & Resid. Dev & Df & Deviance & Pr(>Chi)\\\\\n",
       "\\hline\n",
       "\t 3421      & 1149.914  & NA        &        NA &        NA\\\\\n",
       "\t 3420      & 1149.580  &  1        & 0.3338298 & 0.5634126\\\\\n",
       "\\end{tabular}\n"
      ],
      "text/markdown": [
       "\n",
       "| Resid. Df | Resid. Dev | Df | Deviance | Pr(>Chi) |\n",
       "|---|---|---|---|---|\n",
       "| 3421      | 1149.914  | NA        |        NA |        NA |\n",
       "| 3420      | 1149.580  |  1        | 0.3338298 | 0.5634126 |\n",
       "\n"
      ],
      "text/plain": [
       "  Resid. Df Resid. Dev Df Deviance  Pr(>Chi) \n",
       "1 3421      1149.914   NA        NA        NA\n",
       "2 3420      1149.580    1 0.3338298 0.5634126"
      ]
     },
     "metadata": {},
     "output_type": "display_data"
    }
   ],
   "source": [
    "anova(model1_reduce, model1_full, test=\"LRT\")"
   ]
  },
  {
   "cell_type": "markdown",
   "id": "f5af374f-b480-4bf1-8747-aa99a9ce0b37",
   "metadata": {},
   "source": [
    "- 根據Deviance的p-value=0.5643\n",
    "    - 不能拒絕 $H_0$，所以最終模型將會捨棄掉結婚狀態的變數"
   ]
  },
  {
   "cell_type": "markdown",
   "id": "b27f1be7-aeab-4c96-a880-5553a4261072",
   "metadata": {},
   "source": [
    "### Final Selection: \n",
    "$\\log{\\left(\\frac{P[\\rm{stroke}=1]}{P[\\rm{stroke}=0]}\\right)} = \\beta_0 + \\beta_{\\rm{hypert}}x_{\\rm{hypert}}+ \\beta_{\\rm{heartd}}x_{\\rm{heartd}}+ \\beta_{\\rm{age}}x_{\\rm{age}} + \\beta_{\\rm{glucose}}x_{\\rm{glucose}}$"
   ]
  },
  {
   "cell_type": "markdown",
   "id": "1096e909-5669-4d2a-9c14-cf1718f41bba",
   "metadata": {},
   "source": [
    "## Model 2: Categorical"
   ]
  },
  {
   "cell_type": "markdown",
   "id": "a829d438-ff02-45c2-bb00-3af02fe21f1a",
   "metadata": {},
   "source": [
    "### 資料處理"
   ]
  },
  {
   "cell_type": "code",
   "execution_count": 5,
   "id": "5a39da11-61af-4855-a054-5464783d7990",
   "metadata": {},
   "outputs": [
    {
     "data": {
      "text/html": [
       "<table>\n",
       "<thead><tr><th scope=col>age</th><th scope=col>hypertension</th><th scope=col>heart_disease</th><th scope=col>ever_married</th><th scope=col>work_type</th><th scope=col>avg_glucose_level</th><th scope=col>bmi</th><th scope=col>smoking_status</th><th scope=col>stroke</th><th scope=col>age_group</th><th scope=col>glc_group</th></tr></thead>\n",
       "<tbody>\n",
       "\t<tr><td>67                                                   </td><td>0                                                    </td><td>1                                                    </td><td>Yes                                                  </td><td><span style=white-space:pre-wrap>Private      </span></td><td>228.69                                               </td><td>36.6                                                 </td><td>formerly smoked                                      </td><td>1                                                    </td><td>60-69                                                </td><td>&gt;=160                                             </td></tr>\n",
       "\t<tr><td>80                                                     </td><td>0                                                      </td><td>1                                                      </td><td>Yes                                                    </td><td><span style=white-space:pre-wrap>Private      </span>  </td><td>105.92                                                 </td><td>32.5                                                   </td><td><span style=white-space:pre-wrap>never smoked   </span></td><td>1                                                      </td><td>&gt;=70                                                </td><td>&lt;160                                                </td></tr>\n",
       "\t<tr><td>49                                                     </td><td>0                                                      </td><td>0                                                      </td><td>Yes                                                    </td><td><span style=white-space:pre-wrap>Private      </span>  </td><td>171.23                                                 </td><td>34.4                                                   </td><td><span style=white-space:pre-wrap>smokes         </span></td><td>1                                                      </td><td>0-49                                                   </td><td>&gt;=160                                               </td></tr>\n",
       "\t<tr><td>79                                                     </td><td>1                                                      </td><td>0                                                      </td><td>Yes                                                    </td><td>Self-employed                                          </td><td>174.12                                                 </td><td>24.0                                                   </td><td><span style=white-space:pre-wrap>never smoked   </span></td><td>1                                                      </td><td>&gt;=70                                                </td><td>&gt;=160                                               </td></tr>\n",
       "\t<tr><td>81                                                   </td><td>0                                                    </td><td>0                                                    </td><td>Yes                                                  </td><td><span style=white-space:pre-wrap>Private      </span></td><td>186.21                                               </td><td>29.0                                                 </td><td>formerly smoked                                      </td><td>1                                                    </td><td>&gt;=70                                              </td><td>&gt;=160                                             </td></tr>\n",
       "\t<tr><td>74                                                     </td><td>1                                                      </td><td>1                                                      </td><td>Yes                                                    </td><td><span style=white-space:pre-wrap>Private      </span>  </td><td> 70.09                                                 </td><td>27.4                                                   </td><td><span style=white-space:pre-wrap>never smoked   </span></td><td>1                                                      </td><td>&gt;=70                                                </td><td>&lt;160                                                </td></tr>\n",
       "</tbody>\n",
       "</table>\n"
      ],
      "text/latex": [
       "\\begin{tabular}{r|lllllllllll}\n",
       " age & hypertension & heart\\_disease & ever\\_married & work\\_type & avg\\_glucose\\_level & bmi & smoking\\_status & stroke & age\\_group & glc\\_group\\\\\n",
       "\\hline\n",
       "\t 67              & 0               & 1               & Yes             & Private         & 228.69          & 36.6            & formerly smoked & 1               & 60-69           & >=160          \\\\\n",
       "\t 80              & 0               & 1               & Yes             & Private         & 105.92          & 32.5            & never smoked    & 1               & >=70            & <160           \\\\\n",
       "\t 49              & 0               & 0               & Yes             & Private         & 171.23          & 34.4            & smokes          & 1               & 0-49            & >=160          \\\\\n",
       "\t 79              & 1               & 0               & Yes             & Self-employed   & 174.12          & 24.0            & never smoked    & 1               & >=70            & >=160          \\\\\n",
       "\t 81              & 0               & 0               & Yes             & Private         & 186.21          & 29.0            & formerly smoked & 1               & >=70            & >=160          \\\\\n",
       "\t 74              & 1               & 1               & Yes             & Private         &  70.09          & 27.4            & never smoked    & 1               & >=70            & <160           \\\\\n",
       "\\end{tabular}\n"
      ],
      "text/markdown": [
       "\n",
       "| age | hypertension | heart_disease | ever_married | work_type | avg_glucose_level | bmi | smoking_status | stroke | age_group | glc_group |\n",
       "|---|---|---|---|---|---|---|---|---|---|---|\n",
       "| 67              | 0               | 1               | Yes             | Private         | 228.69          | 36.6            | formerly smoked | 1               | 60-69           | >=160           |\n",
       "| 80              | 0               | 1               | Yes             | Private         | 105.92          | 32.5            | never smoked    | 1               | >=70            | <160            |\n",
       "| 49              | 0               | 0               | Yes             | Private         | 171.23          | 34.4            | smokes          | 1               | 0-49            | >=160           |\n",
       "| 79              | 1               | 0               | Yes             | Self-employed   | 174.12          | 24.0            | never smoked    | 1               | >=70            | >=160           |\n",
       "| 81              | 0               | 0               | Yes             | Private         | 186.21          | 29.0            | formerly smoked | 1               | >=70            | >=160           |\n",
       "| 74              | 1               | 1               | Yes             | Private         |  70.09          | 27.4            | never smoked    | 1               | >=70            | <160            |\n",
       "\n"
      ],
      "text/plain": [
       "  age hypertension heart_disease ever_married work_type     avg_glucose_level\n",
       "1 67  0            1             Yes          Private       228.69           \n",
       "2 80  0            1             Yes          Private       105.92           \n",
       "3 49  0            0             Yes          Private       171.23           \n",
       "4 79  1            0             Yes          Self-employed 174.12           \n",
       "5 81  0            0             Yes          Private       186.21           \n",
       "6 74  1            1             Yes          Private        70.09           \n",
       "  bmi  smoking_status  stroke age_group glc_group\n",
       "1 36.6 formerly smoked 1      60-69     >=160    \n",
       "2 32.5 never smoked    1      >=70      <160     \n",
       "3 34.4 smokes          1      0-49      >=160    \n",
       "4 24.0 never smoked    1      >=70      >=160    \n",
       "5 29.0 formerly smoked 1      >=70      >=160    \n",
       "6 27.4 never smoked    1      >=70      <160     "
      ]
     },
     "metadata": {},
     "output_type": "display_data"
    }
   ],
   "source": [
    "strokedata$age_group <- with(strokedata, ifelse(\n",
    "    age < 50, '0-49', ifelse(\n",
    "    age >= 50 & age < 60, '50-59', ifelse(\n",
    "    age >= 60 & age < 70, '60-69', '>=70'))))\n",
    "strokedata$age_group <- factor(strokedata$age_group, levels= c('0-49', '50-59', '60-69', '>=70'))\n",
    "strokedata$glc_group <- with(strokedata, ifelse(avg_glucose_level < 160, '<160', '>=160'))\n",
    "strokedata$glc_group <- factor(strokedata$glc_group, levels= c('<160', '>=160'))\n",
    "head(strokedata)"
   ]
  },
  {
   "cell_type": "markdown",
   "id": "6b42b835-e563-4905-bafb-902a3ce89a4b",
   "metadata": {},
   "source": [
    "### Full Model\n",
    "$\\log{\\left(\\frac{P[\\rm{stroke}=1]}{P[\\rm{stroke}=0]}\\right)} = \\beta_0 + \\beta_{\\rm{hypert}}x_{\\rm{hypert}}+ \\beta_{\\rm{heartd}}x_{\\rm{heartd}}+ \\beta_{\\rm{marry}}x_{\\rm{marry}}+ \\beta_{\\rm{50<=age<=59}}~x_{\\rm{50<=age<=59}}\\\\ + \\beta_{\\rm{60<=age<=69}}~x_{\\rm{60<=age<=69}} + \\beta_{\\rm{age>=70}}x_{\\rm{age>=70}} + \\beta_{\\rm{glc>=160}}x_{\\rm{glc>=160}}$"
   ]
  },
  {
   "cell_type": "code",
   "execution_count": 6,
   "id": "b8104ad8-856d-407d-9660-e607f3b94869",
   "metadata": {},
   "outputs": [
    {
     "data": {
      "text/plain": [
       "\n",
       "Call:\n",
       "glm(formula = stroke ~ hypertension + heart_disease + ever_married + \n",
       "    age_group + glc_group, family = binomial(link = \"logit\"), \n",
       "    data = strokedata)\n",
       "\n",
       "Deviance Residuals: \n",
       "    Min       1Q   Median       3Q      Max  \n",
       "-1.0323  -0.3198  -0.1633  -0.1264   3.1093  \n",
       "\n",
       "Coefficients:\n",
       "                Estimate Std. Error z value Pr(>|z|)    \n",
       "(Intercept)     -4.80277    0.30513 -15.740  < 2e-16 ***\n",
       "hypertension     0.55933    0.18171   3.078 0.002082 ** \n",
       "heart_disease    0.51525    0.21533   2.393 0.016718 *  \n",
       "ever_marriedYes -0.02324    0.26447  -0.088 0.929972    \n",
       "age_group50-59   1.56936    0.33027   4.752 2.02e-06 ***\n",
       "age_group60-69   1.87867    0.33125   5.671 1.42e-08 ***\n",
       "age_group>=70    2.73247    0.30564   8.940  < 2e-16 ***\n",
       "glc_group>=160   0.64429    0.17358   3.712 0.000206 ***\n",
       "---\n",
       "Signif. codes:  0 ‘***’ 0.001 ‘**’ 0.01 ‘*’ 0.05 ‘.’ 0.1 ‘ ’ 1\n",
       "\n",
       "(Dispersion parameter for binomial family taken to be 1)\n",
       "\n",
       "    Null deviance: 1411.0  on 3425  degrees of freedom\n",
       "Residual deviance: 1171.7  on 3418  degrees of freedom\n",
       "AIC: 1187.7\n",
       "\n",
       "Number of Fisher Scoring iterations: 7\n"
      ]
     },
     "metadata": {},
     "output_type": "display_data"
    }
   ],
   "source": [
    "model2_full = glm(stroke ~ hypertension + heart_disease + ever_married + age_group + glc_group, data=strokedata, \n",
    "                  family=binomial(link=\"logit\"))\n",
    "summary(model2_full)"
   ]
  },
  {
   "cell_type": "markdown",
   "id": "6b627358-53fd-43e7-96c2-4044f4803700",
   "metadata": {},
   "source": [
    "- $\\hat{\\beta}_{\\rm{marry}}$ 的z-test p-value大，因此沒辦法拒絕下面的$H_0$\n",
    "  - $H_0: \\beta_{\\rm{marry}} = 0$\n",
    "- 下一部份用Deviance來判斷是否要捨棄$x_{\\rm{marry}}$"
   ]
  },
  {
   "cell_type": "markdown",
   "id": "3e13b899-a87e-484d-9b35-f440c4299a1e",
   "metadata": {},
   "source": [
    "### Reduce Model\n",
    "$\\log{\\left(\\frac{P[\\rm{stroke}=1]}{P[\\rm{stroke}=0]}\\right)} = \\beta_0 + \\beta_{\\rm{hypert}}x_{\\rm{hypert}}+ \\beta_{\\rm{heartd}}x_{\\rm{heartd}}+ \\beta_{\\rm{50<=age<=59}}~x_{\\rm{50<=age<=59}}\\\\ + \\beta_{\\rm{60<=age<=69}}~x_{\\rm{60<=age<=69}} + \\beta_{\\rm{age>=70}}x_{\\rm{age>=70}} + \\beta_{\\rm{glc>=160}}x_{\\rm{glc>=160}}$"
   ]
  },
  {
   "cell_type": "code",
   "execution_count": 7,
   "id": "8d7b176b-724e-4dda-95b8-f5b5bcb888d0",
   "metadata": {},
   "outputs": [
    {
     "data": {
      "text/plain": [
       "\n",
       "Call:\n",
       "glm(formula = stroke ~ hypertension + heart_disease + age_group + \n",
       "    glc_group, family = binomial(link = \"logit\"), data = strokedata)\n",
       "\n",
       "Deviance Residuals: \n",
       "    Min       1Q   Median       3Q      Max  \n",
       "-1.0240  -0.3201  -0.1641  -0.1270   3.1064  \n",
       "\n",
       "Coefficients:\n",
       "               Estimate Std. Error z value Pr(>|z|)    \n",
       "(Intercept)     -4.8168     0.2603 -18.503  < 2e-16 ***\n",
       "hypertension     0.5596     0.1817   3.080 0.002071 ** \n",
       "heart_disease    0.5158     0.2152   2.397 0.016537 *  \n",
       "age_group50-59   1.5619     0.3191   4.895 9.83e-07 ***\n",
       "age_group60-69   1.8712     0.3200   5.847 5.01e-09 ***\n",
       "age_group>=70    2.7253     0.2943   9.259  < 2e-16 ***\n",
       "glc_group>=160   0.6439     0.1735   3.711 0.000207 ***\n",
       "---\n",
       "Signif. codes:  0 ‘***’ 0.001 ‘**’ 0.01 ‘*’ 0.05 ‘.’ 0.1 ‘ ’ 1\n",
       "\n",
       "(Dispersion parameter for binomial family taken to be 1)\n",
       "\n",
       "    Null deviance: 1411.0  on 3425  degrees of freedom\n",
       "Residual deviance: 1171.7  on 3419  degrees of freedom\n",
       "AIC: 1185.7\n",
       "\n",
       "Number of Fisher Scoring iterations: 7\n"
      ]
     },
     "metadata": {},
     "output_type": "display_data"
    }
   ],
   "source": [
    "model2_reduce = glm(stroke ~ hypertension + heart_disease +  age_group + glc_group, data=strokedata, family=binomial(link=\"logit\"))\n",
    "summary(model2_reduce)"
   ]
  },
  {
   "cell_type": "markdown",
   "id": "c4c92890-051f-48f0-adfc-52a44d17d8ce",
   "metadata": {},
   "source": [
    "### Likelihood-Ratio Test\n",
    "- Full Model與Reduced Model的差異可以轉換成 $H_0: \\beta_{\\rm{marry}} = 0$"
   ]
  },
  {
   "cell_type": "code",
   "execution_count": 8,
   "id": "059d6e40-e94b-41ae-a9bd-a4291469f2e9",
   "metadata": {},
   "outputs": [
    {
     "data": {
      "text/html": [
       "<table>\n",
       "<thead><tr><th scope=col>Resid. Df</th><th scope=col>Resid. Dev</th><th scope=col>Df</th><th scope=col>Deviance</th><th scope=col>Pr(&gt;Chi)</th></tr></thead>\n",
       "<tbody>\n",
       "\t<tr><td>3419       </td><td>1171.707   </td><td>NA         </td><td>         NA</td><td>       NA  </td></tr>\n",
       "\t<tr><td>3418       </td><td>1171.699   </td><td> 1         </td><td>0.007693608</td><td>0.9301046  </td></tr>\n",
       "</tbody>\n",
       "</table>\n"
      ],
      "text/latex": [
       "\\begin{tabular}{r|lllll}\n",
       " Resid. Df & Resid. Dev & Df & Deviance & Pr(>Chi)\\\\\n",
       "\\hline\n",
       "\t 3419        & 1171.707    & NA          &          NA &        NA  \\\\\n",
       "\t 3418        & 1171.699    &  1          & 0.007693608 & 0.9301046  \\\\\n",
       "\\end{tabular}\n"
      ],
      "text/markdown": [
       "\n",
       "| Resid. Df | Resid. Dev | Df | Deviance | Pr(>Chi) |\n",
       "|---|---|---|---|---|\n",
       "| 3419        | 1171.707    | NA          |          NA |        NA   |\n",
       "| 3418        | 1171.699    |  1          | 0.007693608 | 0.9301046   |\n",
       "\n"
      ],
      "text/plain": [
       "  Resid. Df Resid. Dev Df Deviance    Pr(>Chi) \n",
       "1 3419      1171.707   NA          NA        NA\n",
       "2 3418      1171.699    1 0.007693608 0.9301046"
      ]
     },
     "metadata": {},
     "output_type": "display_data"
    }
   ],
   "source": [
    "anova(model2_reduce, model2_full, test=\"LRT\")"
   ]
  },
  {
   "cell_type": "markdown",
   "id": "1fdbed90-abff-4a28-b32a-227223f3c63e",
   "metadata": {},
   "source": [
    "- 根據Deviance的p-value=0.9301\n",
    "    - 不能拒絕 $H_0$，所以最終模型將會捨棄掉結婚狀態的變數"
   ]
  },
  {
   "cell_type": "markdown",
   "id": "97180930-6113-4792-8e87-f18c09db34cb",
   "metadata": {},
   "source": [
    "### Final Selection: \n",
    "$\\log{\\left(\\frac{P[\\rm{stroke}=1]}{P[\\rm{stroke}=0]}\\right)} = \\beta_0 + \\beta_{\\rm{hypert}}x_{\\rm{hypert}}+ \\beta_{\\rm{heartd}}x_{\\rm{heartd}}+ \\beta_{\\rm{50<=age<=59}}~x_{\\rm{50<=age<=59}}\\\\ + \\beta_{\\rm{60<=age<=69}}~x_{\\rm{60<=age<=69}} + \\beta_{\\rm{age>=70}}x_{\\rm{age>=70}} + \\beta_{\\rm{glc>=160}}x_{\\rm{glc>=160}}$"
   ]
  },
  {
   "cell_type": "markdown",
   "id": "05120462-edfa-49ae-9d7f-afa4d3a42ade",
   "metadata": {},
   "source": [
    "```{image} ./images/regr_cate_model_final_plot.png\n",
    ":alt: regr_cate_model_final_plot\n",
    ":class: bg-primary mb-1\n",
    ":width: 800px\n",
    ":align: center\n",
    "```"
   ]
  },
  {
   "cell_type": "code",
   "execution_count": null,
   "id": "70eefd7f-af2a-43ba-8695-3b92e303e38c",
   "metadata": {},
   "outputs": [],
   "source": []
  }
 ],
 "metadata": {
  "kernelspec": {
   "display_name": "R",
   "language": "R",
   "name": "ir"
  },
  "language_info": {
   "codemirror_mode": "r",
   "file_extension": ".r",
   "mimetype": "text/x-r-source",
   "name": "R",
   "pygments_lexer": "r",
   "version": "3.6.1"
  }
 },
 "nbformat": 4,
 "nbformat_minor": 5
}