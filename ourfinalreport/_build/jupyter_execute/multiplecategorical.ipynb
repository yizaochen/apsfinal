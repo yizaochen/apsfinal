{
 "cells": [
  {
   "cell_type": "markdown",
   "id": "b3f7832f-35fc-4a01-aff2-5c2e07556389",
   "metadata": {},
   "source": [
    "Chapter 4: 列聯表分析2-多重類別型\n",
    "=======================\n",
    "在列聯表分析的第二部份，主要是探討兩個類別型變數，抽煙狀態與工作。這兩個變數都含有兩個以上的類別。下面主要使用的統計方法為卡方檢定。"
   ]
  },
  {
   "cell_type": "markdown",
   "id": "c17d325f-e48d-482c-bc72-181cad0f1743",
   "metadata": {},
   "source": [
    "## A. 中風與抽煙習慣\n",
    "### 抽煙習慣的分佈與比例\n",
    "```{image} https://i.imgur.com/wn6c5i3.png\n",
    ":alt: smoking\n",
    ":class: bg-primary mb-1\n",
    ":width: 800px\n",
    ":align: center\n",
    "```\n",
    "- <span style=\"color:blue\">在這筆資料中，不曾抽煙者佔了54%，曾抽過煙但戒掉的人佔了24.5%，現在抽煙者佔了21.5%</span>"
   ]
  },
  {
   "cell_type": "markdown",
   "id": "3f610f1e-d90a-47e3-aa0c-e5a65880f8a4",
   "metadata": {},
   "source": [
    "### Contingency table\n",
    "```{image} ./images/contingency_table_smoke.png\n",
    ":alt: contingency_table_smoke\n",
    ":class: bg-primary mb-1\n",
    ":width: 1000px\n",
    ":align: center\n",
    "```\n",
    "\n",
    "### Chi-square:\n",
    "- $\\chi^2$ = 6.03, df=2, p-value=4.906e-02\n",
    "- <span style=\"color:blue\">p-value$<$0.05，顯示抽煙狀態與中風具有高度相關性</span>\n",
    "- <span style=\"color:blue\">由Contingency Table的期望值可以發現，造成統計顯著性的是\"Never smoke\"與\"Formerly Smoke\"</span>\n",
    "- <span style=\"color:blue\">Never Smoke的觀測值比期望值低，表示不抽煙者中風的機率較低</span>\n",
    "- <span style=\"color:blue\">Formerly Smoke的觀測值比期望值高，表示戒煙者中風的機率提高</span>\n",
    "- <span style=\"color:blue\">Bar圖也指出，Formerly Smoke的中風機率是最高的。這個結果讓我們懷疑戒煙者是不是也隱含著年齡比較大的資訊，這在後續的分析會一併討論</span>"
   ]
  },
  {
   "cell_type": "markdown",
   "id": "64bbc131-2c8b-48c1-a8ff-1341645d209b",
   "metadata": {},
   "source": [
    "## B. 中風與工作\n",
    "### 工作的分佈與比例\n",
    "```{image} ./images/worktype_distribution.png\n",
    ":alt: worktype\n",
    ":class: bg-primary mb-1\n",
    ":width: 800px\n",
    ":align: center\n",
    "```\n",
    "- <span style=\"color:blue\">在這筆資料中，私人企業工作佔了64%，self-employed的人佔了18%，政府機關工作的人佔了15%，剩下的則是不曾工作者與小孩</span>\n",
    "- <span style=\"color:gray\">我們會在下面的Contigency Table跟卡方分析把\"孩童\"與\"未曾工作\"的資料點清理掉</span>\n",
    "\n",
    "### Contingency table\n",
    "```{image} ./images/contingency_table_worktype.png\n",
    ":alt: contingency_table_worktype\n",
    ":class: bg-primary mb-1\n",
    ":width: 1000px\n",
    ":align: center\n",
    "```\n",
    "\n",
    "### Chi-square:\n",
    "- $\\chi^2$ = 7.87, df=2, p-value=1.959e-02\n",
    "- <span style=\"color:blue\"> p-value $<$ 0.05，顯示工作與中風具有高度相關性</span>\n",
    "- <span style=\"color:blue\"> 在私人企業與政府單位工作的人的中風觀測值都比中風期望值低。然而，對於自己開業的人，中風的觀測值比期望值高。從右方條件機率的Bar圖也顯示自己開業的人中風的機率最高</span>\n",
    "- <span style=\"color:blue\"> 我們猜測背後的原因是，自行創業的壓力比領人薪水的壓力大，以致於中風的機率高</span>\n",
    "<p style=\"page-break-before: always\">"
   ]
  }
 ],
 "metadata": {
  "kernelspec": {
   "display_name": "Python 3",
   "language": "python",
   "name": "python3"
  },
  "language_info": {
   "codemirror_mode": {
    "name": "ipython",
    "version": 3
   },
   "file_extension": ".py",
   "mimetype": "text/x-python",
   "name": "python",
   "nbconvert_exporter": "python",
   "pygments_lexer": "ipython3",
   "version": "3.8.8"
  }
 },
 "nbformat": 4,
 "nbformat_minor": 5
}