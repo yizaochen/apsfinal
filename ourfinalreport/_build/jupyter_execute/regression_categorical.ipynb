{
 "cells": [
  {
   "cell_type": "markdown",
   "id": "367fa5b2-5867-4859-a29f-15890cc5c494",
   "metadata": {},
   "source": [
    "# Chapter 9: 迴歸分析1-類別型變數\n",
    "由於列聯表分析只能探討中風與一種解釋變數之間的關係，迴歸分析則可以提供我們一次分析多種解釋變數對於中風的影響。\n",
    "在這個部份，我們首先做了只有類別型變數的迴歸模型，下一個部份則做了只有數值型變數的迴歸模型，第三部份結合了所有的變數並做出一個最終模型。  \n",
    "\n",
    "<span style=\"color:blue\"> *從前面列聯表分析中: 中風與\"性別\"及\"住處型態\"無關，因此在迴歸分析是直接被拿掉的*</span>"
   ]
  },
  {
   "cell_type": "markdown",
   "id": "37cc7bf0-e68f-4d35-8e2c-4f95fd5189e6",
   "metadata": {},
   "source": [
    "## 讀取資料"
   ]
  },
  {
   "cell_type": "code",
   "execution_count": 1,
   "id": "e739b2cb-a96f-4d40-a14b-fa018930cd70",
   "metadata": {},
   "outputs": [
    {
     "data": {
      "text/html": [
       "<table>\n",
       "<thead><tr><th scope=col>age</th><th scope=col>hypertension</th><th scope=col>heart_disease</th><th scope=col>ever_married</th><th scope=col>work_type</th><th scope=col>avg_glucose_level</th><th scope=col>bmi</th><th scope=col>smoking_status</th><th scope=col>stroke</th></tr></thead>\n",
       "<tbody>\n",
       "\t<tr><td>67             </td><td>0              </td><td>1              </td><td>Yes            </td><td>Private        </td><td>228.69         </td><td>36.6           </td><td>formerly smoked</td><td>1              </td></tr>\n",
       "\t<tr><td>80             </td><td>0              </td><td>1              </td><td>Yes            </td><td>Private        </td><td>105.92         </td><td>32.5           </td><td>never smoked   </td><td>1              </td></tr>\n",
       "\t<tr><td>49             </td><td>0              </td><td>0              </td><td>Yes            </td><td>Private        </td><td>171.23         </td><td>34.4           </td><td>smokes         </td><td>1              </td></tr>\n",
       "\t<tr><td>79             </td><td>1              </td><td>0              </td><td>Yes            </td><td>Self-employed  </td><td>174.12         </td><td>24.0           </td><td>never smoked   </td><td>1              </td></tr>\n",
       "\t<tr><td>81             </td><td>0              </td><td>0              </td><td>Yes            </td><td>Private        </td><td>186.21         </td><td>29.0           </td><td>formerly smoked</td><td>1              </td></tr>\n",
       "\t<tr><td>74             </td><td>1              </td><td>1              </td><td>Yes            </td><td>Private        </td><td> 70.09         </td><td>27.4           </td><td>never smoked   </td><td>1              </td></tr>\n",
       "</tbody>\n",
       "</table>\n"
      ],
      "text/latex": [
       "\\begin{tabular}{r|lllllllll}\n",
       " age & hypertension & heart\\_disease & ever\\_married & work\\_type & avg\\_glucose\\_level & bmi & smoking\\_status & stroke\\\\\n",
       "\\hline\n",
       "\t 67              & 0               & 1               & Yes             & Private         & 228.69          & 36.6            & formerly smoked & 1              \\\\\n",
       "\t 80              & 0               & 1               & Yes             & Private         & 105.92          & 32.5            & never smoked    & 1              \\\\\n",
       "\t 49              & 0               & 0               & Yes             & Private         & 171.23          & 34.4            & smokes          & 1              \\\\\n",
       "\t 79              & 1               & 0               & Yes             & Self-employed   & 174.12          & 24.0            & never smoked    & 1              \\\\\n",
       "\t 81              & 0               & 0               & Yes             & Private         & 186.21          & 29.0            & formerly smoked & 1              \\\\\n",
       "\t 74              & 1               & 1               & Yes             & Private         &  70.09          & 27.4            & never smoked    & 1              \\\\\n",
       "\\end{tabular}\n"
      ],
      "text/markdown": [
       "\n",
       "| age | hypertension | heart_disease | ever_married | work_type | avg_glucose_level | bmi | smoking_status | stroke |\n",
       "|---|---|---|---|---|---|---|---|---|\n",
       "| 67              | 0               | 1               | Yes             | Private         | 228.69          | 36.6            | formerly smoked | 1               |\n",
       "| 80              | 0               | 1               | Yes             | Private         | 105.92          | 32.5            | never smoked    | 1               |\n",
       "| 49              | 0               | 0               | Yes             | Private         | 171.23          | 34.4            | smokes          | 1               |\n",
       "| 79              | 1               | 0               | Yes             | Self-employed   | 174.12          | 24.0            | never smoked    | 1               |\n",
       "| 81              | 0               | 0               | Yes             | Private         | 186.21          | 29.0            | formerly smoked | 1               |\n",
       "| 74              | 1               | 1               | Yes             | Private         |  70.09          | 27.4            | never smoked    | 1               |\n",
       "\n"
      ],
      "text/plain": [
       "  age hypertension heart_disease ever_married work_type     avg_glucose_level\n",
       "1 67  0            1             Yes          Private       228.69           \n",
       "2 80  0            1             Yes          Private       105.92           \n",
       "3 49  0            0             Yes          Private       171.23           \n",
       "4 79  1            0             Yes          Self-employed 174.12           \n",
       "5 81  0            0             Yes          Private       186.21           \n",
       "6 74  1            1             Yes          Private        70.09           \n",
       "  bmi  smoking_status  stroke\n",
       "1 36.6 formerly smoked 1     \n",
       "2 32.5 never smoked    1     \n",
       "3 34.4 smokes          1     \n",
       "4 24.0 never smoked    1     \n",
       "5 29.0 formerly smoked 1     \n",
       "6 27.4 never smoked    1     "
      ]
     },
     "metadata": {},
     "output_type": "display_data"
    }
   ],
   "source": [
    "strokedata <- read.csv(file = '../data/healthcare-dataset-stroke-data-cleanbmi.csv')\n",
    "head(strokedata)"
   ]
  },
  {
   "cell_type": "markdown",
   "id": "2667da43-4214-44ae-9395-20b33563c0f3",
   "metadata": {},
   "source": [
    "- 被清理的資料是符合以下條件的:\n",
    "  - Gender為Other\n",
    "  - BMI為N/A\n",
    "  - Smoking status為Unknown\n",
    "- 清理完的資料含有3425資料點"
   ]
  },
  {
   "cell_type": "code",
   "execution_count": 2,
   "id": "c965df30-84f1-41b7-b7d6-12905fee2997",
   "metadata": {},
   "outputs": [
    {
     "data": {
      "text/html": [
       "3425"
      ],
      "text/latex": [
       "3425"
      ],
      "text/markdown": [
       "3425"
      ],
      "text/plain": [
       "[1] 3425"
      ]
     },
     "metadata": {},
     "output_type": "display_data"
    }
   ],
   "source": [
    "nrow(strokedata)"
   ]
  },
  {
   "cell_type": "markdown",
   "id": "2a0a8c40-d54c-4b42-902d-08741d4db1cc",
   "metadata": {},
   "source": [
    "<p style=\"page-break-before: always\">"
   ]
  },
  {
   "cell_type": "markdown",
   "id": "077ace2a-8702-4c9e-a2be-7e5b354f20c7",
   "metadata": {},
   "source": [
    "## Simple Models: 只含有一個解釋變數 "
   ]
  },
  {
   "cell_type": "markdown",
   "id": "b2b3b56d-b01d-41ca-8017-f2bbe1a004df",
   "metadata": {},
   "source": [
    "### 高血壓: \n",
    "$$\n",
    "\\log{\\left(\\frac{P[\\rm{stroke}=1]}{P[\\rm{stroke}=0]}\\right)} = \\beta_0 + \\beta_{\\rm{hypert}}x_{\\rm{hypert}}\n",
    "$$"
   ]
  },
  {
   "cell_type": "code",
   "execution_count": 3,
   "id": "292d389a-bdf7-4a13-90e1-fddfec9ccdc1",
   "metadata": {},
   "outputs": [
    {
     "data": {
      "text/plain": [
       "\n",
       "Call:\n",
       "glm(formula = stroke ~ hypertension, family = binomial(link = \"logit\"), \n",
       "    data = strokedata)\n",
       "\n",
       "Deviance Residuals: \n",
       "    Min       1Q   Median       3Q      Max  \n",
       "-0.5486  -0.2885  -0.2885  -0.2885   2.5298  \n",
       "\n",
       "Coefficients:\n",
       "             Estimate Std. Error z value Pr(>|z|)    \n",
       "(Intercept)  -3.15821    0.09206 -34.305  < 2e-16 ***\n",
       "hypertension  1.34048    0.16991   7.889 3.04e-15 ***\n",
       "---\n",
       "Signif. codes:  0 ‘***’ 0.001 ‘**’ 0.01 ‘*’ 0.05 ‘.’ 0.1 ‘ ’ 1\n",
       "\n",
       "(Dispersion parameter for binomial family taken to be 1)\n",
       "\n",
       "    Null deviance: 1410.9  on 3424  degrees of freedom\n",
       "Residual deviance: 1358.1  on 3423  degrees of freedom\n",
       "AIC: 1362.1\n",
       "\n",
       "Number of Fisher Scoring iterations: 6\n"
      ]
     },
     "metadata": {},
     "output_type": "display_data"
    }
   ],
   "source": [
    "model_hypert = glm(stroke ~ hypertension, data=strokedata, family=binomial(link=\"logit\"))\n",
    "summary(model_hypert)"
   ]
  },
  {
   "cell_type": "markdown",
   "id": "632c5e94-4691-46e1-940b-7f796ce7818d",
   "metadata": {},
   "source": [
    "- <span style=\"color:blue\"> $\\beta$的z-test的p-value很小，高血壓與中風的預測是顯著的 </span>\n",
    "- <span style=\"color:blue\"> $\\beta_{\\rm{hypert}}=1.34 > 0$ : 表示有高血壓會增加中風的機率 </span>"
   ]
  },
  {
   "cell_type": "markdown",
   "id": "1096e909-5669-4d2a-9c14-cf1718f41bba",
   "metadata": {},
   "source": [
    "### 心臟病\n",
    "$$\n",
    "\\log{\\left(\\frac{P[\\rm{stroke}=1]}{P[\\rm{stroke}=0]}\\right)} = \\beta_0 + \\beta_{\\rm{heartd}}x_{\\rm{heartd}}\n",
    "$$"
   ]
  },
  {
   "cell_type": "code",
   "execution_count": 4,
   "id": "25b15d47-4249-428d-9357-8744e03c01bf",
   "metadata": {},
   "outputs": [
    {
     "data": {
      "text/plain": [
       "\n",
       "Call:\n",
       "glm(formula = stroke ~ heart_disease, family = binomial(link = \"logit\"), \n",
       "    data = strokedata)\n",
       "\n",
       "Deviance Residuals: \n",
       "    Min       1Q   Median       3Q      Max  \n",
       "-0.6198  -0.3025  -0.3025  -0.3025   2.4928  \n",
       "\n",
       "Coefficients:\n",
       "              Estimate Std. Error z value Pr(>|z|)    \n",
       "(Intercept)   -3.06125    0.08525 -35.908  < 2e-16 ***\n",
       "heart_disease  1.50897    0.20231   7.459 8.73e-14 ***\n",
       "---\n",
       "Signif. codes:  0 ‘***’ 0.001 ‘**’ 0.01 ‘*’ 0.05 ‘.’ 0.1 ‘ ’ 1\n",
       "\n",
       "(Dispersion parameter for binomial family taken to be 1)\n",
       "\n",
       "    Null deviance: 1410.9  on 3424  degrees of freedom\n",
       "Residual deviance: 1367.2  on 3423  degrees of freedom\n",
       "AIC: 1371.2\n",
       "\n",
       "Number of Fisher Scoring iterations: 5\n"
      ]
     },
     "metadata": {},
     "output_type": "display_data"
    }
   ],
   "source": [
    "model_heartd = glm(stroke ~ heart_disease, data=strokedata, family=binomial(link=\"logit\"))\n",
    "summary(model_heartd)"
   ]
  },
  {
   "cell_type": "markdown",
   "id": "a7ed12fd-e9d1-4321-9245-3efddddf7452",
   "metadata": {},
   "source": [
    "- <span style=\"color:blue\"> $\\beta$的z-test的p-value很小，心臟病與中風的預測是顯著的 </span>\n",
    "- <span style=\"color:blue\"> $\\beta_{\\rm{heartd}}=1.509 > 0$ : 表示有心臟病會增加中風的機率 </span>"
   ]
  },
  {
   "cell_type": "markdown",
   "id": "3e13b899-a87e-484d-9b35-f440c4299a1e",
   "metadata": {},
   "source": [
    "### Ever-Married(結婚有無)\n",
    "$$\n",
    "\\log{\\left(\\frac{P[\\rm{stroke}=1]}{P[\\rm{stroke}=0]}\\right)} = \\beta_0 + \\beta_{\\rm{marry}}x_{\\rm{marry}}\n",
    "$$"
   ]
  },
  {
   "cell_type": "code",
   "execution_count": 5,
   "id": "8d7b176b-724e-4dda-95b8-f5b5bcb888d0",
   "metadata": {},
   "outputs": [
    {
     "data": {
      "text/plain": [
       "\n",
       "Call:\n",
       "glm(formula = stroke ~ ever_married, family = binomial(link = \"logit\"), \n",
       "    data = strokedata)\n",
       "\n",
       "Deviance Residuals: \n",
       "    Min       1Q   Median       3Q      Max  \n",
       "-0.3565  -0.3565  -0.3565  -0.2214   2.7279  \n",
       "\n",
       "Coefficients:\n",
       "                Estimate Std. Error z value Pr(>|z|)    \n",
       "(Intercept)      -3.6964     0.2264  -16.33  < 2e-16 ***\n",
       "ever_marriedYes   0.9722     0.2406    4.04 5.34e-05 ***\n",
       "---\n",
       "Signif. codes:  0 ‘***’ 0.001 ‘**’ 0.01 ‘*’ 0.05 ‘.’ 0.1 ‘ ’ 1\n",
       "\n",
       "(Dispersion parameter for binomial family taken to be 1)\n",
       "\n",
       "    Null deviance: 1410.9  on 3424  degrees of freedom\n",
       "Residual deviance: 1390.4  on 3423  degrees of freedom\n",
       "AIC: 1394.4\n",
       "\n",
       "Number of Fisher Scoring iterations: 6\n"
      ]
     },
     "metadata": {},
     "output_type": "display_data"
    }
   ],
   "source": [
    "model_marry = glm(stroke ~ ever_married, data=strokedata, family=binomial(link=\"logit\"))\n",
    "summary(model_marry)"
   ]
  },
  {
   "cell_type": "markdown",
   "id": "bc55b26c-040e-4a8f-821b-30f97ab43072",
   "metadata": {},
   "source": [
    "- <span style=\"color:blue\"> $\\beta_{\\rm{marry}}=0.9722 > 0$ : 表示\"有結過婚\"會增加中風的機率 </span>\n",
    "- <span style=\"color:blue\"> 目前這裡的資料是含有\"未達已婚年齡者的\"，我們會在後面討論年齡與婚姻的對於中風預測的相互影響</span>"
   ]
  },
  {
   "cell_type": "markdown",
   "id": "bb572059-4f0a-4924-ba92-072841fe3fb2",
   "metadata": {},
   "source": [
    "### Work-type(工作類型)\n",
    "$$\n",
    "\\log{\\left(\\frac{P[\\rm{stroke}=1]}{P[\\rm{stroke}=0]}\\right)} = \\beta_0 + \\beta_{\\rm{GovJob}}x_{\\rm{GovJob}} + \\beta_{\\rm{Neverworked}}x_{\\rm{Neverworked}} + \\beta_{\\rm{Private}}x_{\\rm{Private}} + \\beta_{\\rm{Selfemployed}}x_{\\rm{Selfemployed}}\n",
    "$$\n",
    "- Baseline group: children"
   ]
  },
  {
   "cell_type": "code",
   "execution_count": 6,
   "id": "c08bdb54-e2c5-4809-8637-3ab814b1145c",
   "metadata": {},
   "outputs": [
    {
     "data": {
      "text/plain": [
       "\n",
       "Call:\n",
       "glm(formula = stroke ~ work_type, family = binomial(link = \"logit\"), \n",
       "    data = strokedata)\n",
       "\n",
       "Deviance Residuals: \n",
       "    Min       1Q   Median       3Q      Max  \n",
       "-0.3985  -0.3188  -0.3188  -0.3188   2.4927  \n",
       "\n",
       "Coefficients:\n",
       "                         Estimate Std. Error z value Pr(>|z|)\n",
       "(Intercept)            -1.757e+01  4.798e+02  -0.037    0.971\n",
       "work_typeGovt_job       1.451e+01  4.798e+02   0.030    0.976\n",
       "work_typeNever_worked  -1.793e-08  1.161e+03   0.000    1.000\n",
       "work_typePrivate        1.461e+01  4.798e+02   0.030    0.976\n",
       "work_typeSelf-employed  1.507e+01  4.798e+02   0.031    0.975\n",
       "\n",
       "(Dispersion parameter for binomial family taken to be 1)\n",
       "\n",
       "    Null deviance: 1410.9  on 3424  degrees of freedom\n",
       "Residual deviance: 1394.7  on 3420  degrees of freedom\n",
       "AIC: 1404.7\n",
       "\n",
       "Number of Fisher Scoring iterations: 16\n"
      ]
     },
     "metadata": {},
     "output_type": "display_data"
    }
   ],
   "source": [
    "model_worktype = glm(stroke ~ work_type, data=strokedata, family=binomial(link=\"logit\"))\n",
    "summary(model_worktype)"
   ]
  },
  {
   "cell_type": "markdown",
   "id": "54a2bfb1-0d84-4f39-9664-eb3be1663e46",
   "metadata": {},
   "source": [
    "- <span style=\"color:blue\"> z-test的p-value都很大，表示我們沒辦法拒絕下面的$H_0$ </span>\n",
    "\\begin{align*}\n",
    "&H_0: \\beta_{\\rm{GovJob}} = 0 \\\\\n",
    "&H_0: \\beta_{\\rm{Neverworked}} = 0 \\\\ \n",
    "&H_0: \\beta_{\\rm{Private}} = 0 \\\\\n",
    "&H_0: \\beta_{\\rm{Selfemployed}} = 0\n",
    "\\end{align*}\n",
    "\n",
    "- <span style=\"color:blue\"> 因此，工作型態對於預測中風是沒有幫助的，後面的模型不會考慮此解釋變數</span>"
   ]
  },
  {
   "cell_type": "markdown",
   "id": "66c1d229-49b1-4958-91e9-50ba476438ec",
   "metadata": {},
   "source": [
    "### Smoke Status(沒抽過煙、戒煙的人、正在抽煙的人)\n",
    "$$\n",
    "\\log{\\left(\\frac{P[\\rm{stroke}=1]}{P[\\rm{stroke}=0]}\\right)} = \\beta_0 + \\beta_{\\rm{Former-smoke}}x_{\\rm{Former-smoke}} + \\beta_{\\rm{smoke}}x_{\\rm{smoke}}\n",
    "$$\n",
    "- Baseline group: 'never smoked'"
   ]
  },
  {
   "cell_type": "code",
   "execution_count": 7,
   "id": "5d7cfe08-2c55-43f4-80c4-6dff6ce53c2e",
   "metadata": {},
   "outputs": [
    {
     "data": {
      "text/plain": [
       "\n",
       "Call:\n",
       "glm(formula = stroke ~ smoking_status, family = binomial(link = \"logit\"), \n",
       "    data = strokedata)\n",
       "\n",
       "Deviance Residuals: \n",
       "    Min       1Q   Median       3Q      Max  \n",
       "-0.3758  -0.3297  -0.3047  -0.3047   2.4872  \n",
       "\n",
       "Coefficients:\n",
       "                              Estimate Std. Error z value Pr(>|z|)    \n",
       "(Intercept)                    -3.0468     0.1117 -27.287   <2e-16 ***\n",
       "smoking_statusformerly smoked   0.4318     0.1769   2.441   0.0146 *  \n",
       "smoking_statussmokes            0.1621     0.1988   0.815   0.4149    \n",
       "---\n",
       "Signif. codes:  0 ‘***’ 0.001 ‘**’ 0.01 ‘*’ 0.05 ‘.’ 0.1 ‘ ’ 1\n",
       "\n",
       "(Dispersion parameter for binomial family taken to be 1)\n",
       "\n",
       "    Null deviance: 1410.9  on 3424  degrees of freedom\n",
       "Residual deviance: 1405.1  on 3422  degrees of freedom\n",
       "AIC: 1411.1\n",
       "\n",
       "Number of Fisher Scoring iterations: 5\n"
      ]
     },
     "metadata": {},
     "output_type": "display_data"
    }
   ],
   "source": [
    "strokedata$smoking_status <- factor(strokedata$smoking_status, levels= c('never smoked', 'formerly smoked', 'smokes'))\n",
    "model_smoke = glm(stroke ~ smoking_status, data=strokedata, family=binomial(link=\"logit\"))\n",
    "summary(model_smoke)"
   ]
  },
  {
   "cell_type": "markdown",
   "id": "2212b0f0-917b-40a9-9b2d-ecea53d55d55",
   "metadata": {},
   "source": [
    "- <span style=\"color:blue\">$\\beta_{\\rm{Former-smoke}}>0$, $\\beta_{\\rm{smoke}}>0$:  相比於不抽煙的人(Baseline)，有抽過煙會增加中風的機率</span>\n",
    "- <span style=\"color:blue\">$\\beta_{\\rm{Former-smoke}}>\\beta_{\\rm{smoke}}$: 這裡是比較違反直覺的地方，\"戒煙的人\"竟然比\"目前還在抽煙的人\"更容易中風</span>\n",
    "- <span style=\"color:blue\">$\\beta_{\\rm{smoke}}$ Z-test的p-value=0.4149: 表示抽煙狀態對於預測中風，沒有前面幾個變數來的重要</span>"
   ]
  },
  {
   "cell_type": "markdown",
   "id": "2de74d0f-e15b-48f3-a940-24e332087294",
   "metadata": {},
   "source": [
    "## Model Selection: with/without smoke status\n",
    "\n",
    "- <span style=\"color:blue\"> 為了決定是否要將smoke status考慮進去最後的模型，我們用likelihood-ratio test做Model Selection</span>\n",
    "\n",
    "- Full Model:\n",
    "$$\n",
    "\\log{\\left(\\frac{P[\\rm{stroke}=1]}{P[\\rm{stroke}=0]}\\right)} = \\beta_0 + \\beta_{\\rm{hypert}}x_{\\rm{hypert}}+ \\beta_{\\rm{heartd}}x_{\\rm{heartd}}+ \\beta_{\\rm{marry}}x_{\\rm{marry}} + \\beta_{\\rm{Former-smoke}}x_{\\rm{Former-smoke}} + \\beta_{\\rm{smoke}}x_{\\rm{smoke}}\n",
    "$$\n",
    "\n",
    "- Reduced Model: \n",
    "$$\n",
    "\\log{\\left(\\frac{P[\\rm{stroke}=1]}{P[\\rm{stroke}=0]}\\right)} = \\beta_0 + \\beta_{\\rm{hypert}}x_{\\rm{hypert}}+ \\beta_{\\rm{heartd}}x_{\\rm{heartd}}+ \\beta_{\\rm{marry}}x_{\\rm{marry}}\n",
    "$$"
   ]
  },
  {
   "cell_type": "code",
   "execution_count": 8,
   "id": "3f9eeace-08eb-4099-afa9-5f7f0fe007dd",
   "metadata": {},
   "outputs": [
    {
     "data": {
      "text/plain": [
       "\n",
       "Call:\n",
       "glm(formula = stroke ~ hypertension + heart_disease + ever_married + \n",
       "    smoking_status, family = binomial(link = \"logit\"), data = strokedata)\n",
       "\n",
       "Deviance Residuals: \n",
       "    Min       1Q   Median       3Q      Max  \n",
       "-0.9457  -0.3195  -0.2799  -0.2228   2.8188  \n",
       "\n",
       "Coefficients:\n",
       "                              Estimate Std. Error z value Pr(>|z|)    \n",
       "(Intercept)                    -3.9539     0.2399 -16.479  < 2e-16 ***\n",
       "hypertension                    1.1381     0.1748   6.510 7.52e-11 ***\n",
       "heart_disease                   1.2388     0.2099   5.902 3.60e-09 ***\n",
       "ever_marriedYes                 0.7338     0.2451   2.994  0.00275 ** \n",
       "smoking_statusformerly smoked   0.2704     0.1824   1.482  0.13822    \n",
       "smoking_statussmokes            0.0779     0.2036   0.383  0.70202    \n",
       "---\n",
       "Signif. codes:  0 ‘***’ 0.001 ‘**’ 0.01 ‘*’ 0.05 ‘.’ 0.1 ‘ ’ 1\n",
       "\n",
       "(Dispersion parameter for binomial family taken to be 1)\n",
       "\n",
       "    Null deviance: 1410.9  on 3424  degrees of freedom\n",
       "Residual deviance: 1311.8  on 3419  degrees of freedom\n",
       "AIC: 1323.8\n",
       "\n",
       "Number of Fisher Scoring iterations: 6\n"
      ]
     },
     "metadata": {},
     "output_type": "display_data"
    }
   ],
   "source": [
    "model_full = glm(stroke ~ hypertension + heart_disease + ever_married + smoking_status, data=strokedata, family=binomial(link=\"logit\"))\n",
    "summary(model_full)"
   ]
  },
  {
   "cell_type": "code",
   "execution_count": 9,
   "id": "8b9eecb9-2746-44e0-8c05-78551003ee79",
   "metadata": {},
   "outputs": [
    {
     "data": {
      "text/plain": [
       "\n",
       "Call:\n",
       "glm(formula = stroke ~ hypertension + heart_disease + ever_married, \n",
       "    family = binomial(link = \"logit\"), data = strokedata)\n",
       "\n",
       "Deviance Residuals: \n",
       "    Min       1Q   Median       3Q      Max  \n",
       "-0.8899  -0.2930  -0.2930  -0.2013   2.7961  \n",
       "\n",
       "Coefficients:\n",
       "                Estimate Std. Error z value Pr(>|z|)    \n",
       "(Intercept)      -3.8888     0.2308 -16.852  < 2e-16 ***\n",
       "hypertension      1.1373     0.1746   6.513 7.37e-11 ***\n",
       "heart_disease     1.2674     0.2085   6.080 1.20e-09 ***\n",
       "ever_marriedYes   0.7621     0.2443   3.120  0.00181 ** \n",
       "---\n",
       "Signif. codes:  0 ‘***’ 0.001 ‘**’ 0.01 ‘*’ 0.05 ‘.’ 0.1 ‘ ’ 1\n",
       "\n",
       "(Dispersion parameter for binomial family taken to be 1)\n",
       "\n",
       "    Null deviance: 1410.9  on 3424  degrees of freedom\n",
       "Residual deviance: 1313.9  on 3421  degrees of freedom\n",
       "AIC: 1321.9\n",
       "\n",
       "Number of Fisher Scoring iterations: 6\n"
      ]
     },
     "metadata": {},
     "output_type": "display_data"
    }
   ],
   "source": [
    "model_reduce = glm(stroke ~ hypertension + heart_disease + ever_married, data=strokedata, family=binomial(link=\"logit\"))\n",
    "summary(model_reduce)"
   ]
  },
  {
   "cell_type": "markdown",
   "id": "75d9d6f2-ba16-4e03-8ca8-15a7f06e3840",
   "metadata": {},
   "source": [
    "### Likelihood-Ratio Test\n",
    "- Full Model與Reduced Model的差異可以轉換成  $H_0: \\beta_{\\rm{Former-smoke}} = \\beta_{\\rm{smoke}}= 0$"
   ]
  },
  {
   "cell_type": "code",
   "execution_count": 10,
   "id": "7fa65053-1343-4b2d-9ac0-1e37ab8452e8",
   "metadata": {},
   "outputs": [
    {
     "data": {
      "text/html": [
       "<table>\n",
       "<thead><tr><th scope=col>Resid. Df</th><th scope=col>Resid. Dev</th><th scope=col>Df</th><th scope=col>Deviance</th><th scope=col>Pr(&gt;Chi)</th></tr></thead>\n",
       "<tbody>\n",
       "\t<tr><td>3421     </td><td>1313.945 </td><td>NA       </td><td>      NA </td><td>       NA</td></tr>\n",
       "\t<tr><td>3419     </td><td>1311.770 </td><td> 2       </td><td>2.175009 </td><td>0.3370566</td></tr>\n",
       "</tbody>\n",
       "</table>\n"
      ],
      "text/latex": [
       "\\begin{tabular}{r|lllll}\n",
       " Resid. Df & Resid. Dev & Df & Deviance & Pr(>Chi)\\\\\n",
       "\\hline\n",
       "\t 3421      & 1313.945  & NA        &       NA  &        NA\\\\\n",
       "\t 3419      & 1311.770  &  2        & 2.175009  & 0.3370566\\\\\n",
       "\\end{tabular}\n"
      ],
      "text/markdown": [
       "\n",
       "| Resid. Df | Resid. Dev | Df | Deviance | Pr(>Chi) |\n",
       "|---|---|---|---|---|\n",
       "| 3421      | 1313.945  | NA        |       NA  |        NA |\n",
       "| 3419      | 1311.770  |  2        | 2.175009  | 0.3370566 |\n",
       "\n"
      ],
      "text/plain": [
       "  Resid. Df Resid. Dev Df Deviance Pr(>Chi) \n",
       "1 3421      1313.945   NA       NA        NA\n",
       "2 3419      1311.770    2 2.175009 0.3370566"
      ]
     },
     "metadata": {},
     "output_type": "display_data"
    }
   ],
   "source": [
    "anova(model_reduce, model_full, test=\"LRT\")"
   ]
  },
  {
   "cell_type": "markdown",
   "id": "95ae77fb-eaf1-420e-ac6d-e1d47400b720",
   "metadata": {},
   "source": [
    "- 根據Deviance的p-value=0.3370\n",
    "    - <span style=\"color:blue\"> 不能拒絕 $H_0$，所以Final Model將不考慮\"抽煙狀態\"的變數</span>"
   ]
  },
  {
   "cell_type": "markdown",
   "id": "97180930-6113-4792-8e87-f18c09db34cb",
   "metadata": {},
   "source": [
    "## Final Model\n",
    "$$\n",
    "\\log{\\left(\\frac{P[\\rm{stroke}=1]}{P[\\rm{stroke}=0]}\\right)} = \\beta_0 + \\beta_{\\rm{hypert}}x_{\\rm{hypert}}+ \\beta_{\\rm{heartd}}x_{\\rm{heartd}}+ \\beta_{\\rm{marry}}x_{\\rm{marry}}\n",
    "$$"
   ]
  },
  {
   "cell_type": "code",
   "execution_count": 11,
   "id": "ab14160a-1d9f-415c-bdfb-ced8285c1f65",
   "metadata": {
    "tags": []
   },
   "outputs": [
    {
     "data": {
      "text/plain": [
       "\n",
       "Call:\n",
       "glm(formula = stroke ~ hypertension + heart_disease + ever_married, \n",
       "    family = binomial(link = \"logit\"), data = strokedata)\n",
       "\n",
       "Deviance Residuals: \n",
       "    Min       1Q   Median       3Q      Max  \n",
       "-0.8899  -0.2930  -0.2930  -0.2013   2.7961  \n",
       "\n",
       "Coefficients:\n",
       "                Estimate Std. Error z value Pr(>|z|)    \n",
       "(Intercept)      -3.8888     0.2308 -16.852  < 2e-16 ***\n",
       "hypertension      1.1373     0.1746   6.513 7.37e-11 ***\n",
       "heart_disease     1.2674     0.2085   6.080 1.20e-09 ***\n",
       "ever_marriedYes   0.7621     0.2443   3.120  0.00181 ** \n",
       "---\n",
       "Signif. codes:  0 ‘***’ 0.001 ‘**’ 0.01 ‘*’ 0.05 ‘.’ 0.1 ‘ ’ 1\n",
       "\n",
       "(Dispersion parameter for binomial family taken to be 1)\n",
       "\n",
       "    Null deviance: 1410.9  on 3424  degrees of freedom\n",
       "Residual deviance: 1313.9  on 3421  degrees of freedom\n",
       "AIC: 1321.9\n",
       "\n",
       "Number of Fisher Scoring iterations: 6\n"
      ]
     },
     "metadata": {},
     "output_type": "display_data"
    }
   ],
   "source": [
    "summary(model_reduce)"
   ]
  },
  {
   "cell_type": "markdown",
   "id": "6e7b3f02-8c20-4c64-af4f-766a409f6bf1",
   "metadata": {},
   "source": [
    "### 模型解釋:"
   ]
  },
  {
   "cell_type": "markdown",
   "id": "f9ff0fd8-a688-4a22-b63b-75787b29efa4",
   "metadata": {},
   "source": [
    "由於這三個解釋變數都是類別型，我們可以用final model來探討不同的狀況\n",
    "- 例如: 最左邊的藍色點，代表的是 \"沒有結婚\" \"沒有高血壓\" \"沒有心臟病\"的中風機率，可以看到非常的低。"
   ]
  },
  {
   "cell_type": "markdown",
   "id": "35537503-e1c9-4851-b5a6-635e8f9db60e",
   "metadata": {},
   "source": [
    "```{image} ./images/cate_model_full_plot.png\n",
    ":alt: glucose_stroke\n",
    ":class: bg-primary mb-1\n",
    ":width: 800px\n",
    ":align: center\n",
    "```"
   ]
  },
  {
   "cell_type": "markdown",
   "id": "2cb21e26-180c-4ba1-8591-713c3feb0b38",
   "metadata": {},
   "source": [
    "- <span style=\"color:blue\"> $\\beta_{\\rm{heartd}} > \\beta_{\\rm{hypert}} > \\beta_{\\rm{marry}}>0$</span>\n",
    "   - \"有高血壓\"、\"有心臟疾病\"與\"有結過婚\"都會增加中風機率。如上圖最右邊灰色的點，三種狀況都有，擁有最高的中風機率\n",
    "   - 有心臟病的影響是最大的，其次是高血壓，最後是結婚狀態"
   ]
  },
  {
   "cell_type": "markdown",
   "id": "e8049343-da92-4955-9069-c02972602a30",
   "metadata": {},
   "source": [
    "<p style=\"page-break-before: always\">"
   ]
  },
  {
   "cell_type": "code",
   "execution_count": null,
   "id": "6249653e-95b7-4b9e-8356-788305bbe6c3",
   "metadata": {},
   "outputs": [],
   "source": []
  }
 ],
 "metadata": {
  "kernelspec": {
   "display_name": "R",
   "language": "R",
   "name": "ir"
  },
  "language_info": {
   "codemirror_mode": "r",
   "file_extension": ".r",
   "mimetype": "text/x-r-source",
   "name": "R",
   "pygments_lexer": "r",
   "version": "3.6.1"
  }
 },
 "nbformat": 4,
 "nbformat_minor": 5
}