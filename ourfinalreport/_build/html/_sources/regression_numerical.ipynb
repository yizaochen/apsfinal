{
 "cells": [
  {
   "cell_type": "markdown",
   "id": "8b0fad3b-9ba4-4382-b537-ba82d8d58ffa",
   "metadata": {},
   "source": [
    "# 迴歸分析: 數值型變數"
   ]
  },
  {
   "cell_type": "code",
   "execution_count": null,
   "id": "9e10f51c-7697-40a6-90fe-6257c91e6b35",
   "metadata": {},
   "outputs": [],
   "source": []
  }
 ],
 "metadata": {
  "kernelspec": {
   "display_name": "Python 3",
   "language": "python",
   "name": "python3"
  },
  "language_info": {
   "codemirror_mode": {
    "name": "ipython",
    "version": 3
   },
   "file_extension": ".py",
   "mimetype": "text/x-python",
   "name": "python",
   "nbconvert_exporter": "python",
   "pygments_lexer": "ipython3",
   "version": "3.8.8"
  }
 },
 "nbformat": 4,
 "nbformat_minor": 5
}
